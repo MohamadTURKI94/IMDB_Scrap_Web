{
 "cells": [
  {
   "cell_type": "markdown",
   "metadata": {},
   "source": [
    "Scrapper l'ensemble des informations des startup du site UD\n",
    "\n",
    "- Récupérer les url des startup de la page 1\n",
    "\n",
    "- Récupérer pour chaque startup, les informations demandées\n",
    "\n",
    "- Généralisation ie parcourir l'ensemble des pages pour récupérer les informations demandées"
   ]
  },
  {
   "cell_type": "markdown",
   "metadata": {},
   "source": [
    "# Etape 1 : Récupérer les url des startup de la page 1"
   ]
  },
  {
   "cell_type": "markdown",
   "metadata": {},
   "source": [
    "a) Récupérer les url à partir du html de la page que je parse et je les place ensuite dnas une liste"
   ]
  },
  {
   "cell_type": "code",
   "execution_count": 1,
   "metadata": {},
   "outputs": [
    {
     "data": {
      "text/plain": [
       "' \\n\\n\\n\\n\\n\\n\\n\\n\\n'"
      ]
     },
     "execution_count": 1,
     "metadata": {},
     "output_type": "execute_result"
    }
   ],
   "source": [
    "#https://www.usine-digitale.fr/annuaire-start-up/\n",
    "\n",
    "import requests\n",
    "from bs4 import BeautifulSoup\n",
    "\n",
    "urlUsineDigit = 'https://www.usine-digitale.fr/annuaire-start-up/'\n",
    "soupStartup = BeautifulSoup(requests.get(\"https://www.usine-digitale.fr/annuaire-start-up/\").text, 'html.parser')\n",
    "\n",
    "soupStartup.text[0:10] ### Afficher les 10 premiers élements"
   ]
  },
  {
   "cell_type": "code",
   "execution_count": 2,
   "metadata": {},
   "outputs": [
    {
     "data": {
      "text/plain": [
       "[<a class=\"contenu\" href=\"/annuaire-start-up/veracash,1092284\" itemprop=\"url\">\n",
       " <div class=\"texteContenu3\">\n",
       " <h2 class=\"titreType2\" itemprop=\"name\">VeraCash</h2>\n",
       " <p class=\"chapoType1 isNoMobile\" itemprop=\"description\">La start-up VeraCash développe un moyen de paiement alternatif. Elle met à la disposition de ses clients […]</p>\n",
       " </div>\n",
       " <figure class=\"imgContenu3\" itemprop=\"image\" itemscope=\"\" itemtype=\"https://schema.org/ImageObject\">\n",
       " <img alt=\"VeraCash\" src=\"/mediatheque/4/2/1/000962124_pageListeCropped/veracash.png\"/>\n",
       " <figcaption>VeraCash</figcaption>\n",
       " <meta content=\"/mediatheque/4/2/1/000962124_pageListeCropped/veracash.png\" itemprop=\"contentUrl\"/>\n",
       " <meta content=\"200\" itemprop=\"width\"/>\n",
       " <meta content=\"200\" itemprop=\"height\"/>\n",
       " <meta content=\"VeraCash\" itemprop=\"caption\"/>\n",
       " <meta content=\"Financement et crowdfunding\" itemprop=\"keywords\"/>\n",
       " </figure>\n",
       " </a>,\n",
       " <a class=\"contenu\" href=\"/annuaire-start-up/tool-advisor,1092279\" itemprop=\"url\">\n",
       " <div class=\"texteContenu3\">\n",
       " <h2 class=\"titreType2\" itemprop=\"name\">Tool Advisor</h2>\n",
       " <p class=\"chapoType1 isNoMobile\" itemprop=\"description\">La start-up Tool Advisor développe une plateforme de conseils de logiciels à destination des entrepreneurs […]</p>\n",
       " </div>\n",
       " <figure class=\"imgContenu3\" itemprop=\"image\" itemscope=\"\" itemtype=\"https://schema.org/ImageObject\">\n",
       " <img alt=\"Tool Advisor\" src=\"/mediatheque/9/1/1/000962119_pageListeCropped/tool-advisor.jpg\"/>\n",
       " <figcaption>Tool Advisor</figcaption>\n",
       " <meta content=\"/mediatheque/9/1/1/000962119_pageListeCropped/tool-advisor.jpg\" itemprop=\"contentUrl\"/>\n",
       " <meta content=\"755\" itemprop=\"width\"/>\n",
       " <meta content=\"755\" itemprop=\"height\"/>\n",
       " <meta content=\"Tool Advisor\" itemprop=\"caption\"/>\n",
       " <meta content=\"Logiciels\" itemprop=\"keywords\"/>\n",
       " </figure>\n",
       " </a>,\n",
       " <a class=\"contenu\" href=\"/annuaire-start-up/peoplespheres,1092274\" itemprop=\"url\">\n",
       " <div class=\"texteContenu3\">\n",
       " <h2 class=\"titreType2\" itemprop=\"name\">PeopleSpheres</h2>\n",
       " <p class=\"chapoType1 isNoMobile\" itemprop=\"description\">La start-up PeopleSpheres développe des solutions PaaS RH (Platform as a Service) dans le domaine des ressources […]</p>\n",
       " </div>\n",
       " <figure class=\"imgContenu3\" itemprop=\"image\" itemscope=\"\" itemtype=\"https://schema.org/ImageObject\">\n",
       " <img alt=\"PeopleSpheres\" src=\"/mediatheque/4/1/1/000962114_pageListeCropped/peoplespheres.png\"/>\n",
       " <figcaption>PeopleSpheres</figcaption>\n",
       " <meta content=\"/mediatheque/4/1/1/000962114_pageListeCropped/peoplespheres.png\" itemprop=\"contentUrl\"/>\n",
       " <meta content=\"200\" itemprop=\"width\"/>\n",
       " <meta content=\"200\" itemprop=\"height\"/>\n",
       " <meta content=\"PeopleSpheres\" itemprop=\"caption\"/>\n",
       " <meta content=\"Logiciels\" itemprop=\"keywords\"/>\n",
       " </figure>\n",
       " </a>,\n",
       " <a class=\"contenu\" href=\"/annuaire-start-up/ocus,1092264\" itemprop=\"url\">\n",
       " <div class=\"texteContenu3\">\n",
       " <h2 class=\"titreType2\" itemprop=\"name\">Ocus</h2>\n",
       " <p class=\"chapoType1 isNoMobile\" itemprop=\"description\">La start-up Ocus développe une plateforme de machine learning d'optimisation des images. Elle propose […]</p>\n",
       " </div>\n",
       " <figure class=\"imgContenu3\" itemprop=\"image\" itemscope=\"\" itemtype=\"https://schema.org/ImageObject\">\n",
       " <img alt=\"Ocus\" src=\"/mediatheque/9/0/1/000962109_pageListeCropped/ocus.png\"/>\n",
       " <figcaption>Ocus</figcaption>\n",
       " <meta content=\"/mediatheque/9/0/1/000962109_pageListeCropped/ocus.png\" itemprop=\"contentUrl\"/>\n",
       " <meta content=\"200\" itemprop=\"width\"/>\n",
       " <meta content=\"200\" itemprop=\"height\"/>\n",
       " <meta content=\"Ocus\" itemprop=\"caption\"/>\n",
       " <meta content=\"Photo et vidéo\" itemprop=\"keywords\"/>\n",
       " </figure>\n",
       " </a>,\n",
       " <a class=\"contenu\" href=\"/annuaire-start-up/sunday,1089474\" itemprop=\"url\">\n",
       " <div class=\"texteContenu3\">\n",
       " <h2 class=\"titreType2\" itemprop=\"name\">Sunday</h2>\n",
       " <p class=\"chapoType1 isNoMobile\" itemprop=\"description\">La start-up Sunday développe une solution de paiement par QR Code pour les restaurants. Elle propose une appli […]</p>\n",
       " </div>\n",
       " <figure class=\"imgContenu3\" itemprop=\"image\" itemscope=\"\" itemtype=\"https://schema.org/ImageObject\">\n",
       " <img alt=\"Sunday\" src=\"/mediatheque/9/6/7/000959769_pageListeCropped/sunday.jpg\"/>\n",
       " <figcaption>Sunday</figcaption>\n",
       " <meta content=\"/mediatheque/9/6/7/000959769_pageListeCropped/sunday.jpg\" itemprop=\"contentUrl\"/>\n",
       " <meta content=\"200\" itemprop=\"width\"/>\n",
       " <meta content=\"200\" itemprop=\"height\"/>\n",
       " <meta content=\"Sunday\" itemprop=\"caption\"/>\n",
       " <meta content=\"Applis mobiles\" itemprop=\"keywords\"/>\n",
       " </figure>\n",
       " </a>,\n",
       " <a class=\"contenu\" href=\"/annuaire-start-up/onepilot,1089469\" itemprop=\"url\">\n",
       " <div class=\"texteContenu3\">\n",
       " <h2 class=\"titreType2\" itemprop=\"name\">Onepilot</h2>\n",
       " <p class=\"chapoType1 isNoMobile\" itemprop=\"description\">La start-up Onepilot offre une solution B2B d’externalisation et de gestion du service client. Elle propose les […]</p>\n",
       " </div>\n",
       " <figure class=\"imgContenu3\" itemprop=\"image\" itemscope=\"\" itemtype=\"https://schema.org/ImageObject\">\n",
       " <img alt=\"Onepilot\" src=\"/mediatheque/4/6/7/000959764_pageListeCropped/onepilot.jpg\"/>\n",
       " <figcaption>Onepilot</figcaption>\n",
       " <meta content=\"/mediatheque/4/6/7/000959764_pageListeCropped/onepilot.jpg\" itemprop=\"contentUrl\"/>\n",
       " <meta content=\"200\" itemprop=\"width\"/>\n",
       " <meta content=\"200\" itemprop=\"height\"/>\n",
       " <meta content=\"Onepilot\" itemprop=\"caption\"/>\n",
       " <meta content=\"Webmarketing\" itemprop=\"keywords\"/>\n",
       " </figure>\n",
       " </a>,\n",
       " <a class=\"contenu\" href=\"/annuaire-start-up/imageens,1089464\" itemprop=\"url\">\n",
       " <div class=\"texteContenu3\">\n",
       " <h2 class=\"titreType2\" itemprop=\"name\">Imageens</h2>\n",
       " <p class=\"chapoType1 isNoMobile\" itemprop=\"description\">Lancée en 2017, la start-up Imageens développe deux solutions spécialisées dans l'IA […]</p>\n",
       " </div>\n",
       " <figure class=\"imgContenu3\" itemprop=\"image\" itemscope=\"\" itemtype=\"https://schema.org/ImageObject\">\n",
       " <img alt=\"Imageens\" src=\"/mediatheque/9/5/7/000959759_pageListeCropped/imageens.jpg\"/>\n",
       " <figcaption>Imageens</figcaption>\n",
       " <meta content=\"/mediatheque/9/5/7/000959759_pageListeCropped/imageens.jpg\" itemprop=\"contentUrl\"/>\n",
       " <meta content=\"200\" itemprop=\"width\"/>\n",
       " <meta content=\"200\" itemprop=\"height\"/>\n",
       " <meta content=\"Imageens\" itemprop=\"caption\"/>\n",
       " <meta content=\"E-santé\" itemprop=\"keywords\"/>\n",
       " </figure>\n",
       " </a>,\n",
       " <a class=\"contenu\" href=\"/annuaire-start-up/glimps,1089459\" itemprop=\"url\">\n",
       " <div class=\"texteContenu3\">\n",
       " <h2 class=\"titreType2\" itemprop=\"name\">Glimps</h2>\n",
       " <p class=\"chapoType1 isNoMobile\" itemprop=\"description\">La start-up Glimps développe une technologie de détection et d’analyse des menaces de […]</p>\n",
       " </div>\n",
       " <figure class=\"imgContenu3\" itemprop=\"image\" itemscope=\"\" itemtype=\"https://schema.org/ImageObject\">\n",
       " <img alt=\"Glimps\" src=\"/mediatheque/4/5/7/000959754_pageListeCropped/glimps.png\"/>\n",
       " <figcaption>Glimps</figcaption>\n",
       " <meta content=\"/mediatheque/4/5/7/000959754_pageListeCropped/glimps.png\" itemprop=\"contentUrl\"/>\n",
       " <meta content=\"200\" itemprop=\"width\"/>\n",
       " <meta content=\"200\" itemprop=\"height\"/>\n",
       " <meta content=\"Glimps\" itemprop=\"caption\"/>\n",
       " <meta content=\"Sécurité numérique\" itemprop=\"keywords\"/>\n",
       " </figure>\n",
       " </a>,\n",
       " <a class=\"contenu\" href=\"/annuaire-start-up/joe,1088874\" itemprop=\"url\">\n",
       " <div class=\"texteContenu3\">\n",
       " <h2 class=\"titreType2\" itemprop=\"name\">Joe</h2>\n",
       " <p class=\"chapoType1 isNoMobile\" itemprop=\"description\">La start-up Joe développe une application de paiement fractionné. Disponible sur iOS et Android, cette […]</p>\n",
       " </div>\n",
       " <figure class=\"imgContenu3\" itemprop=\"image\" itemscope=\"\" itemtype=\"https://schema.org/ImageObject\">\n",
       " <img alt=\"Joe\" src=\"/mediatheque/4/4/3/000959344_pageListeCropped/joe.jpg\"/>\n",
       " <figcaption>Joe</figcaption>\n",
       " <meta content=\"/mediatheque/4/4/3/000959344_pageListeCropped/joe.jpg\" itemprop=\"contentUrl\"/>\n",
       " <meta content=\"200\" itemprop=\"width\"/>\n",
       " <meta content=\"200\" itemprop=\"height\"/>\n",
       " <meta content=\"Joe\" itemprop=\"caption\"/>\n",
       " <meta content=\"Applis mobiles\" itemprop=\"keywords\"/>\n",
       " </figure>\n",
       " </a>,\n",
       " <a class=\"contenu\" href=\"/annuaire-start-up/cryptio,1088869\" itemprop=\"url\">\n",
       " <div class=\"texteContenu3\">\n",
       " <h2 class=\"titreType2\" itemprop=\"name\">Cryptio</h2>\n",
       " <p class=\"chapoType1 isNoMobile\" itemprop=\"description\">La start-up Cryptio développe une solution de comptabilité dédiée aux cryptomonnaies et […]</p>\n",
       " </div>\n",
       " <figure class=\"imgContenu3\" itemprop=\"image\" itemscope=\"\" itemtype=\"https://schema.org/ImageObject\">\n",
       " <img alt=\"Cryptio\" src=\"/mediatheque/9/3/3/000959339_pageListeCropped/cryptio.png\"/>\n",
       " <figcaption>Cryptio</figcaption>\n",
       " <meta content=\"/mediatheque/9/3/3/000959339_pageListeCropped/cryptio.png\" itemprop=\"contentUrl\"/>\n",
       " <meta content=\"200\" itemprop=\"width\"/>\n",
       " <meta content=\"200\" itemprop=\"height\"/>\n",
       " <meta content=\"Cryptio\" itemprop=\"caption\"/>\n",
       " <meta content=\"Services aux entreprises, consulting\" itemprop=\"keywords\"/>\n",
       " </figure>\n",
       " </a>,\n",
       " <a class=\"contenu\" href=\"/annuaire-start-up/altrnativ,1087754\" itemprop=\"url\">\n",
       " <div class=\"texteContenu3\">\n",
       " <h2 class=\"titreType2\" itemprop=\"name\">Altrnativ</h2>\n",
       " <p class=\"chapoType1 isNoMobile\" itemprop=\"description\">Altrnativ développe une solution d’anonymisation des données pour minimiser les risques de […]</p>\n",
       " </div>\n",
       " <figure class=\"imgContenu3\" itemprop=\"image\" itemscope=\"\" itemtype=\"https://schema.org/ImageObject\">\n",
       " <img alt=\"Altrnativ\" src=\"/mediatheque/9/4/6/000958649_pageListeCropped/altrnativ.jpg\"/>\n",
       " <figcaption>Altrnativ</figcaption>\n",
       " <meta content=\"/mediatheque/9/4/6/000958649_pageListeCropped/altrnativ.jpg\" itemprop=\"contentUrl\"/>\n",
       " <meta content=\"200\" itemprop=\"width\"/>\n",
       " <meta content=\"200\" itemprop=\"height\"/>\n",
       " <meta content=\"Altrnativ\" itemprop=\"caption\"/>\n",
       " <meta content=\"Sécurité numérique\" itemprop=\"keywords\"/>\n",
       " </figure>\n",
       " </a>,\n",
       " <a class=\"contenu\" href=\"/annuaire-start-up/acasi,1087544\" itemprop=\"url\">\n",
       " <div class=\"texteContenu3\">\n",
       " <h2 class=\"titreType2\" itemprop=\"name\">Acasi</h2>\n",
       " <p class=\"chapoType1 isNoMobile\" itemprop=\"description\">Acasi développe une solution unique dédiée aux freelances &amp; indépendants pour […]</p>\n",
       " </div>\n",
       " <figure class=\"imgContenu3\" itemprop=\"image\" itemscope=\"\" itemtype=\"https://schema.org/ImageObject\">\n",
       " <img alt=\"Acasi\" src=\"/mediatheque/4/4/5/000958544_pageListeCropped/acasi.png\"/>\n",
       " <figcaption>Acasi</figcaption>\n",
       " <meta content=\"/mediatheque/4/4/5/000958544_pageListeCropped/acasi.png\" itemprop=\"contentUrl\"/>\n",
       " <meta content=\"200\" itemprop=\"width\"/>\n",
       " <meta content=\"200\" itemprop=\"height\"/>\n",
       " <meta content=\"Acasi\" itemprop=\"caption\"/>\n",
       " <meta content=\"Logiciels\" itemprop=\"keywords\"/>\n",
       " </figure>\n",
       " </a>,\n",
       " <a class=\"contenu\" href=\"/annuaire-start-up/onewealthplace,1083829\" itemprop=\"url\">\n",
       " <div class=\"texteContenu3\">\n",
       " <h2 class=\"titreType2\" itemprop=\"name\">OneWealthPlace</h2>\n",
       " <p class=\"chapoType1 isNoMobile\" itemprop=\"description\">La start-up OneWealthPlace développe une solution dédiée aux sociétés de gestion […]</p>\n",
       " </div>\n",
       " <figure class=\"imgContenu3\" itemprop=\"image\" itemscope=\"\" itemtype=\"https://schema.org/ImageObject\">\n",
       " <img alt=\"OneWealthPlace\" src=\"/mediatheque/4/0/7/000955704_pageListeCropped/onewealthplace.png\"/>\n",
       " <figcaption>OneWealthPlace</figcaption>\n",
       " <meta content=\"/mediatheque/4/0/7/000955704_pageListeCropped/onewealthplace.png\" itemprop=\"contentUrl\"/>\n",
       " <meta content=\"200\" itemprop=\"width\"/>\n",
       " <meta content=\"200\" itemprop=\"height\"/>\n",
       " <meta content=\"OneWealthPlace\" itemprop=\"caption\"/>\n",
       " <meta content=\"Logiciels\" itemprop=\"keywords\"/>\n",
       " </figure>\n",
       " </a>,\n",
       " <a class=\"contenu\" href=\"/annuaire-start-up/nabla,1083819\" itemprop=\"url\">\n",
       " <div class=\"texteContenu3\">\n",
       " <h2 class=\"titreType2\" itemprop=\"name\">Nabla</h2>\n",
       " <p class=\"chapoType1 isNoMobile\" itemprop=\"description\">La jeune pousse Nabla développe une application médicale dédiée aux femmes. Cette start-up […]</p>\n",
       " </div>\n",
       " <figure class=\"imgContenu3\" itemprop=\"image\" itemscope=\"\" itemtype=\"https://schema.org/ImageObject\">\n",
       " <img alt=\"Nabla\" src=\"/mediatheque/4/9/6/000955694_pageListeCropped/nabla.jpg\"/>\n",
       " <figcaption>Nabla</figcaption>\n",
       " <meta content=\"/mediatheque/4/9/6/000955694_pageListeCropped/nabla.jpg\" itemprop=\"contentUrl\"/>\n",
       " <meta content=\"200\" itemprop=\"width\"/>\n",
       " <meta content=\"200\" itemprop=\"height\"/>\n",
       " <meta content=\"Nabla\" itemprop=\"caption\"/>\n",
       " <meta content=\"Applis mobiles\" itemprop=\"keywords\"/>\n",
       " <meta content=\"E-santé\" itemprop=\"keywords\"/>\n",
       " </figure>\n",
       " </a>,\n",
       " <a class=\"contenu\" href=\"/annuaire-start-up/id5,1083809\" itemprop=\"url\">\n",
       " <div class=\"texteContenu3\">\n",
       " <h2 class=\"titreType2\" itemprop=\"name\">ID5</h2>\n",
       " <p class=\"chapoType1 isNoMobile\" itemprop=\"description\">La start-up ID5 développe une solution d'identification universelle indépendante pour les plateformes […]</p>\n",
       " </div>\n",
       " <figure class=\"imgContenu3\" itemprop=\"image\" itemscope=\"\" itemtype=\"https://schema.org/ImageObject\">\n",
       " <img alt=\"ID5\" src=\"/mediatheque/9/8/6/000955689_pageListeCropped/id5.png\"/>\n",
       " <figcaption>ID5</figcaption>\n",
       " <meta content=\"/mediatheque/9/8/6/000955689_pageListeCropped/id5.png\" itemprop=\"contentUrl\"/>\n",
       " <meta content=\"200\" itemprop=\"width\"/>\n",
       " <meta content=\"200\" itemprop=\"height\"/>\n",
       " <meta content=\"ID5\" itemprop=\"caption\"/>\n",
       " <meta content=\"Webmarketing\" itemprop=\"keywords\"/>\n",
       " </figure>\n",
       " </a>,\n",
       " <a class=\"contenu\" href=\"/annuaire-start-up/epycure,1083804\" itemprop=\"url\">\n",
       " <div class=\"texteContenu3\">\n",
       " <h2 class=\"titreType2\" itemprop=\"name\">Epycure</h2>\n",
       " <p class=\"chapoType1 isNoMobile\" itemprop=\"description\">La jeune pousse Epycure est spécialisée dans la fabrication et la commercialisation de compléments […]</p>\n",
       " </div>\n",
       " <figure class=\"imgContenu3\" itemprop=\"image\" itemscope=\"\" itemtype=\"https://schema.org/ImageObject\">\n",
       " <img alt=\"Epycure\" src=\"/mediatheque/4/8/6/000955684_pageListeCropped/epycure.jpg\"/>\n",
       " <figcaption>Epycure</figcaption>\n",
       " <meta content=\"/mediatheque/4/8/6/000955684_pageListeCropped/epycure.jpg\" itemprop=\"contentUrl\"/>\n",
       " <meta content=\"200\" itemprop=\"width\"/>\n",
       " <meta content=\"200\" itemprop=\"height\"/>\n",
       " <meta content=\"Epycure\" itemprop=\"caption\"/>\n",
       " <meta content=\"Commerce en ligne, e-business\" itemprop=\"keywords\"/>\n",
       " <meta content=\"Cosmétique, bien-être\" itemprop=\"keywords\"/>\n",
       " </figure>\n",
       " </a>,\n",
       " <a class=\"contenu\" href=\"/annuaire-start-up/sensaterra,1083039\" itemprop=\"url\">\n",
       " <div class=\"texteContenu3\">\n",
       " <h2 class=\"titreType2\" itemprop=\"name\">Sensaterra</h2>\n",
       " <p class=\"chapoType1 isNoMobile\" itemprop=\"description\">La jeune pousse Sensaterra développe une plateforme digitale de ventes en ligne dédiée à la […]</p>\n",
       " </div>\n",
       " <figure class=\"imgContenu3\" itemprop=\"image\" itemscope=\"\" itemtype=\"https://schema.org/ImageObject\">\n",
       " <img alt=\"Sensaterra\" src=\"/mediatheque/4/3/1/000955134_pageListeCropped/sensaterra.jpg\"/>\n",
       " <figcaption>Sensaterra</figcaption>\n",
       " <meta content=\"/mediatheque/4/3/1/000955134_pageListeCropped/sensaterra.jpg\" itemprop=\"contentUrl\"/>\n",
       " <meta content=\"200\" itemprop=\"width\"/>\n",
       " <meta content=\"200\" itemprop=\"height\"/>\n",
       " <meta content=\"Sensaterra\" itemprop=\"caption\"/>\n",
       " <meta content=\"Commerce en ligne, e-business\" itemprop=\"keywords\"/>\n",
       " <meta content=\"Restauration, recette, cuisine, vin\" itemprop=\"keywords\"/>\n",
       " </figure>\n",
       " </a>,\n",
       " <a class=\"contenu\" href=\"/annuaire-start-up/witick,1082504\" itemprop=\"url\">\n",
       " <div class=\"texteContenu3\">\n",
       " <h2 class=\"titreType2\" itemprop=\"name\">Witick</h2>\n",
       " <p class=\"chapoType1 isNoMobile\" itemprop=\"description\">La jeune pousse Witick propose une solution numérique de réservation de trajets en transports en commun. […]</p>\n",
       " </div>\n",
       " <figure class=\"imgContenu3\" itemprop=\"image\" itemscope=\"\" itemtype=\"https://schema.org/ImageObject\">\n",
       " <img alt=\"Witick\" src=\"/mediatheque/4/9/7/000954794_pageListeCropped/witick.png\"/>\n",
       " <figcaption>Witick</figcaption>\n",
       " <meta content=\"/mediatheque/4/9/7/000954794_pageListeCropped/witick.png\" itemprop=\"contentUrl\"/>\n",
       " <meta content=\"200\" itemprop=\"width\"/>\n",
       " <meta content=\"200\" itemprop=\"height\"/>\n",
       " <meta content=\"Witick\" itemprop=\"caption\"/>\n",
       " <meta content=\"Applis mobiles\" itemprop=\"keywords\"/>\n",
       " <meta content=\"Mobilité, écomobilité\" itemprop=\"keywords\"/>\n",
       " </figure>\n",
       " </a>,\n",
       " <a class=\"contenu\" href=\"/annuaire-start-up/nothing2install,1082484\" itemprop=\"url\">\n",
       " <div class=\"texteContenu3\">\n",
       " <h2 class=\"titreType2\" itemprop=\"name\">Nothing2install</h2>\n",
       " <p class=\"chapoType1 isNoMobile\" itemprop=\"description\">La jeune pousse Nothing2install (N2I) propose une technologie brevetée de streaming d’applications, de jeux […]</p>\n",
       " </div>\n",
       " <figure class=\"imgContenu3\" itemprop=\"image\" itemscope=\"\" itemtype=\"https://schema.org/ImageObject\">\n",
       " <img alt=\"Nothing2install\" src=\"/mediatheque/4/8/7/000954784_pageListeCropped/nothing2install.jpg\"/>\n",
       " <figcaption>Nothing2install</figcaption>\n",
       " <meta content=\"/mediatheque/4/8/7/000954784_pageListeCropped/nothing2install.jpg\" itemprop=\"contentUrl\"/>\n",
       " <meta content=\"200\" itemprop=\"width\"/>\n",
       " <meta content=\"200\" itemprop=\"height\"/>\n",
       " <meta content=\"Nothing2install\" itemprop=\"caption\"/>\n",
       " <meta content=\"Logiciels\" itemprop=\"keywords\"/>\n",
       " <meta content=\"Application\" itemprop=\"keywords\"/>\n",
       " </figure>\n",
       " </a>,\n",
       " <a class=\"contenu\" href=\"/annuaire-start-up/la-maison-j-u-s,1082479\" itemprop=\"url\">\n",
       " <div class=\"texteContenu3\">\n",
       " <h2 class=\"titreType2\" itemprop=\"name\">La Maison J.U.S</h2>\n",
       " <p class=\"chapoType1 isNoMobile\" itemprop=\"description\">La Maison J.U.S est spécialisée dans la création et commercialisation parfums. Elle propose 2 […]</p>\n",
       " </div>\n",
       " <figure class=\"imgContenu3\" itemprop=\"image\" itemscope=\"\" itemtype=\"https://schema.org/ImageObject\">\n",
       " <img alt=\"La Maison J.U.S\" src=\"/mediatheque/9/7/7/000954779_pageListeCropped/la-maison-j-u-s.jpg\"/>\n",
       " <figcaption>La Maison J.U.S</figcaption>\n",
       " <meta content=\"/mediatheque/9/7/7/000954779_pageListeCropped/la-maison-j-u-s.jpg\" itemprop=\"contentUrl\"/>\n",
       " <meta content=\"200\" itemprop=\"width\"/>\n",
       " <meta content=\"200\" itemprop=\"height\"/>\n",
       " <meta content=\"La Maison J.U.S\" itemprop=\"caption\"/>\n",
       " <meta content=\"Commerce en ligne, e-business\" itemprop=\"keywords\"/>\n",
       " </figure>\n",
       " </a>]"
      ]
     },
     "execution_count": 2,
     "metadata": {},
     "output_type": "execute_result"
    }
   ],
   "source": [
    "soupStartup.find_all('a', attrs = {\"class\":\"contenu\"} ) #### Récupération de l'ensemble des url"
   ]
  },
  {
   "cell_type": "code",
   "execution_count": 3,
   "metadata": {},
   "outputs": [
    {
     "data": {
      "text/plain": [
       "20"
      ]
     },
     "execution_count": 3,
     "metadata": {},
     "output_type": "execute_result"
    }
   ],
   "source": [
    "len(soupStartup.find_all('a', attrs = {\"class\":\"contenu\"} )) #### On a 20 élements - url par page"
   ]
  },
  {
   "cell_type": "code",
   "execution_count": 2,
   "metadata": {},
   "outputs": [
    {
     "ename": "NameError",
     "evalue": "name 'soupStartup' is not defined",
     "output_type": "error",
     "traceback": [
      "\u001b[1;31m---------------------------------------------------------------------------\u001b[0m",
      "\u001b[1;31mNameError\u001b[0m                                 Traceback (most recent call last)",
      "\u001b[1;32m<ipython-input-2-dc806012a3e3>\u001b[0m in \u001b[0;36m<module>\u001b[1;34m\u001b[0m\n\u001b[0;32m      1\u001b[0m \u001b[1;31m#### Etape 3: Trouver les balises contentant les url\u001b[0m\u001b[1;33m\u001b[0m\u001b[1;33m\u001b[0m\u001b[1;33m\u001b[0m\u001b[0m\n\u001b[1;32m----> 2\u001b[1;33m \u001b[0msoupStartup\u001b[0m\u001b[1;33m.\u001b[0m\u001b[0mfind_all\u001b[0m\u001b[1;33m(\u001b[0m\u001b[1;34m'a'\u001b[0m\u001b[1;33m,\u001b[0m \u001b[0mattrs\u001b[0m\u001b[1;33m=\u001b[0m\u001b[1;33m{\u001b[0m\u001b[1;34m'class'\u001b[0m\u001b[1;33m:\u001b[0m\u001b[1;34m'contenu'\u001b[0m\u001b[1;33m}\u001b[0m\u001b[1;33m)\u001b[0m\u001b[1;33m\u001b[0m\u001b[1;33m\u001b[0m\u001b[0m\n\u001b[0m",
      "\u001b[1;31mNameError\u001b[0m: name 'soupStartup' is not defined"
     ]
    }
   ],
   "source": [
    "#### Etape 3: Trouver les balises contentant les url\n",
    "soupStartup.find_all('a', attrs={'class':'contenu'})"
   ]
  },
  {
   "cell_type": "code",
   "execution_count": 5,
   "metadata": {},
   "outputs": [
    {
     "data": {
      "text/plain": [
       "'/annuaire-start-up/veracash,1092284'"
      ]
     },
     "execution_count": 5,
     "metadata": {},
     "output_type": "execute_result"
    }
   ],
   "source": [
    "soupStartup.find_all('a', attrs={'class':'contenu'})[0]['href'] #### Premier url associé à la premier balise"
   ]
  },
  {
   "cell_type": "code",
   "execution_count": 6,
   "metadata": {},
   "outputs": [
    {
     "data": {
      "text/plain": [
       "'/annuaire-start-up/tool-advisor,1092279'"
      ]
     },
     "execution_count": 6,
     "metadata": {},
     "output_type": "execute_result"
    }
   ],
   "source": [
    "soupStartup.find_all('a', attrs={'class':'contenu'})[1]['href'] #### url associé à la deuxième balise"
   ]
  },
  {
   "cell_type": "code",
   "execution_count": 7,
   "metadata": {},
   "outputs": [
    {
     "data": {
      "text/plain": [
       "'/annuaire-start-up/veracash,1092284'"
      ]
     },
     "execution_count": 7,
     "metadata": {},
     "output_type": "execute_result"
    }
   ],
   "source": [
    "soupStartup.find_all('a', attrs={'class':'contenu'})[0][\"href\"] #### Isoler le premier url de la page 1"
   ]
  },
  {
   "cell_type": "code",
   "execution_count": 8,
   "metadata": {},
   "outputs": [
    {
     "name": "stdout",
     "output_type": "stream",
     "text": [
      "/annuaire-start-up/veracash,1092284\n",
      "/annuaire-start-up/tool-advisor,1092279\n",
      "/annuaire-start-up/peoplespheres,1092274\n",
      "/annuaire-start-up/ocus,1092264\n",
      "/annuaire-start-up/sunday,1089474\n",
      "/annuaire-start-up/onepilot,1089469\n",
      "/annuaire-start-up/imageens,1089464\n",
      "/annuaire-start-up/glimps,1089459\n",
      "/annuaire-start-up/joe,1088874\n",
      "/annuaire-start-up/cryptio,1088869\n",
      "/annuaire-start-up/altrnativ,1087754\n",
      "/annuaire-start-up/acasi,1087544\n",
      "/annuaire-start-up/onewealthplace,1083829\n",
      "/annuaire-start-up/nabla,1083819\n",
      "/annuaire-start-up/id5,1083809\n",
      "/annuaire-start-up/epycure,1083804\n",
      "/annuaire-start-up/sensaterra,1083039\n",
      "/annuaire-start-up/witick,1082504\n",
      "/annuaire-start-up/nothing2install,1082484\n",
      "/annuaire-start-up/la-maison-j-u-s,1082479\n"
     ]
    }
   ],
   "source": [
    "#### récupérer les startup de la page\n",
    "for i in range(0,20): #### Pour chaque élément de 0 à 20\n",
    "  print(soupStartup.find_all('a', attrs={'class':'contenu'})[i][\"href\"])"
   ]
  },
  {
   "cell_type": "code",
   "execution_count": 9,
   "metadata": {},
   "outputs": [
    {
     "data": {
      "text/plain": [
       "'https://www.usine-digitale.fr/annuaire-start-up/veracash,1092284'"
      ]
     },
     "execution_count": 9,
     "metadata": {},
     "output_type": "execute_result"
    }
   ],
   "source": [
    "#### Concaténation de la partie générique du site avec l'url de la startup\n",
    "\n",
    "\"https://www.usine-digitale.fr\"+soupStartup.find_all('a', attrs={'class':'contenu'})[0][\"href\"]"
   ]
  },
  {
   "cell_type": "code",
   "execution_count": 10,
   "metadata": {},
   "outputs": [
    {
     "name": "stdout",
     "output_type": "stream",
     "text": [
      "https://www.usine-digitale.fr/annuaire-start-up/veracash,1092284\n",
      "https://www.usine-digitale.fr/annuaire-start-up/tool-advisor,1092279\n",
      "https://www.usine-digitale.fr/annuaire-start-up/peoplespheres,1092274\n",
      "https://www.usine-digitale.fr/annuaire-start-up/ocus,1092264\n",
      "https://www.usine-digitale.fr/annuaire-start-up/sunday,1089474\n",
      "https://www.usine-digitale.fr/annuaire-start-up/onepilot,1089469\n",
      "https://www.usine-digitale.fr/annuaire-start-up/imageens,1089464\n",
      "https://www.usine-digitale.fr/annuaire-start-up/glimps,1089459\n",
      "https://www.usine-digitale.fr/annuaire-start-up/joe,1088874\n",
      "https://www.usine-digitale.fr/annuaire-start-up/cryptio,1088869\n",
      "https://www.usine-digitale.fr/annuaire-start-up/altrnativ,1087754\n",
      "https://www.usine-digitale.fr/annuaire-start-up/acasi,1087544\n",
      "https://www.usine-digitale.fr/annuaire-start-up/onewealthplace,1083829\n",
      "https://www.usine-digitale.fr/annuaire-start-up/nabla,1083819\n",
      "https://www.usine-digitale.fr/annuaire-start-up/id5,1083809\n",
      "https://www.usine-digitale.fr/annuaire-start-up/epycure,1083804\n",
      "https://www.usine-digitale.fr/annuaire-start-up/sensaterra,1083039\n",
      "https://www.usine-digitale.fr/annuaire-start-up/witick,1082504\n",
      "https://www.usine-digitale.fr/annuaire-start-up/nothing2install,1082484\n",
      "https://www.usine-digitale.fr/annuaire-start-up/la-maison-j-u-s,1082479\n"
     ]
    }
   ],
   "source": [
    "liste = [] ####Liste vide \n",
    "\n",
    "#### récupérer les startup de la page\n",
    "\n",
    "for i in range(0,20):#### Pour chaque startup\n",
    "    \n",
    "  #### Je concatène une chaine de caractère avec l'url récupéré sur l'usine digitale  \n",
    "\n",
    "  print(\"https://www.usine-digitale.fr\"+soupStartup.find_all('a', attrs={'class':'contenu'})[i][\"href\"]) \n",
    "    \n",
    "  #### Stocke cet objet dans une liste\n",
    "\n",
    "  liste.append(\"https://www.usine-digitale.fr\"+soupStartup.find_all('a', attrs={'class':'contenu'})[i][\"href\"]) "
   ]
  },
  {
   "cell_type": "markdown",
   "metadata": {},
   "source": [
    "#### Etape 1: Récupération de la liste des url de la première page : ok\n",
    "\n",
    "#### Etape 2: Récupérer l'ensemble des url sur les 292 pages\n",
    "\n",
    "#### Etape 3: Recuperation des information sur une page de startup\n",
    "\n",
    "#### Etape 4: Récupération de tout les élements pour chacune des startup"
   ]
  },
  {
   "cell_type": "markdown",
   "metadata": {},
   "source": [
    "# Etape 2 : Récupérer l'ensemble des url sur les 294 pages"
   ]
  },
  {
   "cell_type": "code",
   "execution_count": 12,
   "metadata": {},
   "outputs": [
    {
     "name": "stdout",
     "output_type": "stream",
     "text": [
      "https://www.usine-digitale.fr/annuaire-start-up/1/\n",
      "https://www.usine-digitale.fr/annuaire-start-up/2/\n",
      "https://www.usine-digitale.fr/annuaire-start-up/3/\n",
      "https://www.usine-digitale.fr/annuaire-start-up/4/\n",
      "https://www.usine-digitale.fr/annuaire-start-up/5/\n",
      "https://www.usine-digitale.fr/annuaire-start-up/6/\n",
      "https://www.usine-digitale.fr/annuaire-start-up/7/\n",
      "https://www.usine-digitale.fr/annuaire-start-up/8/\n",
      "https://www.usine-digitale.fr/annuaire-start-up/9/\n",
      "https://www.usine-digitale.fr/annuaire-start-up/10/\n",
      "https://www.usine-digitale.fr/annuaire-start-up/11/\n",
      "https://www.usine-digitale.fr/annuaire-start-up/12/\n",
      "https://www.usine-digitale.fr/annuaire-start-up/13/\n",
      "https://www.usine-digitale.fr/annuaire-start-up/14/\n",
      "https://www.usine-digitale.fr/annuaire-start-up/15/\n",
      "https://www.usine-digitale.fr/annuaire-start-up/16/\n",
      "https://www.usine-digitale.fr/annuaire-start-up/17/\n",
      "https://www.usine-digitale.fr/annuaire-start-up/18/\n",
      "https://www.usine-digitale.fr/annuaire-start-up/19/\n",
      "https://www.usine-digitale.fr/annuaire-start-up/20/\n",
      "https://www.usine-digitale.fr/annuaire-start-up/21/\n",
      "https://www.usine-digitale.fr/annuaire-start-up/22/\n",
      "https://www.usine-digitale.fr/annuaire-start-up/23/\n",
      "https://www.usine-digitale.fr/annuaire-start-up/24/\n",
      "https://www.usine-digitale.fr/annuaire-start-up/25/\n",
      "https://www.usine-digitale.fr/annuaire-start-up/26/\n",
      "https://www.usine-digitale.fr/annuaire-start-up/27/\n",
      "https://www.usine-digitale.fr/annuaire-start-up/28/\n",
      "https://www.usine-digitale.fr/annuaire-start-up/29/\n",
      "https://www.usine-digitale.fr/annuaire-start-up/30/\n",
      "https://www.usine-digitale.fr/annuaire-start-up/31/\n",
      "https://www.usine-digitale.fr/annuaire-start-up/32/\n",
      "https://www.usine-digitale.fr/annuaire-start-up/33/\n",
      "https://www.usine-digitale.fr/annuaire-start-up/34/\n",
      "https://www.usine-digitale.fr/annuaire-start-up/35/\n",
      "https://www.usine-digitale.fr/annuaire-start-up/36/\n",
      "https://www.usine-digitale.fr/annuaire-start-up/37/\n",
      "https://www.usine-digitale.fr/annuaire-start-up/38/\n",
      "https://www.usine-digitale.fr/annuaire-start-up/39/\n",
      "https://www.usine-digitale.fr/annuaire-start-up/40/\n",
      "https://www.usine-digitale.fr/annuaire-start-up/41/\n",
      "https://www.usine-digitale.fr/annuaire-start-up/42/\n",
      "https://www.usine-digitale.fr/annuaire-start-up/43/\n",
      "https://www.usine-digitale.fr/annuaire-start-up/44/\n",
      "https://www.usine-digitale.fr/annuaire-start-up/45/\n",
      "https://www.usine-digitale.fr/annuaire-start-up/46/\n",
      "https://www.usine-digitale.fr/annuaire-start-up/47/\n",
      "https://www.usine-digitale.fr/annuaire-start-up/48/\n",
      "https://www.usine-digitale.fr/annuaire-start-up/49/\n",
      "https://www.usine-digitale.fr/annuaire-start-up/50/\n",
      "https://www.usine-digitale.fr/annuaire-start-up/51/\n",
      "https://www.usine-digitale.fr/annuaire-start-up/52/\n",
      "https://www.usine-digitale.fr/annuaire-start-up/53/\n",
      "https://www.usine-digitale.fr/annuaire-start-up/54/\n",
      "https://www.usine-digitale.fr/annuaire-start-up/55/\n",
      "https://www.usine-digitale.fr/annuaire-start-up/56/\n",
      "https://www.usine-digitale.fr/annuaire-start-up/57/\n",
      "https://www.usine-digitale.fr/annuaire-start-up/58/\n",
      "https://www.usine-digitale.fr/annuaire-start-up/59/\n",
      "https://www.usine-digitale.fr/annuaire-start-up/60/\n",
      "https://www.usine-digitale.fr/annuaire-start-up/61/\n",
      "https://www.usine-digitale.fr/annuaire-start-up/62/\n",
      "https://www.usine-digitale.fr/annuaire-start-up/63/\n",
      "https://www.usine-digitale.fr/annuaire-start-up/64/\n",
      "https://www.usine-digitale.fr/annuaire-start-up/65/\n",
      "https://www.usine-digitale.fr/annuaire-start-up/66/\n",
      "https://www.usine-digitale.fr/annuaire-start-up/67/\n",
      "https://www.usine-digitale.fr/annuaire-start-up/68/\n",
      "https://www.usine-digitale.fr/annuaire-start-up/69/\n",
      "https://www.usine-digitale.fr/annuaire-start-up/70/\n",
      "https://www.usine-digitale.fr/annuaire-start-up/71/\n",
      "https://www.usine-digitale.fr/annuaire-start-up/72/\n",
      "https://www.usine-digitale.fr/annuaire-start-up/73/\n",
      "https://www.usine-digitale.fr/annuaire-start-up/74/\n",
      "https://www.usine-digitale.fr/annuaire-start-up/75/\n",
      "https://www.usine-digitale.fr/annuaire-start-up/76/\n",
      "https://www.usine-digitale.fr/annuaire-start-up/77/\n",
      "https://www.usine-digitale.fr/annuaire-start-up/78/\n",
      "https://www.usine-digitale.fr/annuaire-start-up/79/\n",
      "https://www.usine-digitale.fr/annuaire-start-up/80/\n",
      "https://www.usine-digitale.fr/annuaire-start-up/81/\n",
      "https://www.usine-digitale.fr/annuaire-start-up/82/\n",
      "https://www.usine-digitale.fr/annuaire-start-up/83/\n",
      "https://www.usine-digitale.fr/annuaire-start-up/84/\n",
      "https://www.usine-digitale.fr/annuaire-start-up/85/\n",
      "https://www.usine-digitale.fr/annuaire-start-up/86/\n",
      "https://www.usine-digitale.fr/annuaire-start-up/87/\n",
      "https://www.usine-digitale.fr/annuaire-start-up/88/\n",
      "https://www.usine-digitale.fr/annuaire-start-up/89/\n",
      "https://www.usine-digitale.fr/annuaire-start-up/90/\n",
      "https://www.usine-digitale.fr/annuaire-start-up/91/\n",
      "https://www.usine-digitale.fr/annuaire-start-up/92/\n",
      "https://www.usine-digitale.fr/annuaire-start-up/93/\n",
      "https://www.usine-digitale.fr/annuaire-start-up/94/\n",
      "https://www.usine-digitale.fr/annuaire-start-up/95/\n",
      "https://www.usine-digitale.fr/annuaire-start-up/96/\n",
      "https://www.usine-digitale.fr/annuaire-start-up/97/\n",
      "https://www.usine-digitale.fr/annuaire-start-up/98/\n",
      "https://www.usine-digitale.fr/annuaire-start-up/99/\n",
      "https://www.usine-digitale.fr/annuaire-start-up/100/\n",
      "https://www.usine-digitale.fr/annuaire-start-up/101/\n",
      "https://www.usine-digitale.fr/annuaire-start-up/102/\n",
      "https://www.usine-digitale.fr/annuaire-start-up/103/\n",
      "https://www.usine-digitale.fr/annuaire-start-up/104/\n",
      "https://www.usine-digitale.fr/annuaire-start-up/105/\n",
      "https://www.usine-digitale.fr/annuaire-start-up/106/\n",
      "https://www.usine-digitale.fr/annuaire-start-up/107/\n",
      "https://www.usine-digitale.fr/annuaire-start-up/108/\n",
      "https://www.usine-digitale.fr/annuaire-start-up/109/\n",
      "https://www.usine-digitale.fr/annuaire-start-up/110/\n",
      "https://www.usine-digitale.fr/annuaire-start-up/111/\n",
      "https://www.usine-digitale.fr/annuaire-start-up/112/\n",
      "https://www.usine-digitale.fr/annuaire-start-up/113/\n",
      "https://www.usine-digitale.fr/annuaire-start-up/114/\n",
      "https://www.usine-digitale.fr/annuaire-start-up/115/\n",
      "https://www.usine-digitale.fr/annuaire-start-up/116/\n",
      "https://www.usine-digitale.fr/annuaire-start-up/117/\n",
      "https://www.usine-digitale.fr/annuaire-start-up/118/\n",
      "https://www.usine-digitale.fr/annuaire-start-up/119/\n",
      "https://www.usine-digitale.fr/annuaire-start-up/120/\n",
      "https://www.usine-digitale.fr/annuaire-start-up/121/\n",
      "https://www.usine-digitale.fr/annuaire-start-up/122/\n",
      "https://www.usine-digitale.fr/annuaire-start-up/123/\n",
      "https://www.usine-digitale.fr/annuaire-start-up/124/\n",
      "https://www.usine-digitale.fr/annuaire-start-up/125/\n",
      "https://www.usine-digitale.fr/annuaire-start-up/126/\n",
      "https://www.usine-digitale.fr/annuaire-start-up/127/\n",
      "https://www.usine-digitale.fr/annuaire-start-up/128/\n",
      "https://www.usine-digitale.fr/annuaire-start-up/129/\n",
      "https://www.usine-digitale.fr/annuaire-start-up/130/\n",
      "https://www.usine-digitale.fr/annuaire-start-up/131/\n",
      "https://www.usine-digitale.fr/annuaire-start-up/132/\n",
      "https://www.usine-digitale.fr/annuaire-start-up/133/\n",
      "https://www.usine-digitale.fr/annuaire-start-up/134/\n",
      "https://www.usine-digitale.fr/annuaire-start-up/135/\n",
      "https://www.usine-digitale.fr/annuaire-start-up/136/\n",
      "https://www.usine-digitale.fr/annuaire-start-up/137/\n",
      "https://www.usine-digitale.fr/annuaire-start-up/138/\n",
      "https://www.usine-digitale.fr/annuaire-start-up/139/\n",
      "https://www.usine-digitale.fr/annuaire-start-up/140/\n",
      "https://www.usine-digitale.fr/annuaire-start-up/141/\n",
      "https://www.usine-digitale.fr/annuaire-start-up/142/\n",
      "https://www.usine-digitale.fr/annuaire-start-up/143/\n",
      "https://www.usine-digitale.fr/annuaire-start-up/144/\n",
      "https://www.usine-digitale.fr/annuaire-start-up/145/\n",
      "https://www.usine-digitale.fr/annuaire-start-up/146/\n",
      "https://www.usine-digitale.fr/annuaire-start-up/147/\n",
      "https://www.usine-digitale.fr/annuaire-start-up/148/\n",
      "https://www.usine-digitale.fr/annuaire-start-up/149/\n",
      "https://www.usine-digitale.fr/annuaire-start-up/150/\n",
      "https://www.usine-digitale.fr/annuaire-start-up/151/\n",
      "https://www.usine-digitale.fr/annuaire-start-up/152/\n",
      "https://www.usine-digitale.fr/annuaire-start-up/153/\n",
      "https://www.usine-digitale.fr/annuaire-start-up/154/\n",
      "https://www.usine-digitale.fr/annuaire-start-up/155/\n",
      "https://www.usine-digitale.fr/annuaire-start-up/156/\n",
      "https://www.usine-digitale.fr/annuaire-start-up/157/\n",
      "https://www.usine-digitale.fr/annuaire-start-up/158/\n",
      "https://www.usine-digitale.fr/annuaire-start-up/159/\n",
      "https://www.usine-digitale.fr/annuaire-start-up/160/\n",
      "https://www.usine-digitale.fr/annuaire-start-up/161/\n",
      "https://www.usine-digitale.fr/annuaire-start-up/162/\n",
      "https://www.usine-digitale.fr/annuaire-start-up/163/\n",
      "https://www.usine-digitale.fr/annuaire-start-up/164/\n",
      "https://www.usine-digitale.fr/annuaire-start-up/165/\n",
      "https://www.usine-digitale.fr/annuaire-start-up/166/\n",
      "https://www.usine-digitale.fr/annuaire-start-up/167/\n",
      "https://www.usine-digitale.fr/annuaire-start-up/168/\n",
      "https://www.usine-digitale.fr/annuaire-start-up/169/\n",
      "https://www.usine-digitale.fr/annuaire-start-up/170/\n",
      "https://www.usine-digitale.fr/annuaire-start-up/171/\n",
      "https://www.usine-digitale.fr/annuaire-start-up/172/\n",
      "https://www.usine-digitale.fr/annuaire-start-up/173/\n",
      "https://www.usine-digitale.fr/annuaire-start-up/174/\n",
      "https://www.usine-digitale.fr/annuaire-start-up/175/\n",
      "https://www.usine-digitale.fr/annuaire-start-up/176/\n",
      "https://www.usine-digitale.fr/annuaire-start-up/177/\n",
      "https://www.usine-digitale.fr/annuaire-start-up/178/\n",
      "https://www.usine-digitale.fr/annuaire-start-up/179/\n",
      "https://www.usine-digitale.fr/annuaire-start-up/180/\n",
      "https://www.usine-digitale.fr/annuaire-start-up/181/\n",
      "https://www.usine-digitale.fr/annuaire-start-up/182/\n",
      "https://www.usine-digitale.fr/annuaire-start-up/183/\n",
      "https://www.usine-digitale.fr/annuaire-start-up/184/\n",
      "https://www.usine-digitale.fr/annuaire-start-up/185/\n",
      "https://www.usine-digitale.fr/annuaire-start-up/186/\n",
      "https://www.usine-digitale.fr/annuaire-start-up/187/\n",
      "https://www.usine-digitale.fr/annuaire-start-up/188/\n",
      "https://www.usine-digitale.fr/annuaire-start-up/189/\n",
      "https://www.usine-digitale.fr/annuaire-start-up/190/\n",
      "https://www.usine-digitale.fr/annuaire-start-up/191/\n",
      "https://www.usine-digitale.fr/annuaire-start-up/192/\n",
      "https://www.usine-digitale.fr/annuaire-start-up/193/\n",
      "https://www.usine-digitale.fr/annuaire-start-up/194/\n",
      "https://www.usine-digitale.fr/annuaire-start-up/195/\n",
      "https://www.usine-digitale.fr/annuaire-start-up/196/\n",
      "https://www.usine-digitale.fr/annuaire-start-up/197/\n",
      "https://www.usine-digitale.fr/annuaire-start-up/198/\n",
      "https://www.usine-digitale.fr/annuaire-start-up/199/\n",
      "https://www.usine-digitale.fr/annuaire-start-up/200/\n",
      "https://www.usine-digitale.fr/annuaire-start-up/201/\n",
      "https://www.usine-digitale.fr/annuaire-start-up/202/\n",
      "https://www.usine-digitale.fr/annuaire-start-up/203/\n",
      "https://www.usine-digitale.fr/annuaire-start-up/204/\n",
      "https://www.usine-digitale.fr/annuaire-start-up/205/\n",
      "https://www.usine-digitale.fr/annuaire-start-up/206/\n",
      "https://www.usine-digitale.fr/annuaire-start-up/207/\n",
      "https://www.usine-digitale.fr/annuaire-start-up/208/\n",
      "https://www.usine-digitale.fr/annuaire-start-up/209/\n",
      "https://www.usine-digitale.fr/annuaire-start-up/210/\n",
      "https://www.usine-digitale.fr/annuaire-start-up/211/\n",
      "https://www.usine-digitale.fr/annuaire-start-up/212/\n",
      "https://www.usine-digitale.fr/annuaire-start-up/213/\n",
      "https://www.usine-digitale.fr/annuaire-start-up/214/\n",
      "https://www.usine-digitale.fr/annuaire-start-up/215/\n",
      "https://www.usine-digitale.fr/annuaire-start-up/216/\n",
      "https://www.usine-digitale.fr/annuaire-start-up/217/\n",
      "https://www.usine-digitale.fr/annuaire-start-up/218/\n",
      "https://www.usine-digitale.fr/annuaire-start-up/219/\n",
      "https://www.usine-digitale.fr/annuaire-start-up/220/\n",
      "https://www.usine-digitale.fr/annuaire-start-up/221/\n",
      "https://www.usine-digitale.fr/annuaire-start-up/222/\n",
      "https://www.usine-digitale.fr/annuaire-start-up/223/\n",
      "https://www.usine-digitale.fr/annuaire-start-up/224/\n",
      "https://www.usine-digitale.fr/annuaire-start-up/225/\n",
      "https://www.usine-digitale.fr/annuaire-start-up/226/\n",
      "https://www.usine-digitale.fr/annuaire-start-up/227/\n",
      "https://www.usine-digitale.fr/annuaire-start-up/228/\n",
      "https://www.usine-digitale.fr/annuaire-start-up/229/\n",
      "https://www.usine-digitale.fr/annuaire-start-up/230/\n",
      "https://www.usine-digitale.fr/annuaire-start-up/231/\n",
      "https://www.usine-digitale.fr/annuaire-start-up/232/\n",
      "https://www.usine-digitale.fr/annuaire-start-up/233/\n",
      "https://www.usine-digitale.fr/annuaire-start-up/234/\n",
      "https://www.usine-digitale.fr/annuaire-start-up/235/\n",
      "https://www.usine-digitale.fr/annuaire-start-up/236/\n",
      "https://www.usine-digitale.fr/annuaire-start-up/237/\n",
      "https://www.usine-digitale.fr/annuaire-start-up/238/\n",
      "https://www.usine-digitale.fr/annuaire-start-up/239/\n",
      "https://www.usine-digitale.fr/annuaire-start-up/240/\n",
      "https://www.usine-digitale.fr/annuaire-start-up/241/\n",
      "https://www.usine-digitale.fr/annuaire-start-up/242/\n",
      "https://www.usine-digitale.fr/annuaire-start-up/243/\n",
      "https://www.usine-digitale.fr/annuaire-start-up/244/\n",
      "https://www.usine-digitale.fr/annuaire-start-up/245/\n",
      "https://www.usine-digitale.fr/annuaire-start-up/246/\n",
      "https://www.usine-digitale.fr/annuaire-start-up/247/\n",
      "https://www.usine-digitale.fr/annuaire-start-up/248/\n",
      "https://www.usine-digitale.fr/annuaire-start-up/249/\n",
      "https://www.usine-digitale.fr/annuaire-start-up/250/\n",
      "https://www.usine-digitale.fr/annuaire-start-up/251/\n",
      "https://www.usine-digitale.fr/annuaire-start-up/252/\n",
      "https://www.usine-digitale.fr/annuaire-start-up/253/\n",
      "https://www.usine-digitale.fr/annuaire-start-up/254/\n",
      "https://www.usine-digitale.fr/annuaire-start-up/255/\n",
      "https://www.usine-digitale.fr/annuaire-start-up/256/\n",
      "https://www.usine-digitale.fr/annuaire-start-up/257/\n",
      "https://www.usine-digitale.fr/annuaire-start-up/258/\n",
      "https://www.usine-digitale.fr/annuaire-start-up/259/\n",
      "https://www.usine-digitale.fr/annuaire-start-up/260/\n",
      "https://www.usine-digitale.fr/annuaire-start-up/261/\n",
      "https://www.usine-digitale.fr/annuaire-start-up/262/\n",
      "https://www.usine-digitale.fr/annuaire-start-up/263/\n",
      "https://www.usine-digitale.fr/annuaire-start-up/264/\n",
      "https://www.usine-digitale.fr/annuaire-start-up/265/\n",
      "https://www.usine-digitale.fr/annuaire-start-up/266/\n",
      "https://www.usine-digitale.fr/annuaire-start-up/267/\n",
      "https://www.usine-digitale.fr/annuaire-start-up/268/\n",
      "https://www.usine-digitale.fr/annuaire-start-up/269/\n",
      "https://www.usine-digitale.fr/annuaire-start-up/270/\n",
      "https://www.usine-digitale.fr/annuaire-start-up/271/\n",
      "https://www.usine-digitale.fr/annuaire-start-up/272/\n",
      "https://www.usine-digitale.fr/annuaire-start-up/273/\n",
      "https://www.usine-digitale.fr/annuaire-start-up/274/\n",
      "https://www.usine-digitale.fr/annuaire-start-up/275/\n",
      "https://www.usine-digitale.fr/annuaire-start-up/276/\n",
      "https://www.usine-digitale.fr/annuaire-start-up/277/\n",
      "https://www.usine-digitale.fr/annuaire-start-up/278/\n",
      "https://www.usine-digitale.fr/annuaire-start-up/279/\n",
      "https://www.usine-digitale.fr/annuaire-start-up/280/\n",
      "https://www.usine-digitale.fr/annuaire-start-up/281/\n",
      "https://www.usine-digitale.fr/annuaire-start-up/282/\n",
      "https://www.usine-digitale.fr/annuaire-start-up/283/\n",
      "https://www.usine-digitale.fr/annuaire-start-up/284/\n",
      "https://www.usine-digitale.fr/annuaire-start-up/285/\n",
      "https://www.usine-digitale.fr/annuaire-start-up/286/\n",
      "https://www.usine-digitale.fr/annuaire-start-up/287/\n",
      "https://www.usine-digitale.fr/annuaire-start-up/288/\n",
      "https://www.usine-digitale.fr/annuaire-start-up/289/\n",
      "https://www.usine-digitale.fr/annuaire-start-up/290/\n",
      "https://www.usine-digitale.fr/annuaire-start-up/291/\n",
      "https://www.usine-digitale.fr/annuaire-start-up/292/\n",
      "https://www.usine-digitale.fr/annuaire-start-up/293/\n",
      "https://www.usine-digitale.fr/annuaire-start-up/294/\n"
     ]
    }
   ],
   "source": [
    "## https://www.usine-digitale.fr/annuaire-start-up/1/ ## A la fin: numéro de la page\n",
    "\n",
    "liste_url = []\n",
    "for j in range(1,295): #### Pour j de 1 à 294\n",
    "  print(\"https://www.usine-digitale.fr/annuaire-start-up/\"+str(j)+\"/\") #### j'affiche la str suivante\n",
    "  liste_url.append(\"https://www.usine-digitale.fr/annuaire-start-up/\"+str(j)+\"/\") #### Stocker dans la liste liste_url"
   ]
  },
  {
   "cell_type": "markdown",
   "metadata": {},
   "source": [
    "#### Etape 1: Récupération de la liste des url de la première page :ok\n",
    "\n",
    "#### Etape 2: Récupérer l'ensemble des url sur les 292 pages: ok\n",
    "\n",
    "#### Etape 3: Récuperation des informations sur une page de startup\n",
    "\n",
    "#### Etape 4: Récupération de tout les élements pour chacune des startup"
   ]
  },
  {
   "cell_type": "markdown",
   "metadata": {},
   "source": [
    "# Etape 3: Réuperation des informations sur une page de startup"
   ]
  },
  {
   "cell_type": "code",
   "execution_count": 13,
   "metadata": {},
   "outputs": [
    {
     "data": {
      "text/plain": [
       " <!DOCTYPE html>\n",
       "\n",
       "<html>\n",
       "<head>\n",
       "<meta content=\"L'Usine Digitale\" name=\"ipd:siteName\"/>\n",
       "<meta content=\"didomi\" name=\"ipd:cmp\"/>\n",
       "<meta content=\"Divers\" name=\"ipd:pageType\"/>\n",
       "<meta content=\"width=device-width, initial-scale=1\" name=\"viewport\"/>\n",
       "<link href=\"/images/favicon_32x32.IPDIGIT1620226221TIGIDPI.ico\" rel=\"icon\" type=\"image/x-icon\"/>\n",
       "<meta content=\"text/html; charset=utf-8\" http-equiv=\"Content-Type\"><script type=\"text/javascript\">(window.NREUM||(NREUM={})).loader_config={xpid:\"UAIOUlFTGwEEUlhaBQA=\",licenseKey:\"6c84580c5c\",applicationID:\"2469821\"};window.NREUM||(NREUM={}),__nr_require=function(t,e,n){function r(n){if(!e[n]){var i=e[n]={exports:{}};t[n][0].call(i.exports,function(e){var i=t[n][1][e];return r(i||e)},i,i.exports)}return e[n].exports}if(\"function\"==typeof __nr_require)return __nr_require;for(var i=0;i<n.length;i++)r(n[i]);return r}({1:[function(t,e,n){function r(t){try{c.console&&console.log(t)}catch(e){}}var i,o=t(\"ee\"),a=t(21),c={};try{i=localStorage.getItem(\"__nr_flags\").split(\",\"),console&&\"function\"==typeof console.log&&(c.console=!0,i.indexOf(\"dev\")!==-1&&(c.dev=!0),i.indexOf(\"nr_dev\")!==-1&&(c.nrDev=!0))}catch(s){}c.nrDev&&o.on(\"internal-error\",function(t){r(t.stack)}),c.dev&&o.on(\"fn-err\",function(t,e,n){r(n.stack)}),c.dev&&(r(\"NR AGENT IN DEVELOPMENT MODE\"),r(\"flags: \"+a(c,function(t,e){return t}).join(\", \")))},{}],2:[function(t,e,n){function r(t,e,n,r,c){try{p?p-=1:i(c||new UncaughtException(t,e,n),!0)}catch(u){try{o(\"ierr\",[u,s.now(),!0])}catch(d){}}return\"function\"==typeof f&&f.apply(this,a(arguments))}function UncaughtException(t,e,n){this.message=t||\"Uncaught error with no additional information\",this.sourceURL=e,this.line=n}function i(t,e){var n=e?null:s.now();o(\"err\",[t,n])}var o=t(\"handle\"),a=t(22),c=t(\"ee\"),s=t(\"loader\"),u=t(\"gos\"),f=window.onerror,d=!1,l=\"nr@seenError\",p=0;s.features.err=!0,t(1),window.onerror=r;try{throw new Error}catch(h){\"stack\"in h&&(t(6),t(5),\"addEventListener\"in window&&t(3),s.xhrWrappable&&t(7),d=!0)}c.on(\"fn-start\",function(t,e,n){d&&(p+=1)}),c.on(\"fn-err\",function(t,e,n){d&&!n[l]&&(u(n,l,function(){return!0}),this.thrown=!0,i(n))}),c.on(\"fn-end\",function(){d&&!this.thrown&&p>0&&(p-=1)}),c.on(\"internal-error\",function(t){o(\"ierr\",[t,s.now(),!0])})},{}],3:[function(t,e,n){function r(t){for(var e=t;e&&!e.hasOwnProperty(f);)e=Object.getPrototypeOf(e);e&&i(e)}function i(t){c.inPlace(t,[f,d],\"-\",o)}function o(t,e){return t[1]}var a=t(\"ee\").get(\"events\"),c=t(\"wrap-function\")(a,!0),s=t(\"gos\"),u=XMLHttpRequest,f=\"addEventListener\",d=\"removeEventListener\";e.exports=a,\"getPrototypeOf\"in Object?(r(document),r(window),r(u.prototype)):u.prototype.hasOwnProperty(f)&&(i(window),i(u.prototype)),a.on(f+\"-start\",function(t,e){var n=t[1],r=s(n,\"nr@wrapped\",function(){function t(){if(\"function\"==typeof n.handleEvent)return n.handleEvent.apply(n,arguments)}var e={object:t,\"function\":n}[typeof n];return e?c(e,\"fn-\",null,e.name||\"anonymous\"):n});this.wrapped=t[1]=r}),a.on(d+\"-start\",function(t){t[1]=this.wrapped||t[1]})},{}],4:[function(t,e,n){function r(t,e,n){var r=t[e];\"function\"==typeof r&&(t[e]=function(){var t=o(arguments),e={};i.emit(n+\"before-start\",[t],e);var a;e[m]&&e[m].dt&&(a=e[m].dt);var c=r.apply(this,t);return i.emit(n+\"start\",[t,a],c),c.then(function(t){return i.emit(n+\"end\",[null,t],c),t},function(t){throw i.emit(n+\"end\",[t],c),t})})}var i=t(\"ee\").get(\"fetch\"),o=t(22),a=t(21);e.exports=i;var c=window,s=\"fetch-\",u=s+\"body-\",f=[\"arrayBuffer\",\"blob\",\"json\",\"text\",\"formData\"],d=c.Request,l=c.Response,p=c.fetch,h=\"prototype\",m=\"nr@context\";d&&l&&p&&(a(f,function(t,e){r(d[h],e,u),r(l[h],e,u)}),r(c,\"fetch\",s),i.on(s+\"end\",function(t,e){var n=this;if(e){var r=e.headers.get(\"content-length\");null!==r&&(n.rxSize=r),i.emit(s+\"done\",[null,e],n)}else i.emit(s+\"done\",[t],n)}))},{}],5:[function(t,e,n){var r=t(\"ee\").get(\"raf\"),i=t(\"wrap-function\")(r),o=\"equestAnimationFrame\";e.exports=r,i.inPlace(window,[\"r\"+o,\"mozR\"+o,\"webkitR\"+o,\"msR\"+o],\"raf-\"),r.on(\"raf-start\",function(t){t[0]=i(t[0],\"fn-\")})},{}],6:[function(t,e,n){function r(t,e,n){t[0]=a(t[0],\"fn-\",null,n)}function i(t,e,n){this.method=n,this.timerDuration=isNaN(t[1])?0:+t[1],t[0]=a(t[0],\"fn-\",this,n)}var o=t(\"ee\").get(\"timer\"),a=t(\"wrap-function\")(o),c=\"setTimeout\",s=\"setInterval\",u=\"clearTimeout\",f=\"-start\",d=\"-\";e.exports=o,a.inPlace(window,[c,\"setImmediate\"],c+d),a.inPlace(window,[s],s+d),a.inPlace(window,[u,\"clearImmediate\"],u+d),o.on(s+f,r),o.on(c+f,i)},{}],7:[function(t,e,n){function r(t,e){d.inPlace(e,[\"onreadystatechange\"],\"fn-\",c)}function i(){var t=this,e=f.context(t);t.readyState>3&&!e.resolved&&(e.resolved=!0,f.emit(\"xhr-resolved\",[],t)),d.inPlace(t,w,\"fn-\",c)}function o(t){y.push(t),h&&(b?b.then(a):v?v(a):(E=-E,R.data=E))}function a(){for(var t=0;t<y.length;t++)r([],y[t]);y.length&&(y=[])}function c(t,e){return e}function s(t,e){for(var n in t)e[n]=t[n];return e}t(3);var u=t(\"ee\"),f=u.get(\"xhr\"),d=t(\"wrap-function\")(f),l=NREUM.o,p=l.XHR,h=l.MO,m=l.PR,v=l.SI,g=\"readystatechange\",w=[\"onload\",\"onerror\",\"onabort\",\"onloadstart\",\"onloadend\",\"onprogress\",\"ontimeout\"],y=[];e.exports=f;var x=window.XMLHttpRequest=function(t){var e=new p(t);try{f.emit(\"new-xhr\",[e],e),e.addEventListener(g,i,!1)}catch(n){try{f.emit(\"internal-error\",[n])}catch(r){}}return e};if(s(p,x),x.prototype=p.prototype,d.inPlace(x.prototype,[\"open\",\"send\"],\"-xhr-\",c),f.on(\"send-xhr-start\",function(t,e){r(t,e),o(e)}),f.on(\"open-xhr-start\",r),h){var b=m&&m.resolve();if(!v&&!m){var E=1,R=document.createTextNode(E);new h(a).observe(R,{characterData:!0})}}else u.on(\"fn-end\",function(t){t[0]&&t[0].type===g||a()})},{}],8:[function(t,e,n){function r(t){if(!c(t))return null;var e=window.NREUM;if(!e.loader_config)return null;var n=(e.loader_config.accountID||\"\").toString()||null,r=(e.loader_config.agentID||\"\").toString()||null,u=(e.loader_config.trustKey||\"\").toString()||null;if(!n||!r)return null;var h=p.generateSpanId(),m=p.generateTraceId(),v=Date.now(),g={spanId:h,traceId:m,timestamp:v};return(t.sameOrigin||s(t)&&l())&&(g.traceContextParentHeader=i(h,m),g.traceContextStateHeader=o(h,v,n,r,u)),(t.sameOrigin&&!f()||!t.sameOrigin&&s(t)&&d())&&(g.newrelicHeader=a(h,m,v,n,r,u)),g}function i(t,e){return\"00-\"+e+\"-\"+t+\"-01\"}function o(t,e,n,r,i){var o=0,a=\"\",c=1,s=\"\",u=\"\";return i+\"@nr=\"+o+\"-\"+c+\"-\"+n+\"-\"+r+\"-\"+t+\"-\"+a+\"-\"+s+\"-\"+u+\"-\"+e}function a(t,e,n,r,i,o){var a=\"btoa\"in window&&\"function\"==typeof window.btoa;if(!a)return null;var c={v:[0,1],d:{ty:\"Browser\",ac:r,ap:i,id:t,tr:e,ti:n}};return o&&r!==o&&(c.d.tk=o),btoa(JSON.stringify(c))}function c(t){return u()&&s(t)}function s(t){var e=!1,n={};if(\"init\"in NREUM&&\"distributed_tracing\"in NREUM.init&&(n=NREUM.init.distributed_tracing),t.sameOrigin)e=!0;else if(n.allowed_origins instanceof Array)for(var r=0;r<n.allowed_origins.length;r++){var i=h(n.allowed_origins[r]);if(t.hostname===i.hostname&&t.protocol===i.protocol&&t.port===i.port){e=!0;break}}return e}function u(){return\"init\"in NREUM&&\"distributed_tracing\"in NREUM.init&&!!NREUM.init.distributed_tracing.enabled}function f(){return\"init\"in NREUM&&\"distributed_tracing\"in NREUM.init&&!!NREUM.init.distributed_tracing.exclude_newrelic_header}function d(){return\"init\"in NREUM&&\"distributed_tracing\"in NREUM.init&&NREUM.init.distributed_tracing.cors_use_newrelic_header!==!1}function l(){return\"init\"in NREUM&&\"distributed_tracing\"in NREUM.init&&!!NREUM.init.distributed_tracing.cors_use_tracecontext_headers}var p=t(18),h=t(10);e.exports={generateTracePayload:r,shouldGenerateTrace:c}},{}],9:[function(t,e,n){function r(t){var e=this.params,n=this.metrics;if(!this.ended){this.ended=!0;for(var r=0;r<l;r++)t.removeEventListener(d[r],this.listener,!1);e.aborted||(n.duration=a.now()-this.startTime,this.loadCaptureCalled||4!==t.readyState?null==e.status&&(e.status=0):o(this,t),n.cbTime=this.cbTime,f.emit(\"xhr-done\",[t],t),c(\"xhr\",[e,n,this.startTime]))}}function i(t,e){var n=s(e),r=t.params;r.host=n.hostname+\":\"+n.port,r.pathname=n.pathname,t.parsedOrigin=s(e),t.sameOrigin=t.parsedOrigin.sameOrigin}function o(t,e){t.params.status=e.status;var n=v(e,t.lastSize);if(n&&(t.metrics.rxSize=n),t.sameOrigin){var r=e.getResponseHeader(\"X-NewRelic-App-Data\");r&&(t.params.cat=r.split(\", \").pop())}t.loadCaptureCalled=!0}var a=t(\"loader\");if(a.xhrWrappable){var c=t(\"handle\"),s=t(10),u=t(8).generateTracePayload,f=t(\"ee\"),d=[\"load\",\"error\",\"abort\",\"timeout\"],l=d.length,p=t(\"id\"),h=t(14),m=t(13),v=t(11),g=window.XMLHttpRequest;a.features.xhr=!0,t(7),t(4),f.on(\"new-xhr\",function(t){var e=this;e.totalCbs=0,e.called=0,e.cbTime=0,e.end=r,e.ended=!1,e.xhrGuids={},e.lastSize=null,e.loadCaptureCalled=!1,t.addEventListener(\"load\",function(n){o(e,t)},!1),h&&(h>34||h<10)||window.opera||t.addEventListener(\"progress\",function(t){e.lastSize=t.loaded},!1)}),f.on(\"open-xhr-start\",function(t){this.params={method:t[0]},i(this,t[1]),this.metrics={}}),f.on(\"open-xhr-end\",function(t,e){\"loader_config\"in NREUM&&\"xpid\"in NREUM.loader_config&&this.sameOrigin&&e.setRequestHeader(\"X-NewRelic-ID\",NREUM.loader_config.xpid);var n=u(this.parsedOrigin);if(n){var r=!1;n.newrelicHeader&&(e.setRequestHeader(\"newrelic\",n.newrelicHeader),r=!0),n.traceContextParentHeader&&(e.setRequestHeader(\"traceparent\",n.traceContextParentHeader),n.traceContextStateHeader&&e.setRequestHeader(\"tracestate\",n.traceContextStateHeader),r=!0),r&&(this.dt=n)}}),f.on(\"send-xhr-start\",function(t,e){var n=this.metrics,r=t[0],i=this;if(n&&r){var o=m(r);o&&(n.txSize=o)}this.startTime=a.now(),this.listener=function(t){try{\"abort\"!==t.type||i.loadCaptureCalled||(i.params.aborted=!0),(\"load\"!==t.type||i.called===i.totalCbs&&(i.onloadCalled||\"function\"!=typeof e.onload))&&i.end(e)}catch(n){try{f.emit(\"internal-error\",[n])}catch(r){}}};for(var c=0;c<l;c++)e.addEventListener(d[c],this.listener,!1)}),f.on(\"xhr-cb-time\",function(t,e,n){this.cbTime+=t,e?this.onloadCalled=!0:this.called+=1,this.called!==this.totalCbs||!this.onloadCalled&&\"function\"==typeof n.onload||this.end(n)}),f.on(\"xhr-load-added\",function(t,e){var n=\"\"+p(t)+!!e;this.xhrGuids&&!this.xhrGuids[n]&&(this.xhrGuids[n]=!0,this.totalCbs+=1)}),f.on(\"xhr-load-removed\",function(t,e){var n=\"\"+p(t)+!!e;this.xhrGuids&&this.xhrGuids[n]&&(delete this.xhrGuids[n],this.totalCbs-=1)}),f.on(\"addEventListener-end\",function(t,e){e instanceof g&&\"load\"===t[0]&&f.emit(\"xhr-load-added\",[t[1],t[2]],e)}),f.on(\"removeEventListener-end\",function(t,e){e instanceof g&&\"load\"===t[0]&&f.emit(\"xhr-load-removed\",[t[1],t[2]],e)}),f.on(\"fn-start\",function(t,e,n){e instanceof g&&(\"onload\"===n&&(this.onload=!0),(\"load\"===(t[0]&&t[0].type)||this.onload)&&(this.xhrCbStart=a.now()))}),f.on(\"fn-end\",function(t,e){this.xhrCbStart&&f.emit(\"xhr-cb-time\",[a.now()-this.xhrCbStart,this.onload,e],e)}),f.on(\"fetch-before-start\",function(t){function e(t,e){var n=!1;return e.newrelicHeader&&(t.set(\"newrelic\",e.newrelicHeader),n=!0),e.traceContextParentHeader&&(t.set(\"traceparent\",e.traceContextParentHeader),e.traceContextStateHeader&&t.set(\"tracestate\",e.traceContextStateHeader),n=!0),n}var n,r=t[1]||{};\"string\"==typeof t[0]?n=t[0]:t[0]&&t[0].url?n=t[0].url:window.URL&&t[0]&&t[0]instanceof URL&&(n=t[0].href),n&&(this.parsedOrigin=s(n),this.sameOrigin=this.parsedOrigin.sameOrigin);var i=u(this.parsedOrigin);if(i&&(i.newrelicHeader||i.traceContextParentHeader))if(\"string\"==typeof t[0]||window.URL&&t[0]&&t[0]instanceof URL){var o={};for(var a in r)o[a]=r[a];o.headers=new Headers(r.headers||{}),e(o.headers,i)&&(this.dt=i),t.length>1?t[1]=o:t.push(o)}else t[0]&&t[0].headers&&e(t[0].headers,i)&&(this.dt=i)})}},{}],10:[function(t,e,n){var r={};e.exports=function(t){if(t in r)return r[t];var e=document.createElement(\"a\"),n=window.location,i={};e.href=t,i.port=e.port;var o=e.href.split(\"://\");!i.port&&o[1]&&(i.port=o[1].split(\"/\")[0].split(\"@\").pop().split(\":\")[1]),i.port&&\"0\"!==i.port||(i.port=\"https\"===o[0]?\"443\":\"80\"),i.hostname=e.hostname||n.hostname,i.pathname=e.pathname,i.protocol=o[0],\"/\"!==i.pathname.charAt(0)&&(i.pathname=\"/\"+i.pathname);var a=!e.protocol||\":\"===e.protocol||e.protocol===n.protocol,c=e.hostname===document.domain&&e.port===n.port;return i.sameOrigin=a&&(!e.hostname||c),\"/\"===i.pathname&&(r[t]=i),i}},{}],11:[function(t,e,n){function r(t,e){var n=t.responseType;return\"json\"===n&&null!==e?e:\"arraybuffer\"===n||\"blob\"===n||\"json\"===n?i(t.response):\"text\"===n||\"\"===n||void 0===n?i(t.responseText):void 0}var i=t(13);e.exports=r},{}],12:[function(t,e,n){function r(){}function i(t,e,n){return function(){return o(t,[u.now()].concat(c(arguments)),e?null:this,n),e?void 0:this}}var o=t(\"handle\"),a=t(21),c=t(22),s=t(\"ee\").get(\"tracer\"),u=t(\"loader\"),f=NREUM;\"undefined\"==typeof window.newrelic&&(newrelic=f);var d=[\"setPageViewName\",\"setCustomAttribute\",\"setErrorHandler\",\"finished\",\"addToTrace\",\"inlineHit\",\"addRelease\"],l=\"api-\",p=l+\"ixn-\";a(d,function(t,e){f[e]=i(l+e,!0,\"api\")}),f.addPageAction=i(l+\"addPageAction\",!0),f.setCurrentRouteName=i(l+\"routeName\",!0),e.exports=newrelic,f.interaction=function(){return(new r).get()};var h=r.prototype={createTracer:function(t,e){var n={},r=this,i=\"function\"==typeof e;return o(p+\"tracer\",[u.now(),t,n],r),function(){if(s.emit((i?\"\":\"no-\")+\"fn-start\",[u.now(),r,i],n),i)try{return e.apply(this,arguments)}catch(t){throw s.emit(\"fn-err\",[arguments,this,t],n),t}finally{s.emit(\"fn-end\",[u.now()],n)}}}};a(\"actionText,setName,setAttribute,save,ignore,onEnd,getContext,end,get\".split(\",\"),function(t,e){h[e]=i(p+e)}),newrelic.noticeError=function(t,e){\"string\"==typeof t&&(t=new Error(t)),o(\"err\",[t,u.now(),!1,e])}},{}],13:[function(t,e,n){e.exports=function(t){if(\"string\"==typeof t&&t.length)return t.length;if(\"object\"==typeof t){if(\"undefined\"!=typeof ArrayBuffer&&t instanceof ArrayBuffer&&t.byteLength)return t.byteLength;if(\"undefined\"!=typeof Blob&&t instanceof Blob&&t.size)return t.size;if(!(\"undefined\"!=typeof FormData&&t instanceof FormData))try{return JSON.stringify(t).length}catch(e){return}}}},{}],14:[function(t,e,n){var r=0,i=navigator.userAgent.match(/Firefox[\\/\\s](\\d+\\.\\d+)/);i&&(r=+i[1]),e.exports=r},{}],15:[function(t,e,n){function r(){return c.exists&&performance.now?Math.round(performance.now()):(o=Math.max((new Date).getTime(),o))-a}function i(){return o}var o=(new Date).getTime(),a=o,c=t(23);e.exports=r,e.exports.offset=a,e.exports.getLastTimestamp=i},{}],16:[function(t,e,n){function r(t){return!(!t||!t.protocol||\"file:\"===t.protocol)}e.exports=r},{}],17:[function(t,e,n){function r(t,e){var n=t.getEntries();n.forEach(function(t){\"first-paint\"===t.name?d(\"timing\",[\"fp\",Math.floor(t.startTime)]):\"first-contentful-paint\"===t.name&&d(\"timing\",[\"fcp\",Math.floor(t.startTime)])})}function i(t,e){var n=t.getEntries();n.length>0&&d(\"lcp\",[n[n.length-1]])}function o(t){t.getEntries().forEach(function(t){t.hadRecentInput||d(\"cls\",[t])})}function a(t){if(t instanceof h&&!v){var e=Math.round(t.timeStamp),n={type:t.type};e<=l.now()?n.fid=l.now()-e:e>l.offset&&e<=Date.now()?(e-=l.offset,n.fid=l.now()-e):e=l.now(),v=!0,d(\"timing\",[\"fi\",e,n])}}function c(t){d(\"pageHide\",[l.now(),t])}if(!(\"init\"in NREUM&&\"page_view_timing\"in NREUM.init&&\"enabled\"in NREUM.init.page_view_timing&&NREUM.init.page_view_timing.enabled===!1)){var s,u,f,d=t(\"handle\"),l=t(\"loader\"),p=t(20),h=NREUM.o.EV;if(\"PerformanceObserver\"in window&&\"function\"==typeof window.PerformanceObserver){s=new PerformanceObserver(r);try{s.observe({entryTypes:[\"paint\"]})}catch(m){}u=new PerformanceObserver(i);try{u.observe({entryTypes:[\"largest-contentful-paint\"]})}catch(m){}f=new PerformanceObserver(o);try{f.observe({type:\"layout-shift\",buffered:!0})}catch(m){}}if(\"addEventListener\"in document){var v=!1,g=[\"click\",\"keydown\",\"mousedown\",\"pointerdown\",\"touchstart\"];g.forEach(function(t){document.addEventListener(t,a,!1)})}p(c)}},{}],18:[function(t,e,n){function r(){function t(){return e?15&e[n++]:16*Math.random()|0}var e=null,n=0,r=window.crypto||window.msCrypto;r&&r.getRandomValues&&(e=r.getRandomValues(new Uint8Array(31)));for(var i,o=\"xxxxxxxx-xxxx-4xxx-yxxx-xxxxxxxxxxxx\",a=\"\",c=0;c<o.length;c++)i=o[c],\"x\"===i?a+=t().toString(16):\"y\"===i?(i=3&t()|8,a+=i.toString(16)):a+=i;return a}function i(){return a(16)}function o(){return a(32)}function a(t){function e(){return n?15&n[r++]:16*Math.random()|0}var n=null,r=0,i=window.crypto||window.msCrypto;i&&i.getRandomValues&&Uint8Array&&(n=i.getRandomValues(new Uint8Array(31)));for(var o=[],a=0;a<t;a++)o.push(e().toString(16));return o.join(\"\")}e.exports={generateUuid:r,generateSpanId:i,generateTraceId:o}},{}],19:[function(t,e,n){function r(t,e){if(!i)return!1;if(t!==i)return!1;if(!e)return!0;if(!o)return!1;for(var n=o.split(\".\"),r=e.split(\".\"),a=0;a<r.length;a++)if(r[a]!==n[a])return!1;return!0}var i=null,o=null,a=/Version\\/(\\S+)\\s+Safari/;if(navigator.userAgent){var c=navigator.userAgent,s=c.match(a);s&&c.indexOf(\"Chrome\")===-1&&c.indexOf(\"Chromium\")===-1&&(i=\"Safari\",o=s[1])}e.exports={agent:i,version:o,match:r}},{}],20:[function(t,e,n){function r(t){function e(){t(a&&document[a]?document[a]:document[i]?\"hidden\":\"visible\")}\"addEventListener\"in document&&o&&document.addEventListener(o,e,!1)}e.exports=r;var i,o,a;\"undefined\"!=typeof document.hidden?(i=\"hidden\",o=\"visibilitychange\",a=\"visibilityState\"):\"undefined\"!=typeof document.msHidden?(i=\"msHidden\",o=\"msvisibilitychange\"):\"undefined\"!=typeof document.webkitHidden&&(i=\"webkitHidden\",o=\"webkitvisibilitychange\",a=\"webkitVisibilityState\")},{}],21:[function(t,e,n){function r(t,e){var n=[],r=\"\",o=0;for(r in t)i.call(t,r)&&(n[o]=e(r,t[r]),o+=1);return n}var i=Object.prototype.hasOwnProperty;e.exports=r},{}],22:[function(t,e,n){function r(t,e,n){e||(e=0),\"undefined\"==typeof n&&(n=t?t.length:0);for(var r=-1,i=n-e||0,o=Array(i<0?0:i);++r<i;)o[r]=t[e+r];return o}e.exports=r},{}],23:[function(t,e,n){e.exports={exists:\"undefined\"!=typeof window.performance&&window.performance.timing&&\"undefined\"!=typeof window.performance.timing.navigationStart}},{}],ee:[function(t,e,n){function r(){}function i(t){function e(t){return t&&t instanceof r?t:t?u(t,s,a):a()}function n(n,r,i,o,a){if(a!==!1&&(a=!0),!p.aborted||o){t&&a&&t(n,r,i);for(var c=e(i),s=m(n),u=s.length,f=0;f<u;f++)s[f].apply(c,r);var l=d[y[n]];return l&&l.push([x,n,r,c]),c}}function o(t,e){w[t]=m(t).concat(e)}function h(t,e){var n=w[t];if(n)for(var r=0;r<n.length;r++)n[r]===e&&n.splice(r,1)}function m(t){return w[t]||[]}function v(t){return l[t]=l[t]||i(n)}function g(t,e){f(t,function(t,n){e=e||\"feature\",y[n]=e,e in d||(d[e]=[])})}var w={},y={},x={on:o,addEventListener:o,removeEventListener:h,emit:n,get:v,listeners:m,context:e,buffer:g,abort:c,aborted:!1};return x}function o(t){return u(t,s,a)}function a(){return new r}function c(){(d.api||d.feature)&&(p.aborted=!0,d=p.backlog={})}var s=\"nr@context\",u=t(\"gos\"),f=t(21),d={},l={},p=e.exports=i();e.exports.getOrSetContext=o,p.backlog=d},{}],gos:[function(t,e,n){function r(t,e,n){if(i.call(t,e))return t[e];var r=n();if(Object.defineProperty&&Object.keys)try{return Object.defineProperty(t,e,{value:r,writable:!0,enumerable:!1}),r}catch(o){}return t[e]=r,r}var i=Object.prototype.hasOwnProperty;e.exports=r},{}],handle:[function(t,e,n){function r(t,e,n,r){i.buffer([t],r),i.emit(t,e,n)}var i=t(\"ee\").get(\"handle\");e.exports=r,r.ee=i},{}],id:[function(t,e,n){function r(t){var e=typeof t;return!t||\"object\"!==e&&\"function\"!==e?-1:t===window?0:a(t,o,function(){return i++})}var i=1,o=\"nr@id\",a=t(\"gos\");e.exports=r},{}],loader:[function(t,e,n){function r(){if(!E++){var t=b.info=NREUM.info,e=p.getElementsByTagName(\"script\")[0];if(setTimeout(u.abort,3e4),!(t&&t.licenseKey&&t.applicationID&&e))return u.abort();s(y,function(e,n){t[e]||(t[e]=n)});var n=a();c(\"mark\",[\"onload\",n+b.offset],null,\"api\"),c(\"timing\",[\"load\",n]);var r=p.createElement(\"script\");r.src=\"https://\"+t.agent,e.parentNode.insertBefore(r,e)}}function i(){\"complete\"===p.readyState&&o()}function o(){c(\"mark\",[\"domContent\",a()+b.offset],null,\"api\")}var a=t(15),c=t(\"handle\"),s=t(21),u=t(\"ee\"),f=t(19),d=t(16),l=window,p=l.document,h=\"addEventListener\",m=\"attachEvent\",v=l.XMLHttpRequest,g=v&&v.prototype;if(d(l.location)){NREUM.o={ST:setTimeout,SI:l.setImmediate,CT:clearTimeout,XHR:v,REQ:l.Request,EV:l.Event,PR:l.Promise,MO:l.MutationObserver};var w=\"\"+location,y={beacon:\"bam.nr-data.net\",errorBeacon:\"bam.nr-data.net\",agent:\"js-agent.newrelic.com/nr-1208.min.js\"},x=v&&g&&g[h]&&!/CriOS/.test(navigator.userAgent),b=e.exports={offset:a.getLastTimestamp(),now:a,origin:w,features:{},xhrWrappable:x,userAgent:f};t(12),t(17),p[h]?(p[h](\"DOMContentLoaded\",o,!1),l[h](\"load\",r,!1)):(p[m](\"onreadystatechange\",i),l[m](\"onload\",r)),c(\"mark\",[\"firstbyte\",a.getLastTimestamp()],null,\"api\");var E=0}},{}],\"wrap-function\":[function(t,e,n){function r(t,e){function n(e,n,r,s,u){function nrWrapper(){var o,a,f,l;try{a=this,o=d(arguments),f=\"function\"==typeof r?r(o,a):r||{}}catch(p){i([p,\"\",[o,a,s],f],t)}c(n+\"start\",[o,a,s],f,u);try{return l=e.apply(a,o)}catch(h){throw c(n+\"err\",[o,a,h],f,u),h}finally{c(n+\"end\",[o,a,l],f,u)}}return a(e)?e:(n||(n=\"\"),nrWrapper[l]=e,o(e,nrWrapper,t),nrWrapper)}function r(t,e,r,i,o){r||(r=\"\");var c,s,u,f=\"-\"===r.charAt(0);for(u=0;u<e.length;u++)s=e[u],c=t[s],a(c)||(t[s]=n(c,f?s+r:r,i,s,o))}function c(n,r,o,a){if(!h||e){var c=h;h=!0;try{t.emit(n,r,o,e,a)}catch(s){i([s,n,r,o],t)}h=c}}return t||(t=f),n.inPlace=r,n.flag=l,n}function i(t,e){e||(e=f);try{e.emit(\"internal-error\",t)}catch(n){}}function o(t,e,n){if(Object.defineProperty&&Object.keys)try{var r=Object.keys(t);return r.forEach(function(n){Object.defineProperty(e,n,{get:function(){return t[n]},set:function(e){return t[n]=e,e}})}),e}catch(o){i([o],n)}for(var a in t)p.call(t,a)&&(e[a]=t[a]);return e}function a(t){return!(t&&t instanceof Function&&t.apply&&!t[l])}function c(t,e){var n=e(t);return n[l]=t,o(t,n,f),n}function s(t,e,n){var r=t[e];t[e]=c(r,n)}function u(){for(var t=arguments.length,e=new Array(t),n=0;n<t;++n)e[n]=arguments[n];return e}var f=t(\"ee\"),d=t(22),l=\"nr@original\",p=Object.prototype.hasOwnProperty,h=!1;e.exports=r,e.exports.wrapFunction=c,e.exports.wrapInPlace=s,e.exports.argsToArray=u},{}]},{},[\"loader\",2,9]);</script>\n",
       "<meta content=\"telephone=no\" name=\"format-detection\"/>\n",
       "<meta content=\"max-snippet:160\" name=\"robots\"/>\n",
       "<meta content=\"max-image-preview:large\" name=\"robots\"/>\n",
       "<meta content=\"max-video-preview:5\" name=\"robots\"/>\n",
       "<title>VeraCash</title>\n",
       "<link href=\"/css/lib/nyromodal.IPDIGIT1620226221TIGIDPI-min.css\" rel=\"stylesheet\" type=\"text/css\"/>\n",
       "<link href=\"/css/commun.IPDIGIT1620226221TIGIDPI-min.css\" rel=\"stylesheet\" type=\"text/css\"/>\n",
       "<link href=\"/css/mol-module/header.IPDIGIT1615990444TIGIDPI-min.css\" rel=\"stylesheet\" type=\"text/css\"/>\n",
       "<link href=\"/css/webinar-module/webinar-module.IPDIGIT1618403605TIGIDPI-min.css\" rel=\"stylesheet\" type=\"text/css\"/>\n",
       "<link href=\"https://cmp.infopro-digital.com/cmpui.css\" rel=\"stylesheet\" type=\"text/css\"/>\n",
       "<!--[if lt IE 9]>\n",
       "\t\t\t<script type=\"text/javascript\">\n",
       "\t\t\t\tdocument.createElement(\"header\");document.createElement(\"footer\");document.createElement(\"section\");document.createElement(\"aside\");document.createElement(\"nav\");document.createElement(\"article\");document.createElement(\"figure\");document.createElement(\"figcaption\");document.createElement(\"hgroup\");document.createElement(\"time\");\n",
       "\t\t\t</script>\n",
       "\t\t<![endif]-->\n",
       "<link href=\"/apple-touch-icon.png\" rel=\"apple-touch-icon\" sizes=\"180x180\"/>\n",
       "<link href=\"/favicon-32x32.png\" rel=\"icon\" sizes=\"32x32\" type=\"image/png\"/>\n",
       "<link href=\"/favicon-16x16.png\" rel=\"icon\" sizes=\"16x16\" type=\"image/png\"/>\n",
       "<link href=\"/manifest.json\" rel=\"manifest\"/>\n",
       "<link color=\"#0096d2\" href=\"/safari-pinned-tab.svg\" rel=\"mask-icon\"/>\n",
       "<meta content=\"#ffffff\" name=\"theme-color\"/>\n",
       "<link href=\"https://www.googletagmanager.com/\" rel=\"dns-prefetch\"/><link href=\"https://ts.infoprodata.com/\" rel=\"dns-prefetch\"/><link href=\"https://cmp.infopro-digital.com/\" rel=\"dns-prefetch\"/><link as=\"script\" href=\"/resources/jquery/jquery.min.IPDIGIT1620226224TIGIDPI.js\" rel=\"preload\"/><link as=\"script\" href=\"/js/lib/jquery-migrate-3.1.0.min.IPDIGIT1620226221TIGIDPI.js\" rel=\"preload\"/><link as=\"script\" href=\"/js/common-min.IPDIGIT1620225973TIGIDPI.js\" rel=\"preload\"/><link as=\"script\" href=\"/js/trackings-min.IPDIGIT1620225973TIGIDPI.js\" rel=\"preload\"/><link as=\"script\" href=\"/js/mol-module/header-min.IPDIGIT1615990444TIGIDPI.js\" rel=\"preload\"/><link as=\"script\" href=\"/js/webinar-module/webinar-widget-min.IPDIGIT1601893058TIGIDPI.js\" rel=\"preload\"/><link as=\"script\" href=\"/js/base-module/libs/smarttag-min.IPDIGIT1620225984TIGIDPI.js\" rel=\"preload\"/><link as=\"script\" href=\"/js/base-module/trackings-min.IPDIGIT1616751112TIGIDPI.js\" rel=\"preload\"/><link as=\"script\" href=\"/js/gam-min.IPDIGIT1620225973TIGIDPI.js\" rel=\"preload\"/><link as=\"script\" href=\"/js/lib/postscribe.IPDIGIT1620226221TIGIDPI.js\" rel=\"preload\"/><link as=\"script\" href=\"/js/app.IPDIGIT1620226221TIGIDPI-min.js\" rel=\"preload\"/><link as=\"script\" href=\"/js/app.forms.IPDIGIT1620226221TIGIDPI-min.js\" rel=\"preload\"/><link as=\"script\" href=\"/js/app.sharing.IPDIGIT1620226221TIGIDPI-min.js\" rel=\"preload\"/><link as=\"script\" href=\"/js/app.sharing-mail.IPDIGIT1620226221TIGIDPI-min.js\" rel=\"preload\"/><link as=\"script\" href=\"/js/lib/nyromodal.IPDIGIT1620226221TIGIDPI-min.js\" rel=\"preload\"/><link as=\"script\" href=\"/js/app.infinite-scroll.IPDIGIT1620226221TIGIDPI-min.js\" rel=\"preload\"/><link as=\"script\" href=\"/js/headerfixe.IPDIGIT1620226221TIGIDPI-min.js\" rel=\"preload\"/></meta></head>\n",
       "<body data-arche-version=\"2\" data-arche-width=\"1256\" data-cmp-notice=\"Qwx2Hi2F\" data-dmp-network=\"kjwusq9l\" data-dmp-site=\"x3gge0kz\" data-gtm-container=\"GTM-TL76VNB\" data-unbounce-id=\"259710f66da04a8e8d9ce8db5c2253d5\" data-xiti-cookiedomain=\".usine-digitale.fr\" data-xiti-domain=\"xiti.com\" data-xiti-log=\"logc187\" data-xiti-logssl=\"logs1279\" data-xiti-secure=\"1\" data-xiti-site=\"526704\">\n",
       "<!-- Google Tag Manager (noscript) -->\n",
       "<noscript>\n",
       "<iframe height=\"0\" src=\"https://www.googletagmanager.com/ns.html?id=GTM-TL76VNB\" style=\"display:none; visibility:hidden\" width=\"0\"></iframe>\n",
       "</noscript>\n",
       "<!-- End Google Tag Manager (noscript) -->\n",
       "<div class=\"headerTop1\" id=\"jqHeaderTop1\">\n",
       "<div class=\"jqGoogleAdServe\" data-ad-mapping=\"bannerGeneric\" data-ad-sizes=\"banner\" data-ad-targeting='{\"pos_ban\":2}' id=\"bannerNav\"></div>\n",
       "</div>\n",
       "<div class=\"headerContainerCls\">\n",
       "<div class=\"headerContainer theme__ud\" id=\"jqHeader\">\n",
       "<header class=\"headerContainer__header header\">\n",
       "<div class=\"header__logo\">\n",
       "<a href=\"/\">\n",
       "<img alt=\"L'Usine Digitale : Actualité Web, High-tech, Cloud\" data-no-lazy=\"true\" src=\"/images/mol-module/logo-usine-digitale.svg\"/>\n",
       "</a>\n",
       "</div>\n",
       "<div class=\"header__userAbo\">\n",
       "<a class=\"jqBtnMenu header__btn button__menu\" href=\"#\"></a>\n",
       "</div>\n",
       "</header>\n",
       "<div class=\"headerContent__mainMenu mainMenu jqMenu\">\n",
       "<div class=\"mainMenu__search\" id=\"jqSearch\">\n",
       "<form action=\"/recherche\" class=\"searchForm\" id=\"searchForm\" method=\"get\">\n",
       "<div class=\"searchForm__close\" id=\"jqCloseSearch\">\n",
       "<i class=\"ico-close-circle\"></i>\n",
       "</div>\n",
       "<div class=\"searchForm__content searchContent jqWrapperSearch\">\n",
       "<label class=\"searchContent__label jqLabelSearch\" for=\"inputSearch\">\n",
       "<i class=\"ico-search\"></i>\n",
       "<span>Que recherchez-vous ?</span>\n",
       "</label>\n",
       "<input class=\"searchContent__input jqInputSearch\" enterkeyhint=\"search\" id=\"inputSearch\" name=\"keyword\" type=\"text\" value=\"\"/>\n",
       "<span class=\"searchContent__reset jqResetSearch\"><i class=\"ico-reset\"></i></span>\n",
       "</div>\n",
       "</form>\n",
       "</div>\n",
       "<nav class=\"mainMenu__thematics jqThematics\">\n",
       "<a class=\"thematics__links\" href=\"/ar-vr/\">\n",
       "                    AR/VR\n",
       "                </a>\n",
       "<a class=\"thematics__links\" href=\"/5g/\">\n",
       "                    5G\n",
       "                </a>\n",
       "<a class=\"thematics__links\" href=\"/intelligence-artificielle/\">\n",
       "                    Intelligence artificielle\n",
       "                </a>\n",
       "<a class=\"thematics__links\" href=\"/mobilite/\">\n",
       "                    Mobilité\n",
       "                </a>\n",
       "<a class=\"thematics__links\" href=\"/cybersecurite/\">\n",
       "                    Cybersécurité\n",
       "                </a>\n",
       "<a class=\"thematics__links\" href=\"/iot/\">\n",
       "                    IOT\n",
       "                </a>\n",
       "<div class=\"thematics__linkMore\">\n",
       "<a class=\"thematics__links is-more jqBtnThematicMore\" href=\"#\">Plus</a>\n",
       "<div class=\"thematics__more jqThematicMore\">\n",
       "<a class=\"thematics__links\" href=\"/podcast/\">\n",
       "                    Podcast\n",
       "                </a>\n",
       "<a class=\"thematics__links\" href=\"/french-tech/\">\n",
       "                    French Tech\n",
       "                </a>\n",
       "<a class=\"thematics__links\" href=\"/annuaire-start-up/\" rel=\"noopener\" target=\"_blank\">\n",
       "                    Annuaire Start-up\n",
       "                </a>\n",
       "<a class=\"thematics__links\" href=\"/ecole-du-numerique\">\n",
       "                    Écoles du Numérique\n",
       "                </a>\n",
       "</div>\n",
       "</div>\n",
       "</nav>\n",
       "<div class=\"mainMenu__tools\">\n",
       "<a class=\"btnTools btnTools--search\" href=\"#\" id=\"jqBtnSearch\"><i class=\"ico-search\"></i> <span>Recherche</span></a>\n",
       "<a class=\"btnTools btnTools--news\" href=\"/inscription-nl\"><i class=\"ico-newsletter\"></i> <span>Newsletters</span></a>\n",
       "</div>\n",
       "<div class=\"headerContainer__top headerTop\">\n",
       "<div class=\"headerTop__links\">\n",
       "<span class=\"headerTop__title\">Services</span>\n",
       "<a href=\"https://www.usine-digitale.fr/cherche-talents-numeriques/\">\n",
       "                    Cherche talents numériques\n",
       "                </a>\n",
       "<a href=\"https://www.emploi-pro.fr/offre-emploi/offre-emploi-digital\" rel=\"noopener\" target=\"_blank\">\n",
       "                    Offres d'emploi\n",
       "                </a>\n",
       "<a href=\"https://evenements.infopro-digital.com/usine-digitale/\" rel=\"noopener\" target=\"_blank\">\n",
       "                    Nos événements\n",
       "                </a>\n",
       "<a href=\"https://www.sido-event.com/\" rel=\"noopener\" target=\"_blank\">\n",
       "                    Sido\n",
       "                </a>\n",
       "<a href=\"/nos-webinars/\">\n",
       "                    Webinars\n",
       "                </a>\n",
       "<a href=\"/infos-reuters/\">\n",
       "                    Fil Reuters\n",
       "                </a>\n",
       "</div>\n",
       "</div>\n",
       "</div>\n",
       "</div>\n",
       "</div>\n",
       "<div class=\"overlay\"></div>\n",
       "<div class=\"jqIsNoTabAndLess isNoTabAndLess\">\n",
       "<div class=\"jqGoogleAdServe\" data-ad-mapping=\"bannerTop\" data-ad-sizes=\"bannerTop\" data-ad-targeting='{\"pos_ban\":1}' id=\"bannerTop\"></div>\n",
       "</div>\n",
       "<div class=\"filArianeContent isNoMobile\">\n",
       "<ul id=\"filAriane\">\n",
       "<li><a href=\"https://www.usine-digitale.fr/\">Accueil</a></li>\n",
       "<li><a href=\"/annuaire-start-up/\"> L'annuaire des start-up</a></li>\n",
       "<li><a href=\"/annuaire-start-up/start-up-economie-et-social/\">Start-up Economie et social</a></li>\n",
       "<li><a href=\"/annuaire-start-up/financement-et-crowdfunding/\">Financement et crowdfunding</a></li>\n",
       "<li>VeraCash</li>\n",
       "</ul>\n",
       "</div>\n",
       "<div class=\"contenuPrincipal\" id=\"ficheStartUp\">\n",
       "<div class=\"contenuPage\">\n",
       "<article class=\"listArtSectTypeDeux listArtType1\" itemscope=\"\" itemtype=\"https://schema.org/Organization\">\n",
       "<link content=\"https://www.usine-digitale.fr/annuaire-start-up/veracash,1092284\" itemprop=\"url\">\n",
       "<div class=\"artSectTypeDeux\">\n",
       "<figure style=\"width:85px;\">\n",
       "<img alt=\"VeraCash\" itemprop=\"logo\" src=\"/mediatheque/4/2/1/000962124_logoStartup/veracash.png\"/>\n",
       "<figcaption>VeraCash</figcaption>\n",
       "</figure>\n",
       "<h1 class=\"titreFicheStartUp\" itemprop=\"name\">VeraCash</h1>\n",
       "<time datetime=\"2021-05-13T12:00\">Publié le 13/05/2021 à 12:00</time>\n",
       "<div class=\"clearBoth\"></div>\n",
       "</div>\n",
       "<h2 class=\"txtArtTitre\">Présentation de l’entreprise :</h2>\n",
       "<div class=\"txtArt\" itemprop=\"description\"><p>\n",
       "\tLa <a href=\"https://www.usine-digitale.fr/annuaire-start-up/\" target=\"_blank\">start-up</a> <strong>VeraCash </strong>développe un<strong> moyen de paiement alternatif</strong>.</p>\n",
       "<p>\n",
       "\tElle met à la disposition de ses clients des <strong>paiements dématérialisés</strong> en proposant un compte en ligne adossé à des métaux précieux, stockés en coffre sécurisé, utilisables à tout moment à travers une carte Mastercard, gratuite et sans commissions.</p>\n",
       "<p>\n",
       "\tLa <a href=\"https://www.usine-digitale.fr/fintech/\" target=\"_blank\">fintech</a> bordelaise revendique 30 000 clients et compte près de 1 500 nouveaux clients chaque mois.</p>\n",
       "<p>\n",
       "\tElle garde en coffres pour ses clients 22 tonnes de métaux précieux, dont 2 tonnes d’or et 20 tonnes d’argent.</p>\n",
       "<p>\n",
       "\tEn 2021, VeraCash réalise une levée de fonds de <strong>2 millions d’euros</strong> en seed.</p>\n",
       "<p>\n",
       "\tCet apport au capital est mené par des investisseurs privés dont 80% en provenance de ses clients.</p>\n",
       "<p>\n",
       "\tCe tour de table va lui permettre d’accélérer sa croissance et de développer de nouveaux services.</p>\n",
       "</div>\n",
       "<div class=\"separateurDeco\"></div>\n",
       "<h2 class=\"txtArtTitreSsSeparateur\">Genèse de l’entreprise :</h2>\n",
       "<div class=\"txtArt\" itemprop=\"review\" itemscope=\"\" itemtype=\"https://schema.org/Review\"><p>\n",
       "\tLancée en 2014, la start-up VeraCash, filiale d’AuCOFFRE.com, est créée par <strong>Jean-François Faure</strong>.</p>\n",
       "<meta content=\"VeraCash\" itemprop=\"author\">\n",
       "</meta></div>\n",
       "<h2 class=\"txtArtTitre\">Produits :</h2>\n",
       "<div class=\"txtArt\" itemprop=\"makesOffer\"><p>\n",
       "\tCompte bancaire en ligne adossé à des métaux précieux physiques</p>\n",
       "<p>\n",
       "\t </p>\n",
       "</div>\n",
       "<h2 class=\"txtArtTitre\">Marché :</h2>\n",
       "<div class=\"txtArt\"><p>\n",
       "\tServices financiers</p>\n",
       "<p>\n",
       "\t </p>\n",
       "</div>\n",
       "<h2 class=\"txtArtTitre\">Créateurs :</h2>\n",
       "<div class=\"txtArt\" itemprop=\"founders\"><p>\n",
       "\tJean-François Faure</p>\n",
       "<p>\n",
       "\t </p>\n",
       "</div>\n",
       "<h2 class=\"txtArtTitre\">Implantation :</h2>\n",
       "<div class=\"txtArt\" itemprop=\"address\" itemscope=\"\" itemtype=\"https://schema.org/PostalAddress\"><p>\n",
       "\tFrance</p>\n",
       "<p>\n",
       "\t </p>\n",
       "<meta content=\" \n",
       "\tFrance \n",
       " \n",
       "\t  \n",
       "\" itemprop=\"addressCountry\"/>\n",
       "</div>\n",
       "<div id=\"infoPratiq\">\n",
       "<h2 class=\"txtArtTitre\">Informations pratiques :</h2>\n",
       "<div class=\"deco\">\n",
       "<ul>\n",
       "<li><div class=\"titreInfo\">Date de création </div><meta content=\"2014-01-01\" itemprop=\"foundingDate\"/><p>01/01/2014<p></p></p></li> <li><div class=\"titreInfo\">Adresse du siège </div><p itemprop=\"address\">42 rue de Tauzia<br/>33800 Bordeaux<p></p></p></li> <li><div class=\"titreInfo\">Nombre d’employés </div><p itemprop=\"numberOfEmployees\">15<p></p></p></li> <li><div class=\"titreInfo\">Site Web </div><p><a href=\"https://www.veracash.fr/\" itemprop=\"url\" rel=\"nofollow\" target=\"_blank\">https://www.veracash.fr/</a><p></p></p></li> <li><div class=\"titreInfo\">Téléphone </div><p itemprop=\"telephone\">01 80 88 61 00<p></p></p></li> <li><div class=\"titreInfo\">Email </div><p itemprop=\"email\">contact@veracash.com<p></p></p></li> </ul>\n",
       "<div class=\"clearBoth\"></div>\n",
       "</div>\n",
       "</div>\n",
       "<p class=\"titreAgConsMark\">Financement et crowdfunding :</p>\n",
       "<ul class=\"listAgConsMark\" itemscope=\"\" itemtype=\"https://schema.org/ItemList\">\n",
       "<meta content=\"Financement et crowdfunding\" itemprop=\"name\">\n",
       "<li class=\"fond\" itemprop=\"itemListElement\" itemscope=\"\" itemtype=\"https://schema.org/ListItem\">\n",
       "<img alt=\"Silvr\" class=\"imgAgConsMark\" height=\"25\" itemprop=\"image\" src=\"/mediatheque/4/5/1/000948154_logoTagStartup/silvr.jpg\"/>\n",
       "<a href=\"/annuaire-start-up/silvr,1073149\" itemprop=\"url\">Silvr</a>\n",
       "<meta content=\"Silvr\" itemprop=\"name\"/>\n",
       "<meta content=\"1\" itemprop=\"position\"/>\n",
       "<div class=\"clearBoth\"></div> </li>\n",
       "<li class=\"marginLeft20 fond\" itemprop=\"itemListElement\" itemscope=\"\" itemtype=\"https://schema.org/ListItem\">\n",
       "<img alt=\"Ramify\" class=\"imgAgConsMark\" height=\"25\" itemprop=\"image\" src=\"/mediatheque/9/3/6/000952639_logoTagStartup/ramify.jpg\"/>\n",
       "<a href=\"/annuaire-start-up/ramify,1078984\" itemprop=\"url\">Ramify</a>\n",
       "<meta content=\"Ramify\" itemprop=\"name\"/>\n",
       "<meta content=\"2\" itemprop=\"position\"/>\n",
       "<div class=\"clearBoth\"></div> </li>\n",
       "<li class=\"\" itemprop=\"itemListElement\" itemscope=\"\" itemtype=\"https://schema.org/ListItem\">\n",
       "<a href=\"/annuaire-start-up/mansa,1068894\" itemprop=\"url\">Mansa</a>\n",
       "<meta content=\"Mansa\" itemprop=\"name\"/>\n",
       "<meta content=\"3\" itemprop=\"position\"/>\n",
       "<div class=\"clearBoth\"></div> </li>\n",
       "<li class=\"marginLeft20\" itemprop=\"itemListElement\" itemscope=\"\" itemtype=\"https://schema.org/ListItem\">\n",
       "<a href=\"/annuaire-start-up/iroko,1062594\" itemprop=\"url\">Iroko </a>\n",
       "<meta content=\"Iroko \" itemprop=\"name\"/>\n",
       "<meta content=\"4\" itemprop=\"position\"/>\n",
       "<div class=\"clearBoth\"></div> </li>\n",
       "<li class=\"fond\" itemprop=\"itemListElement\" itemscope=\"\" itemtype=\"https://schema.org/ListItem\">\n",
       "<a href=\"/annuaire-start-up/soan,1058269\" itemprop=\"url\">Soan</a>\n",
       "<meta content=\"Soan\" itemprop=\"name\"/>\n",
       "<meta content=\"5\" itemprop=\"position\"/>\n",
       "<div class=\"clearBoth\"></div> </li>\n",
       "<li class=\"marginLeft20 fond\" itemprop=\"itemListElement\" itemscope=\"\" itemtype=\"https://schema.org/ListItem\">\n",
       "<a href=\"/annuaire-start-up/finkey,1024269\" itemprop=\"url\">FinKey</a>\n",
       "<meta content=\"FinKey\" itemprop=\"name\"/>\n",
       "<meta content=\"6\" itemprop=\"position\"/>\n",
       "<div class=\"clearBoth\"></div> </li>\n",
       "<li class=\"\" itemprop=\"itemListElement\" itemscope=\"\" itemtype=\"https://schema.org/ListItem\">\n",
       "<a href=\"/annuaire-start-up/multis,1012744\" itemprop=\"url\">Multis </a>\n",
       "<meta content=\"Multis \" itemprop=\"name\"/>\n",
       "<meta content=\"7\" itemprop=\"position\"/>\n",
       "<div class=\"clearBoth\"></div> </li>\n",
       "<li class=\"marginLeft20\" itemprop=\"itemListElement\" itemscope=\"\" itemtype=\"https://schema.org/ListItem\">\n",
       "<a href=\"/annuaire-start-up/globedreamers,979261\" itemprop=\"url\">GlobeDreamers </a>\n",
       "<meta content=\"GlobeDreamers \" itemprop=\"name\"/>\n",
       "<meta content=\"8\" itemprop=\"position\"/>\n",
       "<div class=\"clearBoth\"></div> </li>\n",
       "<li class=\"\" itemprop=\"itemListElement\" itemscope=\"\" itemtype=\"https://schema.org/ListItem\">\n",
       "<a href=\"/annuaire-start-up/memo-bank-anciennement-margo-bank,980001\" itemprop=\"url\">Memo Bank, anciennement Margo Bank  </a>\n",
       "<meta content=\"Memo Bank, anciennement Margo Bank  \" itemprop=\"name\"/>\n",
       "<meta content=\"9\" itemprop=\"position\"/>\n",
       "<div class=\"clearBoth\"></div> </li>\n",
       "<li class=\"marginLeft20 fond\" itemprop=\"itemListElement\" itemscope=\"\" itemtype=\"https://schema.org/ListItem\">\n",
       "<a href=\"/annuaire-start-up/mon-petit-placement,969091\" itemprop=\"url\">Mon Petit Placement</a>\n",
       "<meta content=\"Mon Petit Placement\" itemprop=\"name\"/>\n",
       "<meta content=\"10\" itemprop=\"position\"/>\n",
       "<div class=\"clearBoth\"></div> </li>\n",
       "</meta></ul>\n",
       "<div class=\"clearBoth\"></div>\n",
       "</link></article>\n",
       "</div>\n",
       "<div class=\"sidebar\">\n",
       "<div data-sticky_banner=\".topPubHeader\" data-sticky_sidebar=\".contenuPage\" data-sticky_top=\".headerFixe\"></div>\n",
       "<div class=\"isNoTabAndLess\">\n",
       "<div class=\"pushSidebar1\">\n",
       "<span class=\"deco\"> </span>\n",
       "<div class=\"content\">\n",
       "<p class=\"titre\"><span>Tous les jours,</span><br>l'actu de la transition numérique</br></p>\n",
       "<a class=\"linkPushSidebarType1\" href=\"/inscription-nl\"><span></span>Je m'inscris</a>\n",
       "</div>\n",
       "</div>\n",
       "</div>\n",
       "<div class=\"jqGoogleAdServe\" data-ad-mapping=\"pave\" data-ad-sizes=\"pave_fluid\" data-ad-targeting='{\"pos_pave\":1}' id=\"paveTop\"></div>\n",
       "<div class=\"isNoTabAndLess\">\n",
       "<div class=\"blocType1 startUpSidebar\">\n",
       "<p class=\"titreType1\">Les Start-up <span>à la une</span></p>\n",
       "<div class=\"contenu\">\n",
       "<p class=\"texteContenu1\">\n",
       "<a class=\"lienType2\" href=\"/annuaire-start-up/skillup,573178\">Skillup</a><br/>\n",
       "\t\t\t\t\t\tLancée en 2016, la start-up Skillup développe une plateforme BtoB permettant chercher, comparer et réserver des […]\n",
       "\t\t</p>\n",
       "<div class=\"imgContenu1\">\n",
       "<img alt=\"Skillup\" src=\"/mediatheque/3/5/7/000570753_logoEntrepriseBloc/skillup.png\"/>\n",
       "</div>\n",
       "</div>\n",
       "</div>\n",
       "<div class=\"titreBlocColTypeTrois\" id=\"inscrireStartUp\">\n",
       "<p><span>Vous souhaitez</span> compléter une fiche<span> ou en </span>créer une?</p>\n",
       "<a class=\"btnTypeB2\" href=\"/contact?objet=2\"><span>+</span> Inscrire ma Start-up</a>\n",
       "</div>\n",
       "<div class=\"pushSidebar1\">\n",
       "<span class=\"decoEvent\"> </span>\n",
       "<div class=\"content\">\n",
       "<p class=\"titreJobBoardRDV\">Vos RDV à ne pas manquer</p>\n",
       "<div class=\"linkPushSidebarType1\"><span></span></div>\n",
       "<a class=\"linkJobBoardType3 first\" href=\"\n",
       "https://evenements.infopro-digital.com/usine-digitale/formation-rgpd-connaitre-et-implementer-les-obligations-dans-vos-pratiques-marketing-p-7598\" target=\"_blank\"><span class=\"icon-arrow-list\"></span>\n",
       "<span class=\"bold\">\n",
       "RGPD : Connaître et implémenter les obligations dans vos pratiques marketing\n",
       "</span>\n",
       "<p class=\"descript\">\n",
       "Se mettre concrètement en conformité\n",
       "</p>\n",
       "<p class=\"dateEtiquette\">\n",
       "Paris\n",
       ", 23 septembre 2021</p>\n",
       "</a>\n",
       "<a class=\"linkJobBoardType3\" href=\"\n",
       "https://evenements.infopro-digital.com/usine-digitale/formation-devenir-dpo-data-protection-officer-p-8934\" target=\"_blank\"><span class=\"icon-arrow-list\"></span>\n",
       "<span class=\"bold\">\n",
       "Devenir DPO – Data Protection Officer\n",
       "</span>\n",
       "<p class=\"descript\">\n",
       "Assurer et maintenir la conformité au RGPD\n",
       "</p>\n",
       "<p class=\"dateEtiquette\">\n",
       "Paris\n",
       ", 25 novembre 2021</p>\n",
       "</a>\n",
       "<a class=\"boutonType2\" href=\"https://evenements.infopro-digital.com/usine-digitale/\" target=\"_blank\">Voir tous nos evenements</a>\n",
       "</div>\n",
       "</div>\n",
       "</div>\n",
       "</div>\n",
       "</div>\n",
       "<div class=\"jqGoogleAdServe\" data-ad-mapping=\"bannerGeneric\" data-ad-sizes=\"banner\" data-ad-targeting='{\"pos_ban\":3}' id=\"bannerBottom\"></div>\n",
       "<footer class=\"footer\">\n",
       "<div class=\"contentFooter\">\n",
       "<div class=\"contentReseaux\">\n",
       "<p>Suivez l'Usine Digitale</p>\n",
       "<a href=\"https://twitter.com/LUsineDigitale\" rel=\"nofollow\" target=\"_blank\"><img alt=\"Twitter\" src=\"/images/icon/icon-twitter-2.png\"/></a>\n",
       "<a href=\"https://www.facebook.com/pages/LUsine-Digitale/304875692979410\" rel=\"nofollow\" target=\"_blank\"><img alt=\"Facebook\" src=\"/images/icon/icon-facebook-2.png\"/></a>\n",
       "<a href=\"https://fr.linkedin.com/company/l%27usine-digitale\" rel=\"nofollow\" target=\"_blank\"><img alt=\"Linked In\" src=\"/images/icon/icon-linkedin-2.png\"/></a>\n",
       "</div>\n",
       "<p class=\"descriptionFooter isNoMobile\">\n",
       "<strong>L'Usine Digitale, c'est le media de la transformation numérique.</strong><br/>\n",
       "<strong>Dans les entreprises, le digital change tout</strong> : les business modèles, les manières d'innover, de vendre, de travailler...\n",
       "\t\t\t\tLa rédaction de L'Usine Digitale déniche et raconte les bonnes pratiques qu'adoptent les \"vieilles\" entreprises face à cette déferlante.\n",
       "\t\t\t\tElle décrypte ce que font les acteurs du numérique, pure players ou pas, et analyse leurs marchés, leur état de santé, leurs originalités.\n",
       "\t\t\t\tBig Data, Cloud, open source, économie du partage, objets connectés... L'Usine Digitale permet aux professionnels de tous les secteurs de se mettre en permanence à jour sur la transformation numérique en s'inspirant des meilleures pratiques.\n",
       "\t\t\t</p>\n",
       "<ul class=\"linkFooter\">\n",
       "<li><a href=\"http://www.infopro-digital.com/solutions/nos-metiers/medias-networking/\">Publicité</a></li>\n",
       "<li><a href=\"/conditions\">Mentions légales</a></li>\n",
       "<li><a href=\"/contact\">Contactez-nous</a></li>\n",
       "<li class=\"rgpdLink\"><a href=\"https://www.infopro-digital.com/rgpd-gdpr/fr/\" target=\"_blank\">RGPD</a></li>\n",
       "<li class=\"chevronType5\"><a href=\"javascript:Didomi.preferences.show()\">Paramétrage Cookie</a></li>\n",
       "</ul>\n",
       "</div>\n",
       "<div class=\"contentBrand isNoMobile\">\n",
       "<p>\n",
       "<a href=\"http://www.infopro-digital.com/\" target=\"_blank\">Une marque du groupe <img alt=\"Infopro digital\" src=\"/images/logo-infopro.png\"/></a>\n",
       "</p>\n",
       "</div>\n",
       "</footer>\n",
       "<script type=\"text/javascript\">\n",
       "        var advertisementParams = {\"targeting\":{\"devtest\":false},\"slotRefresh\":{\"bannerTop\":30,\"infeed\":30,\"inread\":30},\"netWorkCode\":21799741328,\"adCallClass\":null,\"slotConfigurations\":{\"paveTop\":{\"mapping\":\"pave\",\"sizes\":\"pave_fluid\",\"targeting\":{\"pos_pave\":1}},\"paveMiddle\":{\"mapping\":\"pave\",\"sizes\":\"pave_fluid\",\"targeting\":{\"pos_pave\":2}},\"paveBottom\":{\"mapping\":\"pave\",\"sizes\":\"pave_fluid\",\"targeting\":{\"pos_pave\":3}},\"bannerTop\":{\"mapping\":\"bannerTop\",\"sizes\":\"bannerTop\",\"targeting\":{\"pos_ban\":1}},\"bannerNav\":{\"mapping\":\"bannerGeneric\",\"sizes\":\"banner\",\"targeting\":{\"pos_ban\":2}},\"bannerBottom\":{\"mapping\":\"bannerGeneric\",\"sizes\":\"banner\",\"targeting\":{\"pos_ban\":3}},\"inread\":{\"mapping\":\"native\",\"sizes\":\"inread\",\"targeting\":{\"pos_inread\":1}},\"infeed\":{\"mapping\":\"native\",\"sizes\":\"infeed\",\"targeting\":{\"pos_infeed\":1}}},\"mapping\":null,\"slotSizes\":null,\"isInternalIp\":false,\"adsDisable\":false,\"isDevServ\":false,\"adUnitPath\":\"\\/ud\\/defaut\"};\n",
       "    </script>\n",
       "<script src=\"/resources/jquery/jquery.min.IPDIGIT1620226224TIGIDPI.js\"></script>\n",
       "<script src=\"/js/lib/jquery-migrate-3.1.0.min.IPDIGIT1620226221TIGIDPI.js\"></script>\n",
       "<script src=\"/js/common-min.IPDIGIT1620225973TIGIDPI.js\"></script>\n",
       "<script src=\"/js/trackings-min.IPDIGIT1620225973TIGIDPI.js\"></script>\n",
       "<script src=\"/js/mol-module/header-min.IPDIGIT1615990444TIGIDPI.js\"></script>\n",
       "<script src=\"/js/webinar-module/webinar-widget-min.IPDIGIT1601893058TIGIDPI.js\"></script>\n",
       "<script src=\"/js/base-module/libs/smarttag-min.IPDIGIT1620225984TIGIDPI.js\"></script>\n",
       "<script src=\"/js/base-module/trackings-min.IPDIGIT1616751112TIGIDPI.js\"></script>\n",
       "<script src=\"/js/gam-min.IPDIGIT1620225973TIGIDPI.js\"></script>\n",
       "<script type=\"text/javascript\">\n",
       "        var xitiParams = {\"page\":{\"level2\":6,\"name\":\"web-1092284-veracash\",\"chapter1\":\"fiche_startup\",\"chapter2\":\"start-up_economie_et_social\",\"chapter3\":\"financement_et_crowdfunding\"},\"customVars\":{\"site\":{\"1\":\"anonyme\",\"2\":[],\"6\":null,\"7\":\"20210513\"}},\"identifiedVisitor\":{\"category\":3},\"tags\":{\"keywords\":[\"financement-et-crowdfu\"]}};\n",
       "    </script>\n",
       "<script src=\"/js/lib/postscribe.IPDIGIT1620226221TIGIDPI.js\" type=\"text/javascript\"></script><script src=\"/js/app.IPDIGIT1620226221TIGIDPI-min.js\" type=\"text/javascript\"></script><script src=\"/js/app.forms.IPDIGIT1620226221TIGIDPI-min.js\" type=\"text/javascript\"></script><script src=\"/js/app.sharing.IPDIGIT1620226221TIGIDPI-min.js\" type=\"text/javascript\"></script><script src=\"/js/app.sharing-mail.IPDIGIT1620226221TIGIDPI-min.js\" type=\"text/javascript\"></script><script src=\"/js/lib/nyromodal.IPDIGIT1620226221TIGIDPI-min.js\" type=\"text/javascript\"></script><script src=\"/js/app.infinite-scroll.IPDIGIT1620226221TIGIDPI-min.js\" type=\"text/javascript\"></script><script src=\"/js/headerfixe.IPDIGIT1620226221TIGIDPI-min.js\" type=\"text/javascript\"></script>\n",
       "<script type=\"text/javascript\">window.NREUM||(NREUM={});NREUM.info={\"beacon\":\"bam-cell.nr-data.net\",\"licenseKey\":\"6c84580c5c\",\"applicationID\":\"2469821\",\"transactionName\":\"ZgFQMUVUV0dZAk0KWF9LcRBEQVZZF1ANTkRFBUARQkUWBAhMXwpUWQEcFV9F\",\"queueTime\":0,\"applicationTime\":915,\"atts\":\"SkZHRw1ORBgaABtZTEwZ\",\"errorBeacon\":\"bam-cell.nr-data.net\",\"agent\":\"\"}</script></body>\n",
       "</html>"
      ]
     },
     "execution_count": 13,
     "metadata": {},
     "output_type": "execute_result"
    }
   ],
   "source": [
    "#### récupération du html et parsing\n",
    "soupStartup = BeautifulSoup(requests.get(\"https://www.usine-digitale.fr/annuaire-start-up/veracash,1092284\").text, 'html.parser') \n",
    "soupStartup"
   ]
  },
  {
   "cell_type": "markdown",
   "metadata": {},
   "source": [
    "#### Isoler chacun des élements demandés"
   ]
  },
  {
   "cell_type": "code",
   "execution_count": 14,
   "metadata": {},
   "outputs": [
    {
     "data": {
      "text/plain": [
       "'VeraCash'"
      ]
     },
     "execution_count": 14,
     "metadata": {},
     "output_type": "execute_result"
    }
   ],
   "source": [
    "#### Nom de la startup\n",
    "\n",
    "soupStartup.find_all(\"h1\", attrs = {\"class\": \"titreFicheStartUp\"})[0].text"
   ]
  },
  {
   "cell_type": "code",
   "execution_count": 15,
   "metadata": {},
   "outputs": [
    {
     "data": {
      "text/plain": [
       "'2014-01-01'"
      ]
     },
     "execution_count": 15,
     "metadata": {},
     "output_type": "execute_result"
    }
   ],
   "source": [
    "#### Date de création\n",
    "\n",
    "soupStartup.find_all(\"meta\", attrs = {\"itemprop\": \"foundingDate\"})[0][\"content\"] #### La valeur de l'attribut content"
   ]
  },
  {
   "cell_type": "code",
   "execution_count": 16,
   "metadata": {},
   "outputs": [
    {
     "data": {
      "text/plain": [
       "'https://www.veracash.fr/'"
      ]
     },
     "execution_count": 16,
     "metadata": {},
     "output_type": "execute_result"
    }
   ],
   "source": [
    "#### Site web\n",
    "\n",
    "siteweb = soupStartup.find_all(\"a\", attrs= {\"itemprop\": \"url\"})[0].text\n",
    "siteweb"
   ]
  },
  {
   "cell_type": "code",
   "execution_count": 18,
   "metadata": {},
   "outputs": [
    {
     "data": {
      "text/plain": [
       "'contact@veracash.com'"
      ]
     },
     "execution_count": 18,
     "metadata": {},
     "output_type": "execute_result"
    }
   ],
   "source": [
    "#### récupération du mail\n",
    "\n",
    "soupStartup.find(attrs={'itemprop':'email'}).text.strip()"
   ]
  },
  {
   "cell_type": "code",
   "execution_count": 21,
   "metadata": {},
   "outputs": [
    {
     "data": {
      "text/plain": [
       "'42 rue de Tauzia 33800 Bordeaux'"
      ]
     },
     "execution_count": 21,
     "metadata": {},
     "output_type": "execute_result"
    }
   ],
   "source": [
    "#### Adresse du siège\n",
    "\n",
    "soupStartup.find_all(\"p\", attrs = {\"itemprop\": \"address\"})[0].contents[0] + \" \" + soupStartup.find_all(\"p\", attrs = {\"itemprop\": \"address\"})[0].contents[2]\n"
   ]
  },
  {
   "cell_type": "code",
   "execution_count": 22,
   "metadata": {},
   "outputs": [
    {
     "data": {
      "text/plain": [
       "'01 80 88 61 00'"
      ]
     },
     "execution_count": 22,
     "metadata": {},
     "output_type": "execute_result"
    }
   ],
   "source": [
    "#### Téléphone\n",
    "\n",
    "soupStartup.find(attrs={'itemprop':'telephone'}).text.strip()"
   ]
  },
  {
   "cell_type": "markdown",
   "metadata": {},
   "source": [
    "#### Isoler les adresses"
   ]
  },
  {
   "cell_type": "code",
   "execution_count": 23,
   "metadata": {},
   "outputs": [
    {
     "data": {
      "text/plain": [
       "<p itemprop=\"address\">42 rue de Tauzia<br/>33800 Bordeaux<p></p></p>"
      ]
     },
     "execution_count": 23,
     "metadata": {},
     "output_type": "execute_result"
    }
   ],
   "source": [
    "soupStartup.find_all(\"p\", attrs = {\"itemprop\": \"address\"})[0]"
   ]
  },
  {
   "cell_type": "code",
   "execution_count": 24,
   "metadata": {},
   "outputs": [
    {
     "data": {
      "text/plain": [
       "['42 rue de Tauzia', <br/>, '33800 Bordeaux', <p></p>]"
      ]
     },
     "execution_count": 24,
     "metadata": {},
     "output_type": "execute_result"
    }
   ],
   "source": [
    "#### On applique contents pour isoler les élements\n",
    "\n",
    "soupStartup.find_all(\"p\", attrs = {\"itemprop\": \"address\"})[0].contents "
   ]
  },
  {
   "cell_type": "code",
   "execution_count": 25,
   "metadata": {},
   "outputs": [
    {
     "data": {
      "text/plain": [
       "'42 rue de Tauzia'"
      ]
     },
     "execution_count": 25,
     "metadata": {},
     "output_type": "execute_result"
    }
   ],
   "source": [
    "#### L'adresse\n",
    "\n",
    "soupStartup.find_all(\"p\", attrs = {\"itemprop\": \"address\"})[0].contents[0] "
   ]
  },
  {
   "cell_type": "code",
   "execution_count": 26,
   "metadata": {},
   "outputs": [
    {
     "data": {
      "text/plain": [
       "'33800 Bordeaux'"
      ]
     },
     "execution_count": 26,
     "metadata": {},
     "output_type": "execute_result"
    }
   ],
   "source": [
    "#### Le code postal et la ville\n",
    "\n",
    "soupStartup.find_all(\"p\", attrs = {\"itemprop\": \"address\"})[0].contents[2] "
   ]
  },
  {
   "cell_type": "code",
   "execution_count": 27,
   "metadata": {},
   "outputs": [
    {
     "data": {
      "text/plain": [
       "[<div class=\"txtArt\" itemprop=\"description\"><p>\n",
       " \tLa <a href=\"https://www.usine-digitale.fr/annuaire-start-up/\" target=\"_blank\">start-up</a> <strong>VeraCash </strong>développe un<strong> moyen de paiement alternatif</strong>.</p>\n",
       " <p>\n",
       " \tElle met à la disposition de ses clients des <strong>paiements dématérialisés</strong> en proposant un compte en ligne adossé à des métaux précieux, stockés en coffre sécurisé, utilisables à tout moment à travers une carte Mastercard, gratuite et sans commissions.</p>\n",
       " <p>\n",
       " \tLa <a href=\"https://www.usine-digitale.fr/fintech/\" target=\"_blank\">fintech</a> bordelaise revendique 30 000 clients et compte près de 1 500 nouveaux clients chaque mois.</p>\n",
       " <p>\n",
       " \tElle garde en coffres pour ses clients 22 tonnes de métaux précieux, dont 2 tonnes d’or et 20 tonnes d’argent.</p>\n",
       " <p>\n",
       " \tEn 2021, VeraCash réalise une levée de fonds de <strong>2 millions d’euros</strong> en seed.</p>\n",
       " <p>\n",
       " \tCet apport au capital est mené par des investisseurs privés dont 80% en provenance de ses clients.</p>\n",
       " <p>\n",
       " \tCe tour de table va lui permettre d’accélérer sa croissance et de développer de nouveaux services.</p>\n",
       " </div>,\n",
       " <div class=\"txtArt\" itemprop=\"review\" itemscope=\"\" itemtype=\"https://schema.org/Review\"><p>\n",
       " \tLancée en 2014, la start-up VeraCash, filiale d’AuCOFFRE.com, est créée par <strong>Jean-François Faure</strong>.</p>\n",
       " <meta content=\"VeraCash\" itemprop=\"author\">\n",
       " </meta></div>,\n",
       " <div class=\"txtArt\" itemprop=\"makesOffer\"><p>\n",
       " \tCompte bancaire en ligne adossé à des métaux précieux physiques</p>\n",
       " <p>\n",
       " \t </p>\n",
       " </div>,\n",
       " <div class=\"txtArt\"><p>\n",
       " \tServices financiers</p>\n",
       " <p>\n",
       " \t </p>\n",
       " </div>,\n",
       " <div class=\"txtArt\" itemprop=\"founders\"><p>\n",
       " \tJean-François Faure</p>\n",
       " <p>\n",
       " \t </p>\n",
       " </div>,\n",
       " <div class=\"txtArt\" itemprop=\"address\" itemscope=\"\" itemtype=\"https://schema.org/PostalAddress\"><p>\n",
       " \tFrance</p>\n",
       " <p>\n",
       " \t </p>\n",
       " <meta content=\" \n",
       " \tFrance \n",
       "  \n",
       " \t  \n",
       " \" itemprop=\"addressCountry\"/>\n",
       " </div>]"
      ]
     },
     "execution_count": 27,
     "metadata": {},
     "output_type": "execute_result"
    }
   ],
   "source": [
    "#### Marché\n",
    "\n",
    "soupStartup.find_all(attrs={'class':'txtArt'})"
   ]
  },
  {
   "cell_type": "code",
   "execution_count": 30,
   "metadata": {},
   "outputs": [
    {
     "data": {
      "text/plain": [
       "'Services financiers'"
      ]
     },
     "execution_count": 30,
     "metadata": {},
     "output_type": "execute_result"
    }
   ],
   "source": [
    "marche = soupStartup.find_all(attrs={'class':'txtArt'})[3].text.strip()\n",
    "marche #### Fonctionnel mais problématique suivant la startup scrappé"
   ]
  },
  {
   "cell_type": "code",
   "execution_count": 31,
   "metadata": {},
   "outputs": [
    {
     "data": {
      "text/plain": [
       "6"
      ]
     },
     "execution_count": 31,
     "metadata": {},
     "output_type": "execute_result"
    }
   ],
   "source": [
    "len(soupStartup.find_all(\"div\", attrs={'class':'txtArt'}))"
   ]
  },
  {
   "cell_type": "code",
   "execution_count": 32,
   "metadata": {},
   "outputs": [
    {
     "data": {
      "text/plain": [
       "' \\n\\n\\n\\n'"
      ]
     },
     "execution_count": 32,
     "metadata": {},
     "output_type": "execute_result"
    }
   ],
   "source": [
    "#### Startup 1: Présence d'environnement concurentiel\n",
    "\n",
    "soupStartup2 = BeautifulSoup(requests.get(\"https://www.usine-digitale.fr/annuaire-start-up/silvr,1073149\").text, 'html.parser') #### récupération du html et parsing\n",
    "soupStartup2.text[0:5]"
   ]
  },
  {
   "cell_type": "code",
   "execution_count": 33,
   "metadata": {},
   "outputs": [
    {
     "data": {
      "text/plain": [
       "' \\n\\n\\n\\n'"
      ]
     },
     "execution_count": 33,
     "metadata": {},
     "output_type": "execute_result"
    }
   ],
   "source": [
    "#### Startup 2: Absence d'environnement concurentiel\n",
    "soupStartup3 = BeautifulSoup(requests.get(\"https://www.usine-digitale.fr/annuaire-start-up/izi-family,1072689\").text, 'html.parser') #### récupération du html et parsing\n",
    "soupStartup3.text[0:5]"
   ]
  },
  {
   "cell_type": "code",
   "execution_count": 34,
   "metadata": {},
   "outputs": [
    {
     "data": {
      "text/plain": [
       "8"
      ]
     },
     "execution_count": 34,
     "metadata": {},
     "output_type": "execute_result"
    }
   ],
   "source": [
    "#### 8 élements (div d'attribut txtArt) présent avec environnement concurentiel\n",
    "\n",
    "len(soupStartup2.find_all(\"div\", attrs={'class':'txtArt'})) "
   ]
  },
  {
   "cell_type": "code",
   "execution_count": 35,
   "metadata": {},
   "outputs": [
    {
     "data": {
      "text/plain": [
       "7"
      ]
     },
     "execution_count": 35,
     "metadata": {},
     "output_type": "execute_result"
    }
   ],
   "source": [
    "#### 7 élements (div d'attribut txtArt) présent sans environnement concurentiel\n",
    "\n",
    "len(soupStartup3.find_all(\"div\", attrs={'class':'txtArt'})) "
   ]
  },
  {
   "cell_type": "code",
   "execution_count": 36,
   "metadata": {},
   "outputs": [
    {
     "data": {
      "text/plain": [
       "<div class=\"txtArt\"><p>\n",
       "\tiZi Pass : gratuit sans engagement (5 démarches incluses)<br/>\n",
       "\tiZi Confort : à partir de 5€/mois sans engagement (démarches illimitées)</p>\n",
       "</div>"
      ]
     },
     "execution_count": 36,
     "metadata": {},
     "output_type": "execute_result"
    }
   ],
   "source": [
    "#### Exemple de fonctionnement de la fonction\n",
    "\n",
    "soupStartup3.find_all('div', {'class': 'txtArt'})[4] ### Pb: La sortie ne correspond pas à marché mais à l'élement d'après"
   ]
  },
  {
   "cell_type": "code",
   "execution_count": 37,
   "metadata": {},
   "outputs": [
    {
     "data": {
      "text/plain": [
       "<div class=\"txtArt\"><p>\n",
       "\tAdministratif<br/>\n",
       "\tLégal<br/>\n",
       "\tLogiciels</p>\n",
       "</div>"
      ]
     },
     "execution_count": 37,
     "metadata": {},
     "output_type": "execute_result"
    }
   ],
   "source": [
    "soupStartup3.find_all('div', {'class': 'txtArt'})[3] ### Solution: index - 1 doit être sélectionné"
   ]
  },
  {
   "cell_type": "code",
   "execution_count": 40,
   "metadata": {},
   "outputs": [],
   "source": [
    "#### Etape 1: Création de la fonction recup_marche qui récupère les éléments associés au marché selon le type de balise\n",
    "\n",
    "def recup_marche(soup):\n",
    "  \"\"\"\n",
    "  But: récupérer la valeur de la balise marché dans les balises div de class txtArt\n",
    "  Entrée: soup\n",
    "  Sortie: balise marché\n",
    "  \"\"\"\n",
    "  div_t = soup.find_all('div', {'class': 'txtArt'}) #### Je récupère l'ensemble des balises div de class textArt\n",
    "  if len(div_t) ==8 :#### Si la longeur de l'objet est  8\n",
    "    return soup.find_all('div', {'class': 'txtArt'})[4] #### J'applique l'opération suivante ie récupération des balises de classe txtArt associées au marché\n",
    "  else:\n",
    "    return (\"la longeur de l'objet est de \" + str(len(div_t)), (soup.find_all('div', {'class': 'txtArt'})[3])) #### J'applique l'opération suivante ie récupération des balises de classe txtArt associées au marché"
   ]
  },
  {
   "cell_type": "code",
   "execution_count": 41,
   "metadata": {},
   "outputs": [
    {
     "data": {
      "text/plain": [
       "(\"la longeur de l'objet est de 7\",\n",
       " <div class=\"txtArt\"><p>\n",
       " \tAdministratif<br/>\n",
       " \tLégal<br/>\n",
       " \tLogiciels</p>\n",
       " </div>)"
      ]
     },
     "execution_count": 41,
     "metadata": {},
     "output_type": "execute_result"
    }
   ],
   "source": [
    "#### Etape 2: Appel de la fonction\n",
    "\n",
    "#### Sur soup3\n",
    "\n",
    "recup_marche(soupStartup3)"
   ]
  },
  {
   "cell_type": "code",
   "execution_count": 42,
   "metadata": {},
   "outputs": [
    {
     "data": {
      "text/plain": [
       "(\"la longeur de l'objet est de 6\",\n",
       " <div class=\"txtArt\"><p>\n",
       " \tServices financiers</p>\n",
       " <p>\n",
       " \t </p>\n",
       " </div>)"
      ]
     },
     "execution_count": 42,
     "metadata": {},
     "output_type": "execute_result"
    }
   ],
   "source": [
    "recup_marche(soupStartup)"
   ]
  },
  {
   "cell_type": "code",
   "execution_count": 43,
   "metadata": {},
   "outputs": [
    {
     "data": {
      "text/plain": [
       "<div class=\"txtArt\"><p>\n",
       "\tAdministratif<br/>\n",
       "\tLégal<br/>\n",
       "\tLogiciels</p>\n",
       "</div>"
      ]
     },
     "execution_count": 43,
     "metadata": {},
     "output_type": "execute_result"
    }
   ],
   "source": [
    "#### La balise marché\n",
    "\n",
    "recup_marche(soupStartup3)[1] #### stocker le tout dans une variable marché"
   ]
  },
  {
   "cell_type": "code",
   "execution_count": 45,
   "metadata": {},
   "outputs": [
    {
     "data": {
      "text/plain": [
       "'Administratif Légal Logiciels'"
      ]
     },
     "execution_count": 45,
     "metadata": {},
     "output_type": "execute_result"
    }
   ],
   "source": [
    "#### récupération des marchés\n",
    "\n",
    "recup_marche(soupStartup3)[1].text.strip().replace(\"\\r\\n\\t\", \" \")"
   ]
  },
  {
   "cell_type": "code",
   "execution_count": 46,
   "metadata": {},
   "outputs": [
    {
     "data": {
      "text/plain": [
       "'AdministratifLégalLogiciels'"
      ]
     },
     "execution_count": 46,
     "metadata": {},
     "output_type": "execute_result"
    }
   ],
   "source": [
    "#### Autre méthode\n",
    "\n",
    "recup_marche(soupStartup3)[1].get_text(strip= True)  "
   ]
  },
  {
   "cell_type": "code",
   "execution_count": 48,
   "metadata": {},
   "outputs": [
    {
     "data": {
      "text/plain": [
       "'Services financiers'"
      ]
     },
     "execution_count": 48,
     "metadata": {},
     "output_type": "execute_result"
    }
   ],
   "source": [
    "recup_marche(soupStartup)[1].text.strip().replace(\"\\r\\n\\t\", \" \")"
   ]
  },
  {
   "cell_type": "markdown",
   "metadata": {},
   "source": [
    "#### On récupère les élement des deux startups précédentes"
   ]
  },
  {
   "cell_type": "code",
   "execution_count": 50,
   "metadata": {},
   "outputs": [],
   "source": [
    "#### Url des startups\n",
    "\n",
    "liste_url = [\"https://www.usine-digitale.fr/annuaire-start-up/izi-family,1072689\", \"https://www.usine-digitale.fr/annuaire-start-up/silvr,1073149\"]"
   ]
  },
  {
   "cell_type": "code",
   "execution_count": 51,
   "metadata": {},
   "outputs": [
    {
     "name": "stdout",
     "output_type": "stream",
     "text": [
      "0\n",
      "1\n"
     ]
    }
   ],
   "source": [
    "liste_info = []\n",
    "\n",
    "for i in range(0,len(liste_url) ): #### Pour chaque élement de l'objet listUrl\n",
    "    soupStartup = BeautifulSoup(requests.get(liste_url[i]).text, 'html.parser') #### Création de l'objet soup\n",
    "\n",
    "    #### Récupération de tout les élements\n",
    "    print(i)\n",
    "\n",
    "    nom = soupStartup.find_all(\"h1\", attrs = {\"class\": \"titreFicheStartUp\"})[0].text.strip() if soupStartup.find('h1', attrs={'class':'titreFicheStartUp'}) else \"XXX\" #### Récupération de la balise si la balise existe sinon on affiche la chaine de caractère \"XXX\"\n",
    "\n",
    "    presentation = soupStartup.find(attrs={'itemprop':'description'}).text.strip()if soupStartup.find(attrs={'itemprop':'description'}) else \"XXX\"\n",
    "\n",
    "    dateCreation = soupStartup.find(attrs={'itemprop':'foundingDate'})['content'] if soupStartup.find(attrs={'itemprop':'foundingDate'}) else 'XXX'\n",
    "\n",
    "    marche = recup_marche(soupStartup3)[1].text.strip().replace(\"\\r\\n\\t\", \" \") \n",
    "\n",
    "    email = soupStartup.find(attrs={'itemprop':'email'}).text.strip() if soupStartup.find(attrs={'itemprop':'email'}) else 'XXX'\n",
    "\n",
    "    siteweb = soupStartup.find_all(\"a\", attrs= {\"itemprop\": \"url\"})[0].text if soupStartup.find_all(\"a\", attrs= {\"itemprop\": \"url\"}) else \"XXX\"\n",
    "\n",
    "    address = soupStartup.find('p', attrs={'itemprop':'address'}).text.strip() if soupStartup.find(attrs={'itemprop':'address'}) else 'XXX'\n",
    "\n",
    "    # marche = soupStartup.find_all(attrs={'class':'txtArt'})[4].text.strip() if soupStartup.find_all(attrs={'class':'txtArt'}) else \"XXX\"\n",
    "\n",
    "    tel = soupStartup.find(attrs={'itemprop':'telephone'}).text.strip() if soupStartup.find(attrs={'itemprop':'telephone'}) else 'XXX'\n",
    "\n",
    "    genese = soupStartup.find(attrs={'class':'txtArt', 'itemprop':'review'}).text.strip() if soupStartup.find(attrs={'itemprop':'review'}) else 'XXX'\n",
    "\n",
    "    produits = soupStartup.find(attrs={'class':'txtArt', 'itemprop':'makesOffer'}).text.strip() if soupStartup.find(attrs={'itemprop':'makesOffer'}) else 'XXX'\n",
    "\n",
    "    createurs = soupStartup.find(attrs={'class':'txtArt', 'itemprop':'founders'}).text.strip() if soupStartup.find(attrs={'itemprop':'founders'}) else 'XXX'\n",
    "\n",
    "    implantation = soupStartup.find(attrs={'itemprop':'addressCountry'})['content'].strip() if soupStartup.find(attrs={'itemprop':'addressCountry'}) else 'XXX'\n",
    "    #liste_info.append((nom, presentation))\n",
    "    liste_info.append((nom, presentation, dateCreation, marche, email, siteweb, address, tel, genese, produits, createurs, implantation)) #### Jout des élements à la liste liste_info\n",
    "    #print(liste_info)"
   ]
  },
  {
   "cell_type": "code",
   "execution_count": 52,
   "metadata": {},
   "outputs": [
    {
     "data": {
      "text/plain": [
       "[('iZi Family',\n",
       "  \"Créée en 2014, la start-up iZi Family propose une plateforme d’aide aux démarches administratives.\\n\\r\\n\\tElle développe un assistant personnel permettant à son utilisateur de bénéficier d’un espace privé pour pouvoir gérer ses démarches en totale autonomie et confidentialité.\\n\\r\\n\\tLa plateforme qualifie le contexte de l’usager à travers des questions posées, le guide dans toutes les démarches avec la pré-constitution automatique de tous les dossiers à envoyer, les organismes à contacter avec leurs coordonnées…\\n\\r\\n\\tUne fois les dossiers achevés, elle propose de les envoyer directement sous forme d'e-mail ou de courrier simple ou recommandé.\\n\\r\\n\\tDédiée aux\\xa0 professionnels (organismes de prévoyance, mutuelles, banques, caisses de retraite…) ainsi qu’aux particuliers, cette solution simplifie la gestion administrative et permet un gain de temps dans des situations différentes (mariage, divorce, déménagement, mise sous tutelle, handicap, perte d'autonomie, décès d’un proche…).\\n\\r\\n\\tEn 2021, iZi Family réalise une levée de fonds de 500 000 euros auprès du Crédit Mutuel, Bpifrance et Pays de Loire Participations.\\n\\r\\n\\tCette somme doit lui permettre d’accélérer son développement et renforcer son effectif.\",\n",
       "  '2016-02-11',\n",
       "  'Administratif Légal Logiciels',\n",
       "  'contact@izifamily.com',\n",
       "  'https://www.izifamily.com/',\n",
       "  '57 boulevard Démorieux 72000 Le Mans',\n",
       "  '02 85 29 19 17',\n",
       "  \"Constatant l'ignorance des démarches à réaliser lors des moments importants de la vie et l'absence d'outils offrants aux professionnels la possibilité de mieux assister les familles à l’aide d’un service universel et collaboratif, Damien-Jean Coquin lance en 2016 iZi Family.\\n\\r\\n\\tCette jeune pousse développe un compagnon administratif pour tous les moments clés de la vie.\",\n",
       "  'Plateforme d’aide aux démarches administratives',\n",
       "  'Damien-Jean Coquin',\n",
       "  'France'),\n",
       " ('Silvr',\n",
       "  \"Lancée en 2020, la start-up Silvr développe une solution de financement destinée aux e-commerçants.\\n\\r\\n\\tLa fintech se base sur le Revenue Based Financing (RBF), un modèle reposant sur les données des entreprises pour l’octroi de financement sans ouvrir leur capital, permettant de rembourser en fonction du chiffre d’affaires.\\n\\r\\n\\tLes usagers de ce modèle de financement (marques direct-to-consummer (D2C), digital native vertical brands (DNVB), boutiques en ligne et plateformes) connectent leurs comptes (Shopify, Facebook Ads,compte bancaire...) sur la plateforme Silvr et reçoivent la somme demandée en 24 heures.\\n\\r\\n\\tIls remboursent par la suite la jeune pousse selon les ventes générées.\\n\\r\\n\\tEn 2021, Silvr\\xa0 réalise un tour de table de 3 millions d'euros auprès d'Idinvest, ISAI, Serena Capital et de business angels.\\n\\r\\n\\tLa somme récoltée doit lui permettre d'accélérer son développement sur le marché local et renforcer son effectif.\",\n",
       "  '2020-01-01',\n",
       "  'Administratif Légal Logiciels',\n",
       "  'contact@silvr.co',\n",
       "  'https://silvr.co/',\n",
       "  '142 rue de Rivoli 75001 Paris',\n",
       "  'XXX',\n",
       "  'La jeune pousse Silvr est créée en 2020 par les deux entrepreneurs Nima Karimi et Grégory Tappero.',\n",
       "  'Solution de financement dédiée aux e-commerçants',\n",
       "  'Nima Karimi\\r\\n\\tGrégory Tappero',\n",
       "  'France')]"
      ]
     },
     "execution_count": 52,
     "metadata": {},
     "output_type": "execute_result"
    }
   ],
   "source": [
    "liste_info #### les informations nécessaire à l'obtention du df demandé"
   ]
  },
  {
   "cell_type": "markdown",
   "metadata": {},
   "source": [
    "#### Création d'une fonction récupérant les informations des deux startups"
   ]
  },
  {
   "cell_type": "code",
   "execution_count": 53,
   "metadata": {},
   "outputs": [],
   "source": [
    "def recuperation_info(url_liste):\n",
    "\n",
    "  \"\"\"\n",
    "  Récupérer les informations d'une page\n",
    "  Entrée: Liste d'url\n",
    "  Sortie: Tuple avec l'ensemble des informations demandées\n",
    "  \n",
    "  \"\"\"\n",
    "\n",
    "  liste_info = []\n",
    "\n",
    "  for i in range(0,len(url_liste) ): #### Pour chaque élement de l'objet listUrl\n",
    "      soupStartup = BeautifulSoup(requests.get(url_liste[i]).text, 'html.parser') #### Création de l'objet soup\n",
    "\n",
    "      #### Récupération de tout les élements\n",
    "      print(i)\n",
    "\n",
    "      nom = soupStartup.find_all(\"h1\", attrs = {\"class\": \"titreFicheStartUp\"})[0].text.strip() if soupStartup.find('h1', attrs={'class':'titreFicheStartUp'}) else \"XXX\" #### Récupération de la balise si la balise existe sinon on affiche la chaine de caractère \"XXX\"\n",
    "\n",
    "      presentation = soupStartup.find(attrs={'itemprop':'description'}).text.strip()if soupStartup.find(attrs={'itemprop':'description'}) else \"XXX\"\n",
    "\n",
    "      dateCreation = soupStartup.find(attrs={'itemprop':'foundingDate'})['content'] if soupStartup.find(attrs={'itemprop':'foundingDate'}) else 'XXX'\n",
    "\n",
    "      marche = recup_marche(soupStartup3)[1].text.strip().replace(\"\\r\\n\\t\", \" \") \n",
    "\n",
    "      email = soupStartup.find(attrs={'itemprop':'email'}).text.strip() if soupStartup.find(attrs={'itemprop':'email'}) else 'XXX'\n",
    "\n",
    "      siteweb = soupStartup.find_all(\"a\", attrs= {\"itemprop\": \"url\"})[0].text if soupStartup.find_all(\"a\", attrs= {\"itemprop\": \"url\"}) else \"XXX\"\n",
    "\n",
    "      address = soupStartup.find('p', attrs={'itemprop':'address'}).text.strip() if soupStartup.find(attrs={'itemprop':'address'}) else 'XXX'\n",
    "\n",
    "      # marche = soupStartup.find_all(attrs={'class':'txtArt'})[4].text.strip() if soupStartup.find_all(attrs={'class':'txtArt'}) else \"XXX\"\n",
    "\n",
    "      tel = soupStartup.find(attrs={'itemprop':'telephone'}).text.strip() if soupStartup.find(attrs={'itemprop':'telephone'}) else 'XXX'\n",
    "\n",
    "      genese = soupStartup.find(attrs={'class':'txtArt', 'itemprop':'review'}).text.strip() if soupStartup.find(attrs={'itemprop':'review'}) else 'XXX'\n",
    "\n",
    "      produits = soupStartup.find(attrs={'class':'txtArt', 'itemprop':'makesOffer'}).text.strip() if soupStartup.find(attrs={'itemprop':'makesOffer'}) else 'XXX'\n",
    "\n",
    "      createurs = soupStartup.find(attrs={'class':'txtArt', 'itemprop':'founders'}).text.strip() if soupStartup.find(attrs={'itemprop':'founders'}) else 'XXX'\n",
    "\n",
    "      implantation = soupStartup.find(attrs={'itemprop':'addressCountry'})['content'].strip() if soupStartup.find(attrs={'itemprop':'addressCountry'}) else 'XXX'\n",
    "      #liste_info.append((nom, presentation))\n",
    "      liste_info.append((nom, presentation, dateCreation, marche, email, siteweb, address, tel, genese, produits, createurs, implantation)) #### Jout des élements à la liste liste_info\n",
    "      #print(liste_info)\n",
    "  return liste_info"
   ]
  },
  {
   "cell_type": "code",
   "execution_count": 55,
   "metadata": {},
   "outputs": [
    {
     "name": "stdout",
     "output_type": "stream",
     "text": [
      "0\n",
      "1\n",
      "2\n"
     ]
    },
    {
     "data": {
      "text/plain": [
       "[('iZi Family',\n",
       "  \"Créée en 2014, la start-up iZi Family propose une plateforme d’aide aux démarches administratives.\\n\\r\\n\\tElle développe un assistant personnel permettant à son utilisateur de bénéficier d’un espace privé pour pouvoir gérer ses démarches en totale autonomie et confidentialité.\\n\\r\\n\\tLa plateforme qualifie le contexte de l’usager à travers des questions posées, le guide dans toutes les démarches avec la pré-constitution automatique de tous les dossiers à envoyer, les organismes à contacter avec leurs coordonnées…\\n\\r\\n\\tUne fois les dossiers achevés, elle propose de les envoyer directement sous forme d'e-mail ou de courrier simple ou recommandé.\\n\\r\\n\\tDédiée aux\\xa0 professionnels (organismes de prévoyance, mutuelles, banques, caisses de retraite…) ainsi qu’aux particuliers, cette solution simplifie la gestion administrative et permet un gain de temps dans des situations différentes (mariage, divorce, déménagement, mise sous tutelle, handicap, perte d'autonomie, décès d’un proche…).\\n\\r\\n\\tEn 2021, iZi Family réalise une levée de fonds de 500 000 euros auprès du Crédit Mutuel, Bpifrance et Pays de Loire Participations.\\n\\r\\n\\tCette somme doit lui permettre d’accélérer son développement et renforcer son effectif.\",\n",
       "  '2016-02-11',\n",
       "  'Administratif Légal Logiciels',\n",
       "  'contact@izifamily.com',\n",
       "  'https://www.izifamily.com/',\n",
       "  '57 boulevard Démorieux 72000 Le Mans',\n",
       "  '02 85 29 19 17',\n",
       "  \"Constatant l'ignorance des démarches à réaliser lors des moments importants de la vie et l'absence d'outils offrants aux professionnels la possibilité de mieux assister les familles à l’aide d’un service universel et collaboratif, Damien-Jean Coquin lance en 2016 iZi Family.\\n\\r\\n\\tCette jeune pousse développe un compagnon administratif pour tous les moments clés de la vie.\",\n",
       "  'Plateforme d’aide aux démarches administratives',\n",
       "  'Damien-Jean Coquin',\n",
       "  'France'),\n",
       " ('Silvr',\n",
       "  \"Lancée en 2020, la start-up Silvr développe une solution de financement destinée aux e-commerçants.\\n\\r\\n\\tLa fintech se base sur le Revenue Based Financing (RBF), un modèle reposant sur les données des entreprises pour l’octroi de financement sans ouvrir leur capital, permettant de rembourser en fonction du chiffre d’affaires.\\n\\r\\n\\tLes usagers de ce modèle de financement (marques direct-to-consummer (D2C), digital native vertical brands (DNVB), boutiques en ligne et plateformes) connectent leurs comptes (Shopify, Facebook Ads,compte bancaire...) sur la plateforme Silvr et reçoivent la somme demandée en 24 heures.\\n\\r\\n\\tIls remboursent par la suite la jeune pousse selon les ventes générées.\\n\\r\\n\\tEn 2021, Silvr\\xa0 réalise un tour de table de 3 millions d'euros auprès d'Idinvest, ISAI, Serena Capital et de business angels.\\n\\r\\n\\tLa somme récoltée doit lui permettre d'accélérer son développement sur le marché local et renforcer son effectif.\",\n",
       "  '2020-01-01',\n",
       "  'Administratif Légal Logiciels',\n",
       "  'contact@silvr.co',\n",
       "  'https://silvr.co/',\n",
       "  '142 rue de Rivoli 75001 Paris',\n",
       "  'XXX',\n",
       "  'La jeune pousse Silvr est créée en 2020 par les deux entrepreneurs Nima Karimi et Grégory Tappero.',\n",
       "  'Solution de financement dédiée aux e-commerçants',\n",
       "  'Nima Karimi\\r\\n\\tGrégory Tappero',\n",
       "  'France'),\n",
       " ('MyPL',\n",
       "  \"MyPL (My Personal LifeScope) est une jeune pousse française spécialisée dans le développement d’une solution logicielle d’aide à la décision dédiée aux professionnels de santé lors de réunions de concertation pluridisciplinaire en oncologie.\\n\\r\\n\\tElle offre une solution SaaS en oncologie, totalement mobile, sécurisée et hébergée dans le cloud, permettant de tracer toutes les données critiques grâce à la technologie blockchain et d’optimiser le processus de décision des professionnels de santé lors du diagnostic et du traitement des patients atteints du cancer.\\n\\r\\n\\tMyPL détermine avec précision les stratégies thérapeutiques personnalisées à mettre en œuvre pour un patient donné.\\n\\r\\n\\tEn 2021, elle réalise une levée de fonds de 1,8 million d'euros.\\n\\r\\n\\tCet apport au capital est mené par Karista, une société de capital risque de démarrage spécialisée dans la santé, le numérique et la deeptech.\\n\\r\\n\\tCette participation au capital va permettre à la start-up d’accélérer son développement en France et à l'international et réaliser des études cliniques observationnelles de sa plateforme logicielle d'e-santé en milieu hospitalier.\\n\\r\\n\\tMyPL compte également renforcer son équipe notamment avec le recrutement de talents tech.\",\n",
       "  '2017-09-16',\n",
       "  'Administratif Légal Logiciels',\n",
       "  'christophe.vergne@mypl.io',\n",
       "  'http://www.mypl.io',\n",
       "  '12 avenue des Près78180 Montigny-le-Bretonneux',\n",
       "  '06 45 46 06 69',\n",
       "  'Constatant la complexité de l’accès aux informations pertinentes des patients et à la charge mentale des professionnels de santé au moment des échanges durant les Réunions de Concertation Pluridisciplinaires (RCP), Christophe Vergne pense à une solution numérique permettant de centraliser toutes les données de santé, liéesaux patients.\\n\\r\\n\\tAncien directeur général de différentes entreprises mondiales dans le domaine de la santé et fort de plus de 25 ans, il lance en 2017 la start-up MyPL apportant ainsi un outil qui résolut les problèmes actuels.',\n",
       "  'Plateforme de visualisation des données du patient à destination des cancérologues',\n",
       "  'Christophe Vergne',\n",
       "  'France')]"
      ]
     },
     "execution_count": 55,
     "metadata": {},
     "output_type": "execute_result"
    }
   ],
   "source": [
    "#### Url des startups\n",
    "\n",
    "liste_url = [\"https://www.usine-digitale.fr/annuaire-start-up/izi-family,1072689\", \"https://www.usine-digitale.fr/annuaire-start-up/silvr,1073149\", \"https://www.usine-digitale.fr/annuaire-start-up/mypl,1078924\"]\n",
    "\n",
    "##### Appel de la fonction\n",
    "recuperation_info(liste_url) "
   ]
  },
  {
   "cell_type": "markdown",
   "metadata": {},
   "source": [
    "### Toute fonction pour les deux startups: Récupérer l'ensemble des urls et appliquer la fonction"
   ]
  },
  {
   "cell_type": "code",
   "execution_count": 56,
   "metadata": {},
   "outputs": [],
   "source": [
    "##### Retour à l'étape 2 : Récupérer l'ensemble des url sur les 294 pages\n",
    "\n",
    "####https://www.usine-digitale.fr/annuaire-start-up/1/ #### A la fin: numéro de la page\n",
    "\n",
    "\n",
    "liste_url = []\n",
    "for j in range(1,295): #### Pour j de 1 à 294\n",
    "  liste_url.append(\"https://www.usine-digitale.fr/annuaire-start-up/\"+str(j)+\"/\") #### Stocker dans la liste liste_url"
   ]
  },
  {
   "cell_type": "code",
   "execution_count": 57,
   "metadata": {},
   "outputs": [
    {
     "data": {
      "text/plain": [
       "['https://www.usine-digitale.fr/annuaire-start-up/1/',\n",
       " 'https://www.usine-digitale.fr/annuaire-start-up/2/',\n",
       " 'https://www.usine-digitale.fr/annuaire-start-up/3/']"
      ]
     },
     "execution_count": 57,
     "metadata": {},
     "output_type": "execute_result"
    }
   ],
   "source": [
    "liste_url[0:3] #### liste de chaque page"
   ]
  },
  {
   "cell_type": "code",
   "execution_count": 58,
   "metadata": {},
   "outputs": [
    {
     "name": "stdout",
     "output_type": "stream",
     "text": [
      "https://www.usine-digitale.fr/annuaire-start-up/veracash,1092284\n",
      "https://www.usine-digitale.fr/annuaire-start-up/tool-advisor,1092279\n",
      "https://www.usine-digitale.fr/annuaire-start-up/peoplespheres,1092274\n",
      "https://www.usine-digitale.fr/annuaire-start-up/ocus,1092264\n",
      "https://www.usine-digitale.fr/annuaire-start-up/sunday,1089474\n",
      "https://www.usine-digitale.fr/annuaire-start-up/onepilot,1089469\n",
      "https://www.usine-digitale.fr/annuaire-start-up/imageens,1089464\n",
      "https://www.usine-digitale.fr/annuaire-start-up/glimps,1089459\n",
      "https://www.usine-digitale.fr/annuaire-start-up/joe,1088874\n",
      "https://www.usine-digitale.fr/annuaire-start-up/cryptio,1088869\n",
      "https://www.usine-digitale.fr/annuaire-start-up/altrnativ,1087754\n",
      "https://www.usine-digitale.fr/annuaire-start-up/acasi,1087544\n",
      "https://www.usine-digitale.fr/annuaire-start-up/onewealthplace,1083829\n",
      "https://www.usine-digitale.fr/annuaire-start-up/nabla,1083819\n",
      "https://www.usine-digitale.fr/annuaire-start-up/id5,1083809\n",
      "https://www.usine-digitale.fr/annuaire-start-up/epycure,1083804\n",
      "https://www.usine-digitale.fr/annuaire-start-up/sensaterra,1083039\n",
      "https://www.usine-digitale.fr/annuaire-start-up/witick,1082504\n",
      "https://www.usine-digitale.fr/annuaire-start-up/nothing2install,1082484\n",
      "https://www.usine-digitale.fr/annuaire-start-up/la-maison-j-u-s,1082479\n",
      "https://www.usine-digitale.fr/annuaire-start-up/pandaloc,1078979\n",
      "https://www.usine-digitale.fr/annuaire-start-up/yooli,1078934\n",
      "https://www.usine-digitale.fr/annuaire-start-up/to-see-or-not-to-see,1078929\n",
      "https://www.usine-digitale.fr/annuaire-start-up/mypl,1078924\n",
      "https://www.usine-digitale.fr/annuaire-start-up/jungle,1078539\n",
      "https://www.usine-digitale.fr/annuaire-start-up/instant-system,1078534\n",
      "https://www.usine-digitale.fr/annuaire-start-up/resilience,1074019\n",
      "https://www.usine-digitale.fr/annuaire-start-up/my-bacchus,1074014\n",
      "https://www.usine-digitale.fr/annuaire-start-up/babylone-growers,1073999\n",
      "https://www.usine-digitale.fr/annuaire-start-up/welyb,1073169\n",
      "https://www.usine-digitale.fr/annuaire-start-up/toopi-organics,1073159\n",
      "https://www.usine-digitale.fr/annuaire-start-up/smart-sailors,1073154\n",
      "https://www.usine-digitale.fr/annuaire-start-up/silvr,1073149\n",
      "https://www.usine-digitale.fr/annuaire-start-up/cokpit,1073124\n",
      "https://www.usine-digitale.fr/annuaire-start-up/le-kaba,1072694\n",
      "https://www.usine-digitale.fr/annuaire-start-up/izi-family,1072689\n",
      "https://www.usine-digitale.fr/annuaire-start-up/i-virtual,1072684\n",
      "https://www.usine-digitale.fr/annuaire-start-up/fefe,1072679\n",
      "https://www.usine-digitale.fr/annuaire-start-up/arianee,1072674\n",
      "https://www.usine-digitale.fr/annuaire-start-up/ramify,1078984\n",
      "https://www.usine-digitale.fr/annuaire-start-up/imop,1070899\n",
      "https://www.usine-digitale.fr/annuaire-start-up/scalinx,1070894\n",
      "https://www.usine-digitale.fr/annuaire-start-up/powder,1070889\n",
      "https://www.usine-digitale.fr/annuaire-start-up/popscreen-games,1070884\n",
      "https://www.usine-digitale.fr/annuaire-start-up/omie-cie-anciennement-merci-alternative,1068899\n",
      "https://www.usine-digitale.fr/annuaire-start-up/mansa,1068894\n",
      "https://www.usine-digitale.fr/annuaire-start-up/humancraft,1068889\n",
      "https://www.usine-digitale.fr/annuaire-start-up/anozr-way,1068884\n",
      "https://www.usine-digitale.fr/annuaire-start-up/all-virtual,1068879\n",
      "https://www.usine-digitale.fr/annuaire-start-up/umi-united-motion-ideas,1068434\n",
      "https://www.usine-digitale.fr/annuaire-start-up/maze,1068429\n",
      "https://www.usine-digitale.fr/annuaire-start-up/trone,1068424\n",
      "https://www.usine-digitale.fr/annuaire-start-up/luos,1067564\n",
      "https://www.usine-digitale.fr/annuaire-start-up/dediz,1074009\n",
      "https://www.usine-digitale.fr/annuaire-start-up/bonjour-henry-by-barbablanka,1074004\n",
      "https://www.usine-digitale.fr/annuaire-start-up/isitu,1067554\n",
      "https://www.usine-digitale.fr/annuaire-start-up/fygr,1067529\n",
      "https://www.usine-digitale.fr/annuaire-start-up/datacadabra,1067524\n",
      "https://www.usine-digitale.fr/annuaire-start-up/buyco,1067519\n",
      "https://www.usine-digitale.fr/annuaire-start-up/urban-canope-by-canopee-structures,1065919\n",
      "https://www.usine-digitale.fr/annuaire-start-up/lily-facilite-la-vie,1065914\n",
      "https://www.usine-digitale.fr/annuaire-start-up/app-ines,1065899\n",
      "https://www.usine-digitale.fr/annuaire-start-up/ernesti,1063849\n",
      "https://www.usine-digitale.fr/annuaire-start-up/omini,1063844\n",
      "https://www.usine-digitale.fr/annuaire-start-up/mentorshow,1063839\n",
      "https://www.usine-digitale.fr/annuaire-start-up/youzd,1063539\n",
      "https://www.usine-digitale.fr/annuaire-start-up/not-so-dark,1063534\n",
      "https://www.usine-digitale.fr/annuaire-start-up/raisin,1062599\n",
      "https://www.usine-digitale.fr/annuaire-start-up/iroko,1062594\n",
      "https://www.usine-digitale.fr/annuaire-start-up/homa-games,1062584\n",
      "https://www.usine-digitale.fr/annuaire-start-up/geosophy,1062579\n",
      "https://www.usine-digitale.fr/annuaire-start-up/highlab-marketing,1073434\n",
      "https://www.usine-digitale.fr/annuaire-start-up/depaning,1062574\n",
      "https://www.usine-digitale.fr/annuaire-start-up/supli,1062014\n",
      "https://www.usine-digitale.fr/annuaire-start-up/skypher,1062009\n",
      "https://www.usine-digitale.fr/annuaire-start-up/inspeere,1068419\n",
      "https://www.usine-digitale.fr/annuaire-start-up/co-cto,1068404\n",
      "https://www.usine-digitale.fr/annuaire-start-up/santexpat,1061999\n",
      "https://www.usine-digitale.fr/annuaire-start-up/moka-care,1061994\n",
      "https://www.usine-digitale.fr/annuaire-start-up/hd-rain,1061989\n",
      "https://www.usine-digitale.fr/annuaire-start-up/crocos-go-digital,1059154\n",
      "https://www.usine-digitale.fr/annuaire-start-up/cajoo,1059149\n",
      "https://www.usine-digitale.fr/annuaire-start-up/ecodisplay,1065924\n",
      "https://www.usine-digitale.fr/annuaire-start-up/tchek,1058284\n",
      "https://www.usine-digitale.fr/annuaire-start-up/beam,1065889\n",
      "https://www.usine-digitale.fr/annuaire-start-up/stairwage,1058279\n",
      "https://www.usine-digitale.fr/annuaire-start-up/soan,1058269\n",
      "https://www.usine-digitale.fr/annuaire-start-up/rise-partners,1058264\n",
      "https://www.usine-digitale.fr/annuaire-start-up/rds-rhythm-diagnostic-systems,1058249\n",
      "https://www.usine-digitale.fr/annuaire-start-up/origame,1057064\n",
      "https://www.usine-digitale.fr/annuaire-start-up/opal,1057059\n",
      "https://www.usine-digitale.fr/annuaire-start-up/kili-technology,1057054\n",
      "https://www.usine-digitale.fr/annuaire-start-up/co-clinic,1057049\n",
      "https://www.usine-digitale.fr/annuaire-start-up/yagaan,1055564\n",
      "https://www.usine-digitale.fr/annuaire-start-up/unifai,1054974\n",
      "https://www.usine-digitale.fr/annuaire-start-up/simco,1054969\n",
      "https://www.usine-digitale.fr/annuaire-start-up/people-vox,1054964\n",
      "https://www.usine-digitale.fr/annuaire-start-up/odysway,1054959\n",
      "https://www.usine-digitale.fr/annuaire-start-up/myxpression,1054954\n",
      "https://www.usine-digitale.fr/annuaire-start-up/lehibou,1053624\n"
     ]
    }
   ],
   "source": [
    "liste_url_su = []\n",
    "\n",
    "##### Pour chaque page du site de 1 à nbpage\n",
    "\n",
    "for j in range(1,6): #### Pour j de 1 à 292\n",
    "  #print(\"https://www.usine-digitale.fr/annuaire-start-up/\"+str(j)+\"/\") #### j'affiche la str suivante\n",
    "\n",
    "  url_page = \"https://www.usine-digitale.fr/annuaire-start-up/\"+str(j)+\"/\"\n",
    "\n",
    "  #### récupérer l'url et parser le html\n",
    "  soupStartup = BeautifulSoup(requests.get(url_page).text, 'html.parser')\n",
    "\n",
    "  #### Pour chaque page, je récupère les url des start up de la page\n",
    "  for i in range(0,20):#### Pour chaque startup\n",
    "      print(\"https://www.usine-digitale.fr\"+soupStartup.find_all('a', attrs={'class':'contenu'})[i][\"href\"]) #### Je concatène une chaine de caractère avec l'url récupéré sur l'usine digitale\n",
    "\n",
    "      liste_url_su.append(\"https://www.usine-digitale.fr\"+soupStartup.find_all('a', attrs={'class':'contenu'})[i][\"href\"]) #### Stocke cet objet dans une liste"
   ]
  },
  {
   "cell_type": "code",
   "execution_count": 59,
   "metadata": {},
   "outputs": [
    {
     "data": {
      "text/plain": [
       "100"
      ]
     },
     "execution_count": 59,
     "metadata": {},
     "output_type": "execute_result"
    }
   ],
   "source": [
    "len(liste_url_su)"
   ]
  },
  {
   "cell_type": "markdown",
   "metadata": {},
   "source": [
    "### On crée une fonction permettant de récupérer ces url"
   ]
  },
  {
   "cell_type": "code",
   "execution_count": 60,
   "metadata": {},
   "outputs": [],
   "source": [
    "def recuperation_url(nb_page = 1): #### Par défaut, il récupère les élements de la page 1\n",
    "  \"\"\"\n",
    "  Récupérer l'ensemble des url des startups de la page 1 à la page choisie\n",
    "  Entrée: Nombre de pages\n",
    "  Sortie: Liste des url de startup\n",
    "  \"\"\"\n",
    "\n",
    "  liste_url_su = []\n",
    "\n",
    "  ##### Pour chaque page du site de 1 à nbpage\n",
    "\n",
    "  for j in range(1,nb_page+1): #### Pour j de 1 à nb_page (292) \n",
    "    \n",
    "    url_page = \"https://www.usine-digitale.fr/annuaire-start-up/\"+str(j)+\"/\"\n",
    "\n",
    "    #### récupérer l'url et parser le html\n",
    "    soupStartup = BeautifulSoup(requests.get(url_page).text, 'html.parser')\n",
    "\n",
    "    #### Pour chaque page, je récupère les url des start up de la page\n",
    "    for i in range(0,20):#### Pour chaque startup\n",
    "        print(\"https://www.usine-digitale.fr\"+soupStartup.find_all('a', attrs={'class':'contenu'})[i][\"href\"]) #### Je concatène une chaine de caractère avec l'url récupéré sur l'usine digitale\n",
    "\n",
    "        liste_url_su.append(\"https://www.usine-digitale.fr\"+soupStartup.find_all('a', attrs={'class':'contenu'})[i][\"href\"]) #### Stocke cet objet dans une liste\n",
    "\n",
    "  return liste_url_su"
   ]
  },
  {
   "cell_type": "code",
   "execution_count": 61,
   "metadata": {},
   "outputs": [
    {
     "name": "stdout",
     "output_type": "stream",
     "text": [
      "https://www.usine-digitale.fr/annuaire-start-up/veracash,1092284\n",
      "https://www.usine-digitale.fr/annuaire-start-up/tool-advisor,1092279\n",
      "https://www.usine-digitale.fr/annuaire-start-up/peoplespheres,1092274\n",
      "https://www.usine-digitale.fr/annuaire-start-up/ocus,1092264\n",
      "https://www.usine-digitale.fr/annuaire-start-up/sunday,1089474\n",
      "https://www.usine-digitale.fr/annuaire-start-up/onepilot,1089469\n",
      "https://www.usine-digitale.fr/annuaire-start-up/imageens,1089464\n",
      "https://www.usine-digitale.fr/annuaire-start-up/glimps,1089459\n",
      "https://www.usine-digitale.fr/annuaire-start-up/joe,1088874\n",
      "https://www.usine-digitale.fr/annuaire-start-up/cryptio,1088869\n",
      "https://www.usine-digitale.fr/annuaire-start-up/altrnativ,1087754\n",
      "https://www.usine-digitale.fr/annuaire-start-up/acasi,1087544\n",
      "https://www.usine-digitale.fr/annuaire-start-up/onewealthplace,1083829\n",
      "https://www.usine-digitale.fr/annuaire-start-up/nabla,1083819\n",
      "https://www.usine-digitale.fr/annuaire-start-up/id5,1083809\n",
      "https://www.usine-digitale.fr/annuaire-start-up/epycure,1083804\n",
      "https://www.usine-digitale.fr/annuaire-start-up/sensaterra,1083039\n",
      "https://www.usine-digitale.fr/annuaire-start-up/witick,1082504\n",
      "https://www.usine-digitale.fr/annuaire-start-up/nothing2install,1082484\n",
      "https://www.usine-digitale.fr/annuaire-start-up/la-maison-j-u-s,1082479\n",
      "https://www.usine-digitale.fr/annuaire-start-up/pandaloc,1078979\n",
      "https://www.usine-digitale.fr/annuaire-start-up/yooli,1078934\n",
      "https://www.usine-digitale.fr/annuaire-start-up/to-see-or-not-to-see,1078929\n",
      "https://www.usine-digitale.fr/annuaire-start-up/mypl,1078924\n",
      "https://www.usine-digitale.fr/annuaire-start-up/jungle,1078539\n",
      "https://www.usine-digitale.fr/annuaire-start-up/instant-system,1078534\n",
      "https://www.usine-digitale.fr/annuaire-start-up/resilience,1074019\n",
      "https://www.usine-digitale.fr/annuaire-start-up/my-bacchus,1074014\n",
      "https://www.usine-digitale.fr/annuaire-start-up/babylone-growers,1073999\n",
      "https://www.usine-digitale.fr/annuaire-start-up/welyb,1073169\n",
      "https://www.usine-digitale.fr/annuaire-start-up/toopi-organics,1073159\n",
      "https://www.usine-digitale.fr/annuaire-start-up/smart-sailors,1073154\n",
      "https://www.usine-digitale.fr/annuaire-start-up/silvr,1073149\n",
      "https://www.usine-digitale.fr/annuaire-start-up/cokpit,1073124\n",
      "https://www.usine-digitale.fr/annuaire-start-up/le-kaba,1072694\n",
      "https://www.usine-digitale.fr/annuaire-start-up/izi-family,1072689\n",
      "https://www.usine-digitale.fr/annuaire-start-up/i-virtual,1072684\n",
      "https://www.usine-digitale.fr/annuaire-start-up/fefe,1072679\n",
      "https://www.usine-digitale.fr/annuaire-start-up/arianee,1072674\n",
      "https://www.usine-digitale.fr/annuaire-start-up/ramify,1078984\n",
      "https://www.usine-digitale.fr/annuaire-start-up/imop,1070899\n",
      "https://www.usine-digitale.fr/annuaire-start-up/scalinx,1070894\n",
      "https://www.usine-digitale.fr/annuaire-start-up/powder,1070889\n",
      "https://www.usine-digitale.fr/annuaire-start-up/popscreen-games,1070884\n",
      "https://www.usine-digitale.fr/annuaire-start-up/omie-cie-anciennement-merci-alternative,1068899\n",
      "https://www.usine-digitale.fr/annuaire-start-up/mansa,1068894\n",
      "https://www.usine-digitale.fr/annuaire-start-up/humancraft,1068889\n",
      "https://www.usine-digitale.fr/annuaire-start-up/anozr-way,1068884\n",
      "https://www.usine-digitale.fr/annuaire-start-up/all-virtual,1068879\n",
      "https://www.usine-digitale.fr/annuaire-start-up/umi-united-motion-ideas,1068434\n",
      "https://www.usine-digitale.fr/annuaire-start-up/maze,1068429\n",
      "https://www.usine-digitale.fr/annuaire-start-up/trone,1068424\n",
      "https://www.usine-digitale.fr/annuaire-start-up/luos,1067564\n",
      "https://www.usine-digitale.fr/annuaire-start-up/dediz,1074009\n",
      "https://www.usine-digitale.fr/annuaire-start-up/bonjour-henry-by-barbablanka,1074004\n",
      "https://www.usine-digitale.fr/annuaire-start-up/isitu,1067554\n",
      "https://www.usine-digitale.fr/annuaire-start-up/fygr,1067529\n",
      "https://www.usine-digitale.fr/annuaire-start-up/datacadabra,1067524\n",
      "https://www.usine-digitale.fr/annuaire-start-up/buyco,1067519\n",
      "https://www.usine-digitale.fr/annuaire-start-up/urban-canope-by-canopee-structures,1065919\n"
     ]
    },
    {
     "data": {
      "text/plain": [
       "60"
      ]
     },
     "execution_count": 61,
     "metadata": {},
     "output_type": "execute_result"
    }
   ],
   "source": [
    " #### Appel de la fonction: trois premières pages\n",
    "    \n",
    "len(recuperation_url(3))"
   ]
  },
  {
   "cell_type": "markdown",
   "metadata": {},
   "source": [
    "# Synthèse des fonctions implémetées"
   ]
  },
  {
   "cell_type": "markdown",
   "metadata": {},
   "source": [
    "Récupère les url des startup des pages choisies \n",
    "* **recuperation_url(nb_page)** \n",
    "\n",
    "Récupération des informations des startups \n",
    "* **recuperation_info(url_liste)**  "
   ]
  },
  {
   "cell_type": "code",
   "execution_count": 64,
   "metadata": {},
   "outputs": [
    {
     "name": "stdout",
     "output_type": "stream",
     "text": [
      "Writing test.py\n"
     ]
    }
   ],
   "source": [
    "%%file test.py\n",
    "\n",
    "def recuperation_url(nb_page = 1): #### Par défaut, il récupère les élements de la page 1\n",
    "  \"\"\"\n",
    "  Récupérer l'ensemble des url des startup de la page 1 à la page choisie\n",
    "  Entrée: Nombre de pages\n",
    "  Sortie: Liste des url de startup\n",
    "  \"\"\"\n",
    "\n",
    "  liste_url_su = []\n",
    "\n",
    "  ##### Pour chaque page du site de 1 à nbpage\n",
    "\n",
    "  for j in range(1,nb_page+1): #### Pour j de 1 à nb_page (292) \n",
    "    #print(\"https://www.usine-digitale.fr/annuaire-start-up/\"+str(j)+\"/\") #### j'affiche la str suivante\n",
    "\n",
    "    url_page = \"https://www.usine-digitale.fr/annuaire-start-up/\"+str(j)+\"/\"\n",
    "\n",
    "    #### récupérer l'url et parser le html\n",
    "    soupStartup = BeautifulSoup(requests.get(url_page).text, 'html.parser')\n",
    "\n",
    "    #### Pour chaque page, je récupère les url des start up de la page\n",
    "    for i in range(0,20):#### Pour chaque startup\n",
    "        print(\"https://www.usine-digitale.fr\"+soupStartup.find_all('a', attrs={'class':'contenu'})[i][\"href\"]) #### Je concatène une chaine de caractère avec l'url récupéré sur l'usine digitale\n",
    "\n",
    "        liste_url_su.append(\"https://www.usine-digitale.fr\"+soupStartup.find_all('a', attrs={'class':'contenu'})[i][\"href\"]) #### Stocke cet objet dans une liste\n",
    "\n",
    "  return liste_url_su"
   ]
  },
  {
   "cell_type": "code",
   "execution_count": 77,
   "metadata": {},
   "outputs": [],
   "source": [
    "def recuperation_info(url_liste):\n",
    "\n",
    "  \"\"\"\n",
    "  Récupérer les infromations d'une page\n",
    "  Entrée: Liste d'url\n",
    "  Sortie: Tuple avec l'ensemble des informations demandées\n",
    "  \n",
    "  \"\"\"\n",
    "\n",
    "  liste_info = []\n",
    "\n",
    "  for i in range(0,len(url_liste) ): #### Pour chaque élement de l'objet listUrl\n",
    "      soupStartup = BeautifulSoup(requests.get(url_liste[i]).text, 'html.parser') #### Création de l'objet soup\n",
    "\n",
    "      #### Récupération de tout les élements\n",
    "      print(i)\n",
    "\n",
    "      nom = soupStartup.find_all(\"h1\", attrs = {\"class\": \"titreFicheStartUp\"})[0].text.strip() if soupStartup.find('h1', attrs={'class':'titreFicheStartUp'}) else \"XXX\" #### Récupération de la balise si la balise existe sinon on affiche la chaine de caractère \"XXX\"\n",
    "\n",
    "      presentation = soupStartup.find(attrs={'itemprop':'description'}).text.strip()if soupStartup.find(attrs={'itemprop':'description'}) else \"XXX\"\n",
    "\n",
    "      dateCreation = soupStartup.find(attrs={'itemprop':'foundingDate'})['content'] if soupStartup.find(attrs={'itemprop':'foundingDate'}) else 'XXX'\n",
    "\n",
    "      marche = recup_marche(soupStartup3)[1].text.strip().replace(\"\\r\\n\\t\", \" \") \n",
    "\n",
    "      email = soupStartup.find(attrs={'itemprop':'email'}).text.strip() if soupStartup.find(attrs={'itemprop':'email'}) else 'XXX'\n",
    "\n",
    "      siteweb = soupStartup.find_all(\"a\", attrs= {\"itemprop\": \"url\"})[0].text if soupStartup.find_all(\"a\", attrs= {\"itemprop\": \"url\"}) else \"XXX\"\n",
    "\n",
    "      address = soupStartup.find('p', attrs={'itemprop':'address'}).text.strip() if soupStartup.find(attrs={'itemprop':'address'}) else 'XXX'\n",
    "\n",
    "      # marche = soupStartup.find_all(attrs={'class':'txtArt'})[4].text.strip() if soupStartup.find_all(attrs={'class':'txtArt'}) else \"XXX\"\n",
    "\n",
    "      tel = soupStartup.find(attrs={'itemprop':'telephone'}).text.strip() if soupStartup.find(attrs={'itemprop':'telephone'}) else 'XXX'\n",
    "\n",
    "      genese = soupStartup.find(attrs={'class':'txtArt', 'itemprop':'review'}).text.strip() if soupStartup.find(attrs={'itemprop':'review'}) else 'XXX'\n",
    "\n",
    "      produits = soupStartup.find(attrs={'class':'txtArt', 'itemprop':'makesOffer'}).text.strip() if soupStartup.find(attrs={'itemprop':'makesOffer'}) else 'XXX'\n",
    "\n",
    "      createurs = soupStartup.find(attrs={'class':'txtArt', 'itemprop':'founders'}).text.strip().replace(\"\\r\\n\\t\", \" \") if soupStartup.find(attrs={'itemprop':'founders'}) else 'XXX'\n",
    "\n",
    "      implantation = soupStartup.find(attrs={'itemprop':'addressCountry'})['content'].strip().replace(\"\\r\\n\\t\", \" \") if soupStartup.find(attrs={'itemprop':'addressCountry'}) else 'XXX'\n",
    "      #liste_info.append((nom, presentation))\n",
    "      liste_info.append((nom, presentation, dateCreation, marche, email, siteweb, address, tel, genese, produits, createurs, implantation)) #### Jout des élements à la liste liste_info\n",
    "      #print(liste_info)\n",
    "  return liste_info"
   ]
  },
  {
   "cell_type": "markdown",
   "metadata": {},
   "source": [
    "### Appel des fonctions en vue d'obtenir le dataframe demandé"
   ]
  },
  {
   "cell_type": "code",
   "execution_count": 72,
   "metadata": {},
   "outputs": [
    {
     "name": "stdout",
     "output_type": "stream",
     "text": [
      "https://www.usine-digitale.fr/annuaire-start-up/veracash,1092284\n",
      "https://www.usine-digitale.fr/annuaire-start-up/tool-advisor,1092279\n",
      "https://www.usine-digitale.fr/annuaire-start-up/peoplespheres,1092274\n",
      "https://www.usine-digitale.fr/annuaire-start-up/ocus,1092264\n",
      "https://www.usine-digitale.fr/annuaire-start-up/sunday,1089474\n",
      "https://www.usine-digitale.fr/annuaire-start-up/onepilot,1089469\n",
      "https://www.usine-digitale.fr/annuaire-start-up/imageens,1089464\n",
      "https://www.usine-digitale.fr/annuaire-start-up/glimps,1089459\n",
      "https://www.usine-digitale.fr/annuaire-start-up/joe,1088874\n",
      "https://www.usine-digitale.fr/annuaire-start-up/cryptio,1088869\n",
      "https://www.usine-digitale.fr/annuaire-start-up/altrnativ,1087754\n",
      "https://www.usine-digitale.fr/annuaire-start-up/acasi,1087544\n",
      "https://www.usine-digitale.fr/annuaire-start-up/onewealthplace,1083829\n",
      "https://www.usine-digitale.fr/annuaire-start-up/nabla,1083819\n",
      "https://www.usine-digitale.fr/annuaire-start-up/id5,1083809\n",
      "https://www.usine-digitale.fr/annuaire-start-up/epycure,1083804\n",
      "https://www.usine-digitale.fr/annuaire-start-up/sensaterra,1083039\n",
      "https://www.usine-digitale.fr/annuaire-start-up/witick,1082504\n",
      "https://www.usine-digitale.fr/annuaire-start-up/nothing2install,1082484\n",
      "https://www.usine-digitale.fr/annuaire-start-up/la-maison-j-u-s,1082479\n",
      "https://www.usine-digitale.fr/annuaire-start-up/pandaloc,1078979\n",
      "https://www.usine-digitale.fr/annuaire-start-up/yooli,1078934\n",
      "https://www.usine-digitale.fr/annuaire-start-up/to-see-or-not-to-see,1078929\n",
      "https://www.usine-digitale.fr/annuaire-start-up/mypl,1078924\n",
      "https://www.usine-digitale.fr/annuaire-start-up/jungle,1078539\n",
      "https://www.usine-digitale.fr/annuaire-start-up/instant-system,1078534\n",
      "https://www.usine-digitale.fr/annuaire-start-up/resilience,1074019\n",
      "https://www.usine-digitale.fr/annuaire-start-up/my-bacchus,1074014\n",
      "https://www.usine-digitale.fr/annuaire-start-up/babylone-growers,1073999\n",
      "https://www.usine-digitale.fr/annuaire-start-up/welyb,1073169\n",
      "https://www.usine-digitale.fr/annuaire-start-up/toopi-organics,1073159\n",
      "https://www.usine-digitale.fr/annuaire-start-up/smart-sailors,1073154\n",
      "https://www.usine-digitale.fr/annuaire-start-up/silvr,1073149\n",
      "https://www.usine-digitale.fr/annuaire-start-up/cokpit,1073124\n",
      "https://www.usine-digitale.fr/annuaire-start-up/le-kaba,1072694\n",
      "https://www.usine-digitale.fr/annuaire-start-up/izi-family,1072689\n",
      "https://www.usine-digitale.fr/annuaire-start-up/i-virtual,1072684\n",
      "https://www.usine-digitale.fr/annuaire-start-up/fefe,1072679\n",
      "https://www.usine-digitale.fr/annuaire-start-up/arianee,1072674\n",
      "https://www.usine-digitale.fr/annuaire-start-up/ramify,1078984\n",
      "https://www.usine-digitale.fr/annuaire-start-up/imop,1070899\n",
      "https://www.usine-digitale.fr/annuaire-start-up/scalinx,1070894\n",
      "https://www.usine-digitale.fr/annuaire-start-up/powder,1070889\n",
      "https://www.usine-digitale.fr/annuaire-start-up/popscreen-games,1070884\n",
      "https://www.usine-digitale.fr/annuaire-start-up/omie-cie-anciennement-merci-alternative,1068899\n",
      "https://www.usine-digitale.fr/annuaire-start-up/mansa,1068894\n",
      "https://www.usine-digitale.fr/annuaire-start-up/humancraft,1068889\n",
      "https://www.usine-digitale.fr/annuaire-start-up/anozr-way,1068884\n",
      "https://www.usine-digitale.fr/annuaire-start-up/all-virtual,1068879\n",
      "https://www.usine-digitale.fr/annuaire-start-up/umi-united-motion-ideas,1068434\n",
      "https://www.usine-digitale.fr/annuaire-start-up/maze,1068429\n",
      "https://www.usine-digitale.fr/annuaire-start-up/trone,1068424\n",
      "https://www.usine-digitale.fr/annuaire-start-up/luos,1067564\n",
      "https://www.usine-digitale.fr/annuaire-start-up/dediz,1074009\n",
      "https://www.usine-digitale.fr/annuaire-start-up/bonjour-henry-by-barbablanka,1074004\n",
      "https://www.usine-digitale.fr/annuaire-start-up/isitu,1067554\n",
      "https://www.usine-digitale.fr/annuaire-start-up/fygr,1067529\n",
      "https://www.usine-digitale.fr/annuaire-start-up/datacadabra,1067524\n",
      "https://www.usine-digitale.fr/annuaire-start-up/buyco,1067519\n",
      "https://www.usine-digitale.fr/annuaire-start-up/urban-canope-by-canopee-structures,1065919\n"
     ]
    },
    {
     "data": {
      "text/plain": [
       "['https://www.usine-digitale.fr/annuaire-start-up/veracash,1092284',\n",
       " 'https://www.usine-digitale.fr/annuaire-start-up/tool-advisor,1092279',\n",
       " 'https://www.usine-digitale.fr/annuaire-start-up/peoplespheres,1092274',\n",
       " 'https://www.usine-digitale.fr/annuaire-start-up/ocus,1092264',\n",
       " 'https://www.usine-digitale.fr/annuaire-start-up/sunday,1089474',\n",
       " 'https://www.usine-digitale.fr/annuaire-start-up/onepilot,1089469',\n",
       " 'https://www.usine-digitale.fr/annuaire-start-up/imageens,1089464',\n",
       " 'https://www.usine-digitale.fr/annuaire-start-up/glimps,1089459',\n",
       " 'https://www.usine-digitale.fr/annuaire-start-up/joe,1088874',\n",
       " 'https://www.usine-digitale.fr/annuaire-start-up/cryptio,1088869',\n",
       " 'https://www.usine-digitale.fr/annuaire-start-up/altrnativ,1087754',\n",
       " 'https://www.usine-digitale.fr/annuaire-start-up/acasi,1087544',\n",
       " 'https://www.usine-digitale.fr/annuaire-start-up/onewealthplace,1083829',\n",
       " 'https://www.usine-digitale.fr/annuaire-start-up/nabla,1083819',\n",
       " 'https://www.usine-digitale.fr/annuaire-start-up/id5,1083809',\n",
       " 'https://www.usine-digitale.fr/annuaire-start-up/epycure,1083804',\n",
       " 'https://www.usine-digitale.fr/annuaire-start-up/sensaterra,1083039',\n",
       " 'https://www.usine-digitale.fr/annuaire-start-up/witick,1082504',\n",
       " 'https://www.usine-digitale.fr/annuaire-start-up/nothing2install,1082484',\n",
       " 'https://www.usine-digitale.fr/annuaire-start-up/la-maison-j-u-s,1082479',\n",
       " 'https://www.usine-digitale.fr/annuaire-start-up/pandaloc,1078979',\n",
       " 'https://www.usine-digitale.fr/annuaire-start-up/yooli,1078934',\n",
       " 'https://www.usine-digitale.fr/annuaire-start-up/to-see-or-not-to-see,1078929',\n",
       " 'https://www.usine-digitale.fr/annuaire-start-up/mypl,1078924',\n",
       " 'https://www.usine-digitale.fr/annuaire-start-up/jungle,1078539',\n",
       " 'https://www.usine-digitale.fr/annuaire-start-up/instant-system,1078534',\n",
       " 'https://www.usine-digitale.fr/annuaire-start-up/resilience,1074019',\n",
       " 'https://www.usine-digitale.fr/annuaire-start-up/my-bacchus,1074014',\n",
       " 'https://www.usine-digitale.fr/annuaire-start-up/babylone-growers,1073999',\n",
       " 'https://www.usine-digitale.fr/annuaire-start-up/welyb,1073169',\n",
       " 'https://www.usine-digitale.fr/annuaire-start-up/toopi-organics,1073159',\n",
       " 'https://www.usine-digitale.fr/annuaire-start-up/smart-sailors,1073154',\n",
       " 'https://www.usine-digitale.fr/annuaire-start-up/silvr,1073149',\n",
       " 'https://www.usine-digitale.fr/annuaire-start-up/cokpit,1073124',\n",
       " 'https://www.usine-digitale.fr/annuaire-start-up/le-kaba,1072694',\n",
       " 'https://www.usine-digitale.fr/annuaire-start-up/izi-family,1072689',\n",
       " 'https://www.usine-digitale.fr/annuaire-start-up/i-virtual,1072684',\n",
       " 'https://www.usine-digitale.fr/annuaire-start-up/fefe,1072679',\n",
       " 'https://www.usine-digitale.fr/annuaire-start-up/arianee,1072674',\n",
       " 'https://www.usine-digitale.fr/annuaire-start-up/ramify,1078984',\n",
       " 'https://www.usine-digitale.fr/annuaire-start-up/imop,1070899',\n",
       " 'https://www.usine-digitale.fr/annuaire-start-up/scalinx,1070894',\n",
       " 'https://www.usine-digitale.fr/annuaire-start-up/powder,1070889',\n",
       " 'https://www.usine-digitale.fr/annuaire-start-up/popscreen-games,1070884',\n",
       " 'https://www.usine-digitale.fr/annuaire-start-up/omie-cie-anciennement-merci-alternative,1068899',\n",
       " 'https://www.usine-digitale.fr/annuaire-start-up/mansa,1068894',\n",
       " 'https://www.usine-digitale.fr/annuaire-start-up/humancraft,1068889',\n",
       " 'https://www.usine-digitale.fr/annuaire-start-up/anozr-way,1068884',\n",
       " 'https://www.usine-digitale.fr/annuaire-start-up/all-virtual,1068879',\n",
       " 'https://www.usine-digitale.fr/annuaire-start-up/umi-united-motion-ideas,1068434',\n",
       " 'https://www.usine-digitale.fr/annuaire-start-up/maze,1068429',\n",
       " 'https://www.usine-digitale.fr/annuaire-start-up/trone,1068424',\n",
       " 'https://www.usine-digitale.fr/annuaire-start-up/luos,1067564',\n",
       " 'https://www.usine-digitale.fr/annuaire-start-up/dediz,1074009',\n",
       " 'https://www.usine-digitale.fr/annuaire-start-up/bonjour-henry-by-barbablanka,1074004',\n",
       " 'https://www.usine-digitale.fr/annuaire-start-up/isitu,1067554',\n",
       " 'https://www.usine-digitale.fr/annuaire-start-up/fygr,1067529',\n",
       " 'https://www.usine-digitale.fr/annuaire-start-up/datacadabra,1067524',\n",
       " 'https://www.usine-digitale.fr/annuaire-start-up/buyco,1067519',\n",
       " 'https://www.usine-digitale.fr/annuaire-start-up/urban-canope-by-canopee-structures,1065919']"
      ]
     },
     "execution_count": 72,
     "metadata": {},
     "output_type": "execute_result"
    }
   ],
   "source": [
    "liste_su = recuperation_url(3) #### On récupère les url des startup des 3 premières pages\n",
    "liste_su"
   ]
  },
  {
   "cell_type": "code",
   "execution_count": 73,
   "metadata": {},
   "outputs": [
    {
     "data": {
      "text/plain": [
       "60"
      ]
     },
     "execution_count": 73,
     "metadata": {},
     "output_type": "execute_result"
    }
   ],
   "source": [
    "len(liste_su) #### 3 pages pour 60 élements"
   ]
  },
  {
   "cell_type": "code",
   "execution_count": 74,
   "metadata": {},
   "outputs": [
    {
     "data": {
      "text/plain": [
       "['https://www.usine-digitale.fr/annuaire-start-up/veracash,1092284',\n",
       " 'https://www.usine-digitale.fr/annuaire-start-up/tool-advisor,1092279',\n",
       " 'https://www.usine-digitale.fr/annuaire-start-up/peoplespheres,1092274',\n",
       " 'https://www.usine-digitale.fr/annuaire-start-up/ocus,1092264',\n",
       " 'https://www.usine-digitale.fr/annuaire-start-up/sunday,1089474',\n",
       " 'https://www.usine-digitale.fr/annuaire-start-up/onepilot,1089469',\n",
       " 'https://www.usine-digitale.fr/annuaire-start-up/imageens,1089464',\n",
       " 'https://www.usine-digitale.fr/annuaire-start-up/glimps,1089459',\n",
       " 'https://www.usine-digitale.fr/annuaire-start-up/joe,1088874',\n",
       " 'https://www.usine-digitale.fr/annuaire-start-up/cryptio,1088869',\n",
       " 'https://www.usine-digitale.fr/annuaire-start-up/altrnativ,1087754',\n",
       " 'https://www.usine-digitale.fr/annuaire-start-up/acasi,1087544',\n",
       " 'https://www.usine-digitale.fr/annuaire-start-up/onewealthplace,1083829',\n",
       " 'https://www.usine-digitale.fr/annuaire-start-up/nabla,1083819',\n",
       " 'https://www.usine-digitale.fr/annuaire-start-up/id5,1083809',\n",
       " 'https://www.usine-digitale.fr/annuaire-start-up/epycure,1083804',\n",
       " 'https://www.usine-digitale.fr/annuaire-start-up/sensaterra,1083039',\n",
       " 'https://www.usine-digitale.fr/annuaire-start-up/witick,1082504',\n",
       " 'https://www.usine-digitale.fr/annuaire-start-up/nothing2install,1082484',\n",
       " 'https://www.usine-digitale.fr/annuaire-start-up/la-maison-j-u-s,1082479',\n",
       " 'https://www.usine-digitale.fr/annuaire-start-up/pandaloc,1078979',\n",
       " 'https://www.usine-digitale.fr/annuaire-start-up/yooli,1078934',\n",
       " 'https://www.usine-digitale.fr/annuaire-start-up/to-see-or-not-to-see,1078929',\n",
       " 'https://www.usine-digitale.fr/annuaire-start-up/mypl,1078924',\n",
       " 'https://www.usine-digitale.fr/annuaire-start-up/jungle,1078539',\n",
       " 'https://www.usine-digitale.fr/annuaire-start-up/instant-system,1078534',\n",
       " 'https://www.usine-digitale.fr/annuaire-start-up/resilience,1074019',\n",
       " 'https://www.usine-digitale.fr/annuaire-start-up/my-bacchus,1074014',\n",
       " 'https://www.usine-digitale.fr/annuaire-start-up/babylone-growers,1073999',\n",
       " 'https://www.usine-digitale.fr/annuaire-start-up/welyb,1073169',\n",
       " 'https://www.usine-digitale.fr/annuaire-start-up/toopi-organics,1073159',\n",
       " 'https://www.usine-digitale.fr/annuaire-start-up/smart-sailors,1073154',\n",
       " 'https://www.usine-digitale.fr/annuaire-start-up/silvr,1073149',\n",
       " 'https://www.usine-digitale.fr/annuaire-start-up/cokpit,1073124',\n",
       " 'https://www.usine-digitale.fr/annuaire-start-up/le-kaba,1072694',\n",
       " 'https://www.usine-digitale.fr/annuaire-start-up/izi-family,1072689',\n",
       " 'https://www.usine-digitale.fr/annuaire-start-up/i-virtual,1072684',\n",
       " 'https://www.usine-digitale.fr/annuaire-start-up/fefe,1072679',\n",
       " 'https://www.usine-digitale.fr/annuaire-start-up/arianee,1072674',\n",
       " 'https://www.usine-digitale.fr/annuaire-start-up/ramify,1078984',\n",
       " 'https://www.usine-digitale.fr/annuaire-start-up/imop,1070899',\n",
       " 'https://www.usine-digitale.fr/annuaire-start-up/scalinx,1070894',\n",
       " 'https://www.usine-digitale.fr/annuaire-start-up/powder,1070889',\n",
       " 'https://www.usine-digitale.fr/annuaire-start-up/popscreen-games,1070884',\n",
       " 'https://www.usine-digitale.fr/annuaire-start-up/omie-cie-anciennement-merci-alternative,1068899',\n",
       " 'https://www.usine-digitale.fr/annuaire-start-up/mansa,1068894',\n",
       " 'https://www.usine-digitale.fr/annuaire-start-up/humancraft,1068889',\n",
       " 'https://www.usine-digitale.fr/annuaire-start-up/anozr-way,1068884',\n",
       " 'https://www.usine-digitale.fr/annuaire-start-up/all-virtual,1068879',\n",
       " 'https://www.usine-digitale.fr/annuaire-start-up/umi-united-motion-ideas,1068434',\n",
       " 'https://www.usine-digitale.fr/annuaire-start-up/maze,1068429',\n",
       " 'https://www.usine-digitale.fr/annuaire-start-up/trone,1068424',\n",
       " 'https://www.usine-digitale.fr/annuaire-start-up/luos,1067564',\n",
       " 'https://www.usine-digitale.fr/annuaire-start-up/dediz,1074009',\n",
       " 'https://www.usine-digitale.fr/annuaire-start-up/bonjour-henry-by-barbablanka,1074004',\n",
       " 'https://www.usine-digitale.fr/annuaire-start-up/isitu,1067554',\n",
       " 'https://www.usine-digitale.fr/annuaire-start-up/fygr,1067529',\n",
       " 'https://www.usine-digitale.fr/annuaire-start-up/datacadabra,1067524',\n",
       " 'https://www.usine-digitale.fr/annuaire-start-up/buyco,1067519',\n",
       " 'https://www.usine-digitale.fr/annuaire-start-up/urban-canope-by-canopee-structures,1065919']"
      ]
     },
     "execution_count": 74,
     "metadata": {},
     "output_type": "execute_result"
    }
   ],
   "source": [
    "liste_su"
   ]
  },
  {
   "cell_type": "code",
   "execution_count": 75,
   "metadata": {},
   "outputs": [
    {
     "name": "stdout",
     "output_type": "stream",
     "text": [
      "0\n",
      "1\n",
      "2\n",
      "3\n",
      "4\n"
     ]
    },
    {
     "data": {
      "text/plain": [
       "[('VeraCash',\n",
       "  'La start-up VeraCash développe un moyen de paiement alternatif.\\n\\r\\n\\tElle met à la disposition de ses clients des paiements dématérialisés en proposant un compte en ligne adossé à des métaux précieux, stockés en coffre sécurisé, utilisables à tout moment à travers une carte Mastercard, gratuite et sans commissions.\\n\\r\\n\\tLa fintech bordelaise revendique 30 000 clients et compte près de 1 500 nouveaux clients chaque mois.\\n\\r\\n\\tElle garde en coffres pour ses clients 22 tonnes de métaux précieux, dont 2 tonnes d’or et 20 tonnes d’argent.\\n\\r\\n\\tEn 2021, VeraCash réalise une levée de fonds de 2 millions d’euros en seed.\\n\\r\\n\\tCet apport au capital est mené par des investisseurs privés dont 80% en provenance de ses clients.\\n\\r\\n\\tCe tour de table va lui permettre d’accélérer sa croissance et de développer de nouveaux services.',\n",
       "  '2014-01-01',\n",
       "  'Administratif Légal Logiciels',\n",
       "  'contact@veracash.com',\n",
       "  'https://www.veracash.fr/',\n",
       "  '42 rue de Tauzia33800 Bordeaux',\n",
       "  '01 80 88 61 00',\n",
       "  'Lancée en 2014, la start-up VeraCash, filiale d’AuCOFFRE.com, est créée par Jean-François Faure.',\n",
       "  'Compte bancaire en ligne adossé à des métaux précieux physiques',\n",
       "  'Jean-François Faure',\n",
       "  'France'),\n",
       " ('Tool Advisor',\n",
       "  \"La start-up Tool Advisor développe une plateforme de conseils de logiciels à destination des entrepreneurs et décideurs.\\n\\r\\n\\tLa jeune pousse analyse, compare et décrypte les logiciels BtoB sur de nombreuses thématiques comme la signature électronique, la comptabilité, la facturation, l'emailing ou le marketing automation.\\n\\r\\n\\tCette solution réunit au sein d'un seul endroit l'ensemble des informations nécessaires pour choisir son logiciel et aider les entrepreneurs à faire le bon choix.\\n\\r\\n\\tTool Advisor c'est à la fois des analyses détaillées de chacun des logiciels et un outil pour découvrir rapidement et facilement le logiciel qui correspond au profil et aux besoins de l'entrepreneur.\",\n",
       "  '2021-02-15',\n",
       "  'Administratif Légal Logiciels',\n",
       "  'hello@tool-advisor.fr',\n",
       "  'https://tool-advisor.fr/',\n",
       "  '13 rue de Picpus 75012 Paris',\n",
       "  'XXX',\n",
       "  'La start-up Tool Advisor est créée en 2021 par Gatien Guemas.',\n",
       "  'Un outil qui oriente automatiquement les entrepreneurs et décideurs vers le logiciel qui leur correspond',\n",
       "  'Gatien Guemas',\n",
       "  'France'),\n",
       " ('PeopleSpheres',\n",
       "  'La start-up PeopleSpheres développe des solutions PaaS RH (Platform as a Service) dans le domaine des ressources humaines.\\n\\r\\n\\tElle propose des outils permettant aux entreprises de connecter et synchroniser tous leurs logiciels SaaS RH et d’accéder à une marketplace comptant 18 éditeurs partenaires.\\n\\r\\n\\tLa jeune pousse compte 260 clients parmi lesquels le groupe Provalliance, le groupe Vitamine T et Alpine Renault.\\n\\r\\n\\tEn 2021, PeopleSpheres réalise une levée de fonds de 8,5 millions d’euros.\\n\\r\\n\\tCet apport au capital est mené auprès d’Omnes, Irdi capital, UL Invest et Swen Capital Partners.\\n\\r\\n\\tPrésente en France et aux États-Unis, ce tour de table va lui permettre de poursuivre sa croissance et préparer son expansion internationale.',\n",
       "  '2014-01-01',\n",
       "  'Administratif Légal Logiciels',\n",
       "  'dpo@peoplespheres.com',\n",
       "  'https://peoplespheres.fr/',\n",
       "  '19 rue Alphonse de Neuville 75017 Paris',\n",
       "  '01 70 69 65 10',\n",
       "  'Lancée en 2014, la start-up PeopleSpheres est créée par Philippe Bloquet, expert dans le logiciel de ressources humaines.',\n",
       "  'Solutions PaaS (Platform as a Service) dans le domaine des ressources humaines',\n",
       "  'Philippe Bloquet',\n",
       "  'France \\r\\n\\tÉtats-Unis'),\n",
       " ('Ocus',\n",
       "  \"La start-up Ocus développe une plateforme de machine learning d'optimisation des images.\\n\\r\\n\\tElle propose d’automatiser la production de contenu visuel sur-mesure pour des marques d’envergure mondiale et d'analyser des informations pour évaluer la performance des contenus visuels diffusés par l'entreprise et s'adapter à chaque besoin.\\n\\r\\n\\tLa jeune pousse compte une communauté de 30 000 photographes et vidéastes et livre 4000 reportages photographiques par semaine pour des clients tels qu’UberEats, Radisson, Booking.com..., et opère dans plus de 120 pays.\\n\\r\\n\\tEn 2021, Ocus réalise une levée de fonds de 20 millions d’euros en seed.\\n\\r\\n\\tCet apport au capital est mené par Ring Capital, A/0 PropTech et Expon Capital.\\n\\r\\n\\tPrésente en France et aux États-Unis, ce tour de table va lui permettre de poursuivre son développement et de s’implanter dans de nouveaux produits.\",\n",
       "  '2016-01-20',\n",
       "  'Administratif Légal Logiciels',\n",
       "  'info@ocus.com',\n",
       "  'https://www.ocus.com/',\n",
       "  '86-90 rue Notre-Dame de Nazareth75003 Paris',\n",
       "  '07 56 79 59 27',\n",
       "  'Lancée en 2016, la start-up Ocus est créée par Thibaud Lemonnier et Julien Jacob.',\n",
       "  \"Plateforme de machine learning d'optimisation des images\",\n",
       "  'Thibaud Lemonnier Julien Jacob',\n",
       "  'France \\r\\n\\tÉtats-Unis'),\n",
       " ('Sunday',\n",
       "  \"La start-up Sunday développe une solution de paiement par QR Code pour les restaurants.\\n\\r\\n\\tElle propose une appli pour régler l'addition sans contact en moins de dix secondes permettant ainsi de gagner 15 minutes en moyenne par encaissement pour les clients et le personnel.\\n\\r\\n\\tCette solution permet également d'augmenter le taux de rotation des tables et d'améliorer les pourboires des serveurs.\\n\\r\\n\\tEn 2021, Sunday réalise une levée de fonds de 20 millions d’euros en seed.\\n\\r\\n\\tCet apport au capital est mené par Coatue Management, New Wave et des investisseurs privés.\\n\\r\\n\\tCe tour de table va lui permettre de se développer et de renforcer son équipe.\",\n",
       "  '2021-03-16',\n",
       "  'Administratif Légal Logiciels',\n",
       "  'press@sundayapp.com',\n",
       "  'https://sundayapp.com/',\n",
       "  '112 avenue de Paris94306 Vincennes',\n",
       "  'XXX',\n",
       "  'La start-up Sunday est créée en 2021 par Victor Lugger et Tigrane Seydoux, les fondateurs du groupe de restauration italienne Big Mamma, et Christine de Wendel.',\n",
       "  'Solution de paiement par QR Code pour les restaurants',\n",
       "  'Victor Lugger Tigrane Seydoux Christine de Wendel',\n",
       "  'France \\r\\n\\tEspagne \\r\\n\\tRoyaume-Uni \\r\\n\\tÉtats-Unis')]"
      ]
     },
     "execution_count": 75,
     "metadata": {},
     "output_type": "execute_result"
    }
   ],
   "source": [
    "##### Appeler la fonction sur l'objet crée\n",
    "\n",
    "recuperation_info(liste_su[0:5])"
   ]
  },
  {
   "cell_type": "code",
   "execution_count": 79,
   "metadata": {},
   "outputs": [
    {
     "name": "stdout",
     "output_type": "stream",
     "text": [
      "0\n",
      "1\n",
      "2\n",
      "3\n",
      "4\n",
      "5\n",
      "6\n",
      "7\n",
      "8\n",
      "9\n",
      "10\n"
     ]
    },
    {
     "data": {
      "text/html": [
       "<div>\n",
       "<style scoped>\n",
       "    .dataframe tbody tr th:only-of-type {\n",
       "        vertical-align: middle;\n",
       "    }\n",
       "\n",
       "    .dataframe tbody tr th {\n",
       "        vertical-align: top;\n",
       "    }\n",
       "\n",
       "    .dataframe thead th {\n",
       "        text-align: right;\n",
       "    }\n",
       "</style>\n",
       "<table border=\"1\" class=\"dataframe\">\n",
       "  <thead>\n",
       "    <tr style=\"text-align: right;\">\n",
       "      <th></th>\n",
       "      <th>nom</th>\n",
       "      <th>description</th>\n",
       "      <th>date_creation</th>\n",
       "      <th>marché</th>\n",
       "      <th>mail</th>\n",
       "      <th>site_web</th>\n",
       "      <th>adresse</th>\n",
       "      <th>telephone</th>\n",
       "      <th>presentation</th>\n",
       "      <th>solution</th>\n",
       "      <th>fondateur</th>\n",
       "      <th>pays</th>\n",
       "    </tr>\n",
       "  </thead>\n",
       "  <tbody>\n",
       "    <tr>\n",
       "      <th>0</th>\n",
       "      <td>VeraCash</td>\n",
       "      <td>La start-up VeraCash développe un moyen de pai...</td>\n",
       "      <td>2014-01-01</td>\n",
       "      <td>Administratif Légal Logiciels</td>\n",
       "      <td>contact@veracash.com</td>\n",
       "      <td>https://www.veracash.fr/</td>\n",
       "      <td>42 rue de Tauzia33800 Bordeaux</td>\n",
       "      <td>01 80 88 61 00</td>\n",
       "      <td>Lancée en 2014, la start-up VeraCash, filiale ...</td>\n",
       "      <td>Compte bancaire en ligne adossé à des métaux p...</td>\n",
       "      <td>Jean-François Faure</td>\n",
       "      <td>France</td>\n",
       "    </tr>\n",
       "    <tr>\n",
       "      <th>1</th>\n",
       "      <td>Tool Advisor</td>\n",
       "      <td>La start-up Tool Advisor développe une platefo...</td>\n",
       "      <td>2021-02-15</td>\n",
       "      <td>Administratif Légal Logiciels</td>\n",
       "      <td>hello@tool-advisor.fr</td>\n",
       "      <td>https://tool-advisor.fr/</td>\n",
       "      <td>13 rue de Picpus 75012 Paris</td>\n",
       "      <td>XXX</td>\n",
       "      <td>La start-up Tool Advisor est créée en 2021 par...</td>\n",
       "      <td>Un outil qui oriente automatiquement les entre...</td>\n",
       "      <td>Gatien Guemas</td>\n",
       "      <td>France</td>\n",
       "    </tr>\n",
       "    <tr>\n",
       "      <th>2</th>\n",
       "      <td>PeopleSpheres</td>\n",
       "      <td>La start-up PeopleSpheres développe des soluti...</td>\n",
       "      <td>2014-01-01</td>\n",
       "      <td>Administratif Légal Logiciels</td>\n",
       "      <td>dpo@peoplespheres.com</td>\n",
       "      <td>https://peoplespheres.fr/</td>\n",
       "      <td>19 rue Alphonse de Neuville 75017 Paris</td>\n",
       "      <td>01 70 69 65 10</td>\n",
       "      <td>Lancée en 2014, la start-up PeopleSpheres est ...</td>\n",
       "      <td>Solutions PaaS (Platform as a Service) dans le...</td>\n",
       "      <td>Philippe Bloquet</td>\n",
       "      <td>France  États-Unis</td>\n",
       "    </tr>\n",
       "    <tr>\n",
       "      <th>3</th>\n",
       "      <td>Ocus</td>\n",
       "      <td>La start-up Ocus développe une plateforme de m...</td>\n",
       "      <td>2016-01-20</td>\n",
       "      <td>Administratif Légal Logiciels</td>\n",
       "      <td>info@ocus.com</td>\n",
       "      <td>https://www.ocus.com/</td>\n",
       "      <td>86-90 rue Notre-Dame de Nazareth75003 Paris</td>\n",
       "      <td>07 56 79 59 27</td>\n",
       "      <td>Lancée en 2016, la start-up Ocus est créée par...</td>\n",
       "      <td>Plateforme de machine learning d'optimisation ...</td>\n",
       "      <td>Thibaud Lemonnier Julien Jacob</td>\n",
       "      <td>France  États-Unis</td>\n",
       "    </tr>\n",
       "    <tr>\n",
       "      <th>4</th>\n",
       "      <td>Sunday</td>\n",
       "      <td>La start-up Sunday développe une solution de p...</td>\n",
       "      <td>2021-03-16</td>\n",
       "      <td>Administratif Légal Logiciels</td>\n",
       "      <td>press@sundayapp.com</td>\n",
       "      <td>https://sundayapp.com/</td>\n",
       "      <td>112 avenue de Paris94306 Vincennes</td>\n",
       "      <td>XXX</td>\n",
       "      <td>La start-up Sunday est créée en 2021 par Victo...</td>\n",
       "      <td>Solution de paiement par QR Code pour les rest...</td>\n",
       "      <td>Victor Lugger Tigrane Seydoux Christine de Wendel</td>\n",
       "      <td>France  Espagne  Royaume-Uni  États-Unis</td>\n",
       "    </tr>\n",
       "    <tr>\n",
       "      <th>5</th>\n",
       "      <td>Onepilot</td>\n",
       "      <td>La start-up Onepilot offre une solution B2B d’...</td>\n",
       "      <td>2020-09-29</td>\n",
       "      <td>Administratif Légal Logiciels</td>\n",
       "      <td>hello@onepilot.co</td>\n",
       "      <td>https://onepilot.fr/</td>\n",
       "      <td>5 rue Lallier75009 Paris</td>\n",
       "      <td>XXX</td>\n",
       "      <td>Confrontés souvent au problème du support clie...</td>\n",
       "      <td>Solution B2B d’externalisation du service client</td>\n",
       "      <td>Kenza El Ghadouini Lucas Bornert Adrien Hugon ...</td>\n",
       "      <td>France</td>\n",
       "    </tr>\n",
       "    <tr>\n",
       "      <th>6</th>\n",
       "      <td>Imageens</td>\n",
       "      <td>Lancée en 2017, la start-up Imageens développe...</td>\n",
       "      <td>2017-05-01</td>\n",
       "      <td>Administratif Légal Logiciels</td>\n",
       "      <td>hello@imageens.com</td>\n",
       "      <td>https://www.imageens.com/</td>\n",
       "      <td>42 rue de Maubeuge75009 Paris</td>\n",
       "      <td>07 84 14 27 31</td>\n",
       "      <td>Imageens est un spin-off de l'AP-HP et Sorbonn...</td>\n",
       "      <td>Solution de prise de décision à destination de...</td>\n",
       "      <td>Spin-off de l'AP-HP et Sorbonne Université</td>\n",
       "      <td>France</td>\n",
       "    </tr>\n",
       "    <tr>\n",
       "      <th>7</th>\n",
       "      <td>Glimps</td>\n",
       "      <td>La start-up Glimps développe une technologie d...</td>\n",
       "      <td>2019-11-15</td>\n",
       "      <td>Administratif Légal Logiciels</td>\n",
       "      <td>contact@glimps.fr</td>\n",
       "      <td>https://www.glimps.fr</td>\n",
       "      <td>1137 A avenue des Champs Blancs 35510 Cesson-S...</td>\n",
       "      <td>XXX</td>\n",
       "      <td>La jeune pousse Glimps est créée en 2019 par F...</td>\n",
       "      <td>Technologie de détection et d’analyse des mena...</td>\n",
       "      <td>Frédéric Grelot Cyrille Vignon Jérémy Bouetard...</td>\n",
       "      <td>France</td>\n",
       "    </tr>\n",
       "    <tr>\n",
       "      <th>8</th>\n",
       "      <td>Joe</td>\n",
       "      <td>La start-up Joe développe une application de p...</td>\n",
       "      <td>2020-06-04</td>\n",
       "      <td>Administratif Légal Logiciels</td>\n",
       "      <td>contact@getjoe.co</td>\n",
       "      <td>http://www.joe-app.com</td>\n",
       "      <td>71 boulevard Lannes75116 Paris</td>\n",
       "      <td>01 42 87 63 88</td>\n",
       "      <td>Face à une demande grandissante de modèles de ...</td>\n",
       "      <td>Application de paiement fractionné</td>\n",
       "      <td>Kevin Ohana\\n\\tYohan Elbase</td>\n",
       "      <td>France</td>\n",
       "    </tr>\n",
       "    <tr>\n",
       "      <th>9</th>\n",
       "      <td>Cryptio</td>\n",
       "      <td>La start-up Cryptio développe une solution de ...</td>\n",
       "      <td>2018-04-24</td>\n",
       "      <td>Administratif Légal Logiciels</td>\n",
       "      <td>contact@cryptio.co</td>\n",
       "      <td>http://cryptio.co</td>\n",
       "      <td>5 parvis Alan Turing75013 Paris</td>\n",
       "      <td>XXX</td>\n",
       "      <td>Lancée en 2018, la start-up Cryptio est fondée...</td>\n",
       "      <td>Solution de comptabilité dédiée aux cryptomonn...</td>\n",
       "      <td>Antoine Scalia</td>\n",
       "      <td>France  États-Unis</td>\n",
       "    </tr>\n",
       "    <tr>\n",
       "      <th>10</th>\n",
       "      <td>Altrnativ</td>\n",
       "      <td>Altrnativ développe une solution d’anonymisati...</td>\n",
       "      <td>2020-06-24</td>\n",
       "      <td>Administratif Légal Logiciels</td>\n",
       "      <td>info@altrnativ.com</td>\n",
       "      <td>https://altrnativ.com/</td>\n",
       "      <td>10 rue de la Paix75002 Paris</td>\n",
       "      <td>01 76 36 01 70</td>\n",
       "      <td>Lancée en 2020, la start-up Altrnativ est fond...</td>\n",
       "      <td>Solution d’anonymisation des données</td>\n",
       "      <td>Eric Leandri</td>\n",
       "      <td>France</td>\n",
       "    </tr>\n",
       "  </tbody>\n",
       "</table>\n",
       "</div>"
      ],
      "text/plain": [
       "              nom                                        description  \\\n",
       "0        VeraCash  La start-up VeraCash développe un moyen de pai...   \n",
       "1    Tool Advisor  La start-up Tool Advisor développe une platefo...   \n",
       "2   PeopleSpheres  La start-up PeopleSpheres développe des soluti...   \n",
       "3            Ocus  La start-up Ocus développe une plateforme de m...   \n",
       "4          Sunday  La start-up Sunday développe une solution de p...   \n",
       "5        Onepilot  La start-up Onepilot offre une solution B2B d’...   \n",
       "6        Imageens  Lancée en 2017, la start-up Imageens développe...   \n",
       "7          Glimps  La start-up Glimps développe une technologie d...   \n",
       "8             Joe  La start-up Joe développe une application de p...   \n",
       "9         Cryptio  La start-up Cryptio développe une solution de ...   \n",
       "10      Altrnativ  Altrnativ développe une solution d’anonymisati...   \n",
       "\n",
       "   date_creation                         marché                   mail  \\\n",
       "0     2014-01-01  Administratif Légal Logiciels   contact@veracash.com   \n",
       "1     2021-02-15  Administratif Légal Logiciels  hello@tool-advisor.fr   \n",
       "2     2014-01-01  Administratif Légal Logiciels  dpo@peoplespheres.com   \n",
       "3     2016-01-20  Administratif Légal Logiciels          info@ocus.com   \n",
       "4     2021-03-16  Administratif Légal Logiciels    press@sundayapp.com   \n",
       "5     2020-09-29  Administratif Légal Logiciels      hello@onepilot.co   \n",
       "6     2017-05-01  Administratif Légal Logiciels     hello@imageens.com   \n",
       "7     2019-11-15  Administratif Légal Logiciels      contact@glimps.fr   \n",
       "8     2020-06-04  Administratif Légal Logiciels      contact@getjoe.co   \n",
       "9     2018-04-24  Administratif Légal Logiciels     contact@cryptio.co   \n",
       "10    2020-06-24  Administratif Légal Logiciels     info@altrnativ.com   \n",
       "\n",
       "                     site_web  \\\n",
       "0    https://www.veracash.fr/   \n",
       "1    https://tool-advisor.fr/   \n",
       "2   https://peoplespheres.fr/   \n",
       "3       https://www.ocus.com/   \n",
       "4      https://sundayapp.com/   \n",
       "5        https://onepilot.fr/   \n",
       "6   https://www.imageens.com/   \n",
       "7       https://www.glimps.fr   \n",
       "8      http://www.joe-app.com   \n",
       "9           http://cryptio.co   \n",
       "10     https://altrnativ.com/   \n",
       "\n",
       "                                              adresse       telephone  \\\n",
       "0                      42 rue de Tauzia33800 Bordeaux  01 80 88 61 00   \n",
       "1                        13 rue de Picpus 75012 Paris             XXX   \n",
       "2             19 rue Alphonse de Neuville 75017 Paris  01 70 69 65 10   \n",
       "3         86-90 rue Notre-Dame de Nazareth75003 Paris  07 56 79 59 27   \n",
       "4                  112 avenue de Paris94306 Vincennes             XXX   \n",
       "5                            5 rue Lallier75009 Paris             XXX   \n",
       "6                       42 rue de Maubeuge75009 Paris  07 84 14 27 31   \n",
       "7   1137 A avenue des Champs Blancs 35510 Cesson-S...             XXX   \n",
       "8                      71 boulevard Lannes75116 Paris  01 42 87 63 88   \n",
       "9                     5 parvis Alan Turing75013 Paris             XXX   \n",
       "10                       10 rue de la Paix75002 Paris  01 76 36 01 70   \n",
       "\n",
       "                                         presentation  \\\n",
       "0   Lancée en 2014, la start-up VeraCash, filiale ...   \n",
       "1   La start-up Tool Advisor est créée en 2021 par...   \n",
       "2   Lancée en 2014, la start-up PeopleSpheres est ...   \n",
       "3   Lancée en 2016, la start-up Ocus est créée par...   \n",
       "4   La start-up Sunday est créée en 2021 par Victo...   \n",
       "5   Confrontés souvent au problème du support clie...   \n",
       "6   Imageens est un spin-off de l'AP-HP et Sorbonn...   \n",
       "7   La jeune pousse Glimps est créée en 2019 par F...   \n",
       "8   Face à une demande grandissante de modèles de ...   \n",
       "9   Lancée en 2018, la start-up Cryptio est fondée...   \n",
       "10  Lancée en 2020, la start-up Altrnativ est fond...   \n",
       "\n",
       "                                             solution  \\\n",
       "0   Compte bancaire en ligne adossé à des métaux p...   \n",
       "1   Un outil qui oriente automatiquement les entre...   \n",
       "2   Solutions PaaS (Platform as a Service) dans le...   \n",
       "3   Plateforme de machine learning d'optimisation ...   \n",
       "4   Solution de paiement par QR Code pour les rest...   \n",
       "5    Solution B2B d’externalisation du service client   \n",
       "6   Solution de prise de décision à destination de...   \n",
       "7   Technologie de détection et d’analyse des mena...   \n",
       "8                  Application de paiement fractionné   \n",
       "9   Solution de comptabilité dédiée aux cryptomonn...   \n",
       "10               Solution d’anonymisation des données   \n",
       "\n",
       "                                            fondateur  \\\n",
       "0                                 Jean-François Faure   \n",
       "1                                       Gatien Guemas   \n",
       "2                                    Philippe Bloquet   \n",
       "3                      Thibaud Lemonnier Julien Jacob   \n",
       "4   Victor Lugger Tigrane Seydoux Christine de Wendel   \n",
       "5   Kenza El Ghadouini Lucas Bornert Adrien Hugon ...   \n",
       "6          Spin-off de l'AP-HP et Sorbonne Université   \n",
       "7   Frédéric Grelot Cyrille Vignon Jérémy Bouetard...   \n",
       "8                         Kevin Ohana\\n\\tYohan Elbase   \n",
       "9                                      Antoine Scalia   \n",
       "10                                       Eric Leandri   \n",
       "\n",
       "                                        pays  \n",
       "0                                     France  \n",
       "1                                     France  \n",
       "2                         France  États-Unis  \n",
       "3                         France  États-Unis  \n",
       "4   France  Espagne  Royaume-Uni  États-Unis  \n",
       "5                                     France  \n",
       "6                                     France  \n",
       "7                                     France  \n",
       "8                                     France  \n",
       "9                         France  États-Unis  \n",
       "10                                    France  "
      ]
     },
     "execution_count": 79,
     "metadata": {},
     "output_type": "execute_result"
    }
   ],
   "source": [
    "import pandas as pd\n",
    "\n",
    "df = pd.DataFrame(recuperation_info(liste_su[0:11]), columns=[\"nom\",\"description\",\"date_creation\", \"marché\", \"mail\", \"site_web\",\"adresse\", \"telephone\", \"presentation\", \"solution\", \"fondateur\", \"pays\"])\n",
    "df"
   ]
  },
  {
   "cell_type": "code",
   "execution_count": 80,
   "metadata": {},
   "outputs": [],
   "source": [
    "df.to_csv(\"export_startup.csv\")"
   ]
  },
  {
   "cell_type": "code",
   "execution_count": null,
   "metadata": {},
   "outputs": [],
   "source": []
  }
 ],
 "metadata": {
  "kernelspec": {
   "display_name": "Python 3",
   "language": "python",
   "name": "python3"
  },
  "language_info": {
   "codemirror_mode": {
    "name": "ipython",
    "version": 3
   },
   "file_extension": ".py",
   "mimetype": "text/x-python",
   "name": "python",
   "nbconvert_exporter": "python",
   "pygments_lexer": "ipython3",
   "version": "3.8.3"
  }
 },
 "nbformat": 4,
 "nbformat_minor": 4
}
